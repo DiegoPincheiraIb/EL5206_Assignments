{
  "nbformat": 4,
  "nbformat_minor": 0,
  "metadata": {
    "colab": {
      "name": "Proyecto_Imagenes.ipynb",
      "provenance": [],
      "collapsed_sections": [],
      "include_colab_link": true
    },
    "kernelspec": {
      "name": "python3",
      "display_name": "Python 3"
    }
  },
  "cells": [
    {
      "cell_type": "markdown",
      "metadata": {
        "id": "view-in-github",
        "colab_type": "text"
      },
      "source": [
        "<a href=\"https://colab.research.google.com/github/DiegoPincheiraIb/Experiencias_EL5206/blob/master/Proyecto_Imagenes.ipynb\" target=\"_parent\"><img src=\"https://colab.research.google.com/assets/colab-badge.svg\" alt=\"Open In Colab\"/></a>"
      ]
    },
    {
      "cell_type": "markdown",
      "metadata": {
        "id": "K1hHgFFyH7m-"
      },
      "source": [
        "# Proyecto Final Area Imagenes - Luckas Diaz y Diego Pincheira\r\n",
        "\r\n",
        "El objetivo de este proyecto final es desarrollar e implementar un algoritmo de búsqueda de imágenes similares basado en su contenido (Content Based Image Retrieval, CBIR). Para el desarrollo de este proyecto debe descargar la base de datos INRIA Holidays dataset. Debe descargar los archivos jpg1.tar.gz y jpg2.tar.gz.\r\n",
        "\r\n",
        "Link de para descargar: http://lear.inrialpes.fr/people/jegou/data.php\r\n",
        "\r\n",
        "Las imágenes de la base de datos sólo se pueden utilizar en este proyecto académico. Para cualquier otro uso se debe referenciar el trabajo: Herve Jegou, Matthijs Douze and Cordelia Schmid, \"Hamming Embedding and Weak geometry consistency for large scale image search\", Proceedings of the 10th European conference on Computer vision, October, 2008."
      ]
    },
    {
      "cell_type": "markdown",
      "metadata": {
        "id": "4Fo1vVPeq8Gc"
      },
      "source": [
        "## Imports"
      ]
    },
    {
      "cell_type": "code",
      "metadata": {
        "id": "YPTkxI08rA0D",
        "colab": {
          "base_uri": "https://localhost:8080/"
        },
        "outputId": "74bfce9e-8fbd-4da9-ccfb-daf86e576359"
      },
      "source": [
        "import os\r\n",
        "\r\n",
        "import matplotlib.pyplot as plt\r\n",
        "import matplotlib.image as mpimg \r\n",
        "\r\n",
        "import skimage.io as io\r\n",
        "from skimage import color, io, exposure\r\n",
        "from skimage.feature import hog\r\n",
        "\r\n",
        "from tensorflow.keras.applications.vgg16 import VGG16\r\n",
        "from tensorflow.keras.preprocessing import image\r\n",
        "from tensorflow.keras.applications.vgg16 import preprocess_input\r\n",
        "from sklearn.metrics.pairwise import euclidean_distances, cosine_distances\r\n",
        "import numpy as np\r\n",
        "from IPython.display import clear_output\r\n",
        "import cv2\r\n",
        "from google.colab.patches import cv2_imshow\r\n",
        "from scipy import ndimage, misc\r\n",
        "!pip install ipython-autotime\r\n",
        "%load_ext autotime"
      ],
      "execution_count": 3,
      "outputs": [
        {
          "output_type": "stream",
          "text": [
            "Collecting ipython-autotime\n",
            "  Downloading https://files.pythonhosted.org/packages/d6/c5/013f5aa3b56c6d2c58634bc979773df44ab2226cf4fa787daf0bfeeea0b4/ipython_autotime-0.3.0-py2.py3-none-any.whl\n",
            "Requirement already satisfied: ipython in /usr/local/lib/python3.6/dist-packages (from ipython-autotime) (5.5.0)\n",
            "Requirement already satisfied: simplegeneric>0.8 in /usr/local/lib/python3.6/dist-packages (from ipython->ipython-autotime) (0.8.1)\n",
            "Requirement already satisfied: pickleshare in /usr/local/lib/python3.6/dist-packages (from ipython->ipython-autotime) (0.7.5)\n",
            "Requirement already satisfied: pexpect; sys_platform != \"win32\" in /usr/local/lib/python3.6/dist-packages (from ipython->ipython-autotime) (4.8.0)\n",
            "Requirement already satisfied: pygments in /usr/local/lib/python3.6/dist-packages (from ipython->ipython-autotime) (2.6.1)\n",
            "Requirement already satisfied: traitlets>=4.2 in /usr/local/lib/python3.6/dist-packages (from ipython->ipython-autotime) (4.3.3)\n",
            "Requirement already satisfied: setuptools>=18.5 in /usr/local/lib/python3.6/dist-packages (from ipython->ipython-autotime) (51.0.0)\n",
            "Requirement already satisfied: decorator in /usr/local/lib/python3.6/dist-packages (from ipython->ipython-autotime) (4.4.2)\n",
            "Requirement already satisfied: prompt-toolkit<2.0.0,>=1.0.4 in /usr/local/lib/python3.6/dist-packages (from ipython->ipython-autotime) (1.0.18)\n",
            "Requirement already satisfied: ptyprocess>=0.5 in /usr/local/lib/python3.6/dist-packages (from pexpect; sys_platform != \"win32\"->ipython->ipython-autotime) (0.6.0)\n",
            "Requirement already satisfied: six in /usr/local/lib/python3.6/dist-packages (from traitlets>=4.2->ipython->ipython-autotime) (1.15.0)\n",
            "Requirement already satisfied: ipython-genutils in /usr/local/lib/python3.6/dist-packages (from traitlets>=4.2->ipython->ipython-autotime) (0.2.0)\n",
            "Requirement already satisfied: wcwidth in /usr/local/lib/python3.6/dist-packages (from prompt-toolkit<2.0.0,>=1.0.4->ipython->ipython-autotime) (0.2.5)\n",
            "Installing collected packages: ipython-autotime\n",
            "Successfully installed ipython-autotime-0.3.0\n",
            "time: 161 µs (started: 2020-12-25 21:09:48 +00:00)\n"
          ],
          "name": "stdout"
        }
      ]
    },
    {
      "cell_type": "markdown",
      "metadata": {
        "id": "7lOUaRAbJee-"
      },
      "source": [
        "## Cargar datos a Colab"
      ]
    },
    {
      "cell_type": "markdown",
      "metadata": {
        "id": "VFtLlptGnMlX"
      },
      "source": [
        "### Desde disco local"
      ]
    },
    {
      "cell_type": "markdown",
      "metadata": {
        "id": "zKX29j8ZJk5Y"
      },
      "source": [
        "Aqui se deben cargar los archivos jpg1.tar.gz y jpg2.tar.gz"
      ]
    },
    {
      "cell_type": "code",
      "metadata": {
        "id": "Qj8oSo6w9MCZ"
      },
      "source": [
        "from google.colab import files\r\n",
        "uploaded = files.upload()"
      ],
      "execution_count": null,
      "outputs": []
    },
    {
      "cell_type": "markdown",
      "metadata": {
        "id": "Fu2f6jeEbNOj"
      },
      "source": [
        "### Desde Drive"
      ]
    },
    {
      "cell_type": "code",
      "metadata": {
        "colab": {
          "base_uri": "https://localhost:8080/"
        },
        "id": "o9vw8TiKxH-d",
        "outputId": "f4df46c0-7c4e-4c15-95c3-78573f8b8935"
      },
      "source": [
        "from google.colab import drive\r\n",
        "drive.mount('/content/drive')"
      ],
      "execution_count": 4,
      "outputs": [
        {
          "output_type": "stream",
          "text": [
            "Mounted at /content/drive\n",
            "time: 27.2 s (started: 2020-12-25 21:09:48 +00:00)\n"
          ],
          "name": "stdout"
        }
      ]
    },
    {
      "cell_type": "code",
      "metadata": {
        "colab": {
          "base_uri": "https://localhost:8080/"
        },
        "id": "EpIZCrPUdSei",
        "outputId": "d324821d-da64-4ded-f624-e1c043e21241"
      },
      "source": [
        "!ls"
      ],
      "execution_count": 3,
      "outputs": [
        {
          "output_type": "stream",
          "text": [
            "drive  sample_data\n",
            "time: 124 ms (started: 2020-12-24 18:42:45 +00:00)\n"
          ],
          "name": "stdout"
        }
      ]
    },
    {
      "cell_type": "code",
      "metadata": {
        "colab": {
          "base_uri": "https://localhost:8080/"
        },
        "id": "qr6GHlBndY5U",
        "outputId": "1a8f38f0-7e3f-402b-ec06-a57d8a6e8f50"
      },
      "source": [
        "%cd drive/MyDrive/Proyecto-Imagenes/"
      ],
      "execution_count": 5,
      "outputs": [
        {
          "output_type": "stream",
          "text": [
            "/content/drive/MyDrive/Proyecto-Imagenes\n",
            "time: 13.8 ms (started: 2020-12-25 21:10:17 +00:00)\n"
          ],
          "name": "stdout"
        }
      ]
    },
    {
      "cell_type": "code",
      "metadata": {
        "colab": {
          "base_uri": "https://localhost:8080/"
        },
        "id": "eoHo6NH4ddKB",
        "outputId": "93bfe6bc-21a0-468e-a743-5d584c986fbb"
      },
      "source": [
        "!ls"
      ],
      "execution_count": 2,
      "outputs": [
        {
          "output_type": "stream",
          "text": [
            "sample_data\n"
          ],
          "name": "stdout"
        }
      ]
    },
    {
      "cell_type": "code",
      "metadata": {
        "id": "KPVDHRRum3ro"
      },
      "source": [
        "!mkdir 'jpg1'\r\n",
        "!mkdir 'jpg2'"
      ],
      "execution_count": 8,
      "outputs": []
    },
    {
      "cell_type": "code",
      "metadata": {
        "id": "9LX5Jv9hkFMC"
      },
      "source": [
        "!tar -xvf  'jpg1.tar.gz' -C 'jpg1'\r\n",
        "!tar -xvf  'jpg2.tar.gz' -C 'jpg2'\r\n",
        "clear_output()\r\n",
        "print('listo!')"
      ],
      "execution_count": null,
      "outputs": []
    },
    {
      "cell_type": "code",
      "metadata": {
        "colab": {
          "base_uri": "https://localhost:8080/"
        },
        "id": "8USbfBisyf9j",
        "outputId": "2e3093a4-95f2-4d95-a350-239f013b6308"
      },
      "source": [
        "!ls"
      ],
      "execution_count": 11,
      "outputs": [
        {
          "output_type": "stream",
          "text": [
            "jpg1  jpg1.tar.gz  jpg2  jpg2.tar.gz\n",
            "time: 27.9 ms (started: 2020-12-24 23:41:23 +00:00)\n"
          ],
          "name": "stdout"
        }
      ]
    },
    {
      "cell_type": "markdown",
      "metadata": {
        "id": "F9GFi2xiqTbq"
      },
      "source": [
        "## Obtener paths de imagenes"
      ]
    },
    {
      "cell_type": "code",
      "metadata": {
        "id": "_Vg2i8gSqSnC",
        "colab": {
          "base_uri": "https://localhost:8080/"
        },
        "outputId": "dadea3ca-191e-42be-f265-af161aedad4d"
      },
      "source": [
        "path_jpg1 = 'jpg1/jpg'\r\n",
        "path_jpg2 = 'jpg2/jpg'\r\n",
        "Listado_jpg1 = os.listdir(path_jpg1)\r\n",
        "Listado_jpg2 = os.listdir(path_jpg2)\r\n",
        "print(Listado_jpg1)\r\n",
        "print(Listado_jpg2)"
      ],
      "execution_count": 6,
      "outputs": [
        {
          "output_type": "stream",
          "text": [
            "['100000.jpg', '100001.jpg', '100101.jpg', '100200.jpg', '100100.jpg', '100201.jpg', '100301.jpg', '100302.jpg', '100300.jpg', '100002.jpg', '100401.jpg', '100400.jpg', '100701.jpg', '100503.jpg', '100601.jpg', '100501.jpg', '100600.jpg', '100700.jpg', '100500.jpg', '100502.jpg', '100902.jpg', '100800.jpg', '100801.jpg', '101001.jpg', '101101.jpg', '101100.jpg', '100900.jpg', '101200.jpg', '100901.jpg', '101000.jpg', '101201.jpg', '101503.jpg', '101501.jpg', '101504.jpg', '101404.jpg', '101300.jpg', '101402.jpg', '101401.jpg', '101301.jpg', '101500.jpg', '101502.jpg', '101400.jpg', '101403.jpg', '102000.jpg', '101901.jpg', '101600.jpg', '101800.jpg', '101701.jpg', '101700.jpg', '102001.jpg', '101702.jpg', '101601.jpg', '102100.jpg', '101801.jpg', '101900.jpg', '102302.jpg', '102201.jpg', '102101.jpg', '102301.jpg', '102200.jpg', '102202.jpg', '102300.jpg', '102402.jpg', '102700.jpg', '102601.jpg', '102400.jpg', '102800.jpg', '102501.jpg', '102801.jpg', '102500.jpg', '102303.jpg', '102701.jpg', '102401.jpg', '102600.jpg', '102802.jpg', '103102.jpg', '103000.jpg', '102900.jpg', '103002.jpg', '103101.jpg', '103201.jpg', '102901.jpg', '103100.jpg', '103200.jpg', '103001.jpg', '103303.jpg', '103203.jpg', '103204.jpg', '103400.jpg', '103304.jpg', '103301.jpg', '103202.jpg', '103302.jpg', '103300.jpg', '103500.jpg', '103501.jpg', '103600.jpg', '103503.jpg', '103502.jpg', '103401.jpg', '103700.jpg', '103601.jpg', '103902.jpg', '103800.jpg', '103701.jpg', '104000.jpg', '103900.jpg', '103801.jpg', '103702.jpg', '103901.jpg', '104005.jpg', '104101.jpg', '104001.jpg', '104003.jpg', '104006.jpg', '104200.jpg', '104100.jpg', '104201.jpg', '104004.jpg', '104002.jpg', '104202.jpg', '104502.jpg', '104301.jpg', '104401.jpg', '104501.jpg', '104300.jpg', '104400.jpg', '104203.jpg', '104402.jpg', '104500.jpg', '104801.jpg', '104600.jpg', '104800.jpg', '104701.jpg', '104601.jpg', '104900.jpg', '104700.jpg', '104802.jpg', '105100.jpg', '104902.jpg', '105103.jpg', '105002.jpg', '105000.jpg', '105101.jpg', '105102.jpg', '105001.jpg', '104901.jpg', '105104.jpg', '105201.jpg', '105500.jpg', '105300.jpg', '105301.jpg', '105400.jpg', '105401.jpg', '105501.jpg', '105200.jpg', '105601.jpg', '105600.jpg', '105800.jpg', '105802.jpg', '105701.jpg', '105801.jpg', '105900.jpg', '105700.jpg', '106000.jpg', '106201.jpg', '106100.jpg', '106001.jpg', '106002.jpg', '105901.jpg', '106200.jpg', '106101.jpg', '106403.jpg', '106400.jpg', '106402.jpg', '106202.jpg', '106300.jpg', '106401.jpg', '106301.jpg', '106500.jpg', '106601.jpg', '106602.jpg', '106604.jpg', '106603.jpg', '106600.jpg', '106501.jpg', '106700.jpg', '106701.jpg', '106703.jpg', '106605.jpg', '106606.jpg', '106704.jpg', '106702.jpg', '106901.jpg', '106800.jpg', '106900.jpg', '106903.jpg', '107001.jpg', '106902.jpg', '106801.jpg', '107000.jpg', '107100.jpg', '107300.jpg', '107202.jpg', '107101.jpg', '107301.jpg', '107200.jpg', '107400.jpg', '107203.jpg', '107201.jpg', '107701.jpg', '107501.jpg', '107401.jpg', '107601.jpg', '107500.jpg', '107700.jpg', '107600.jpg', '107900.jpg', '107901.jpg', '107800.jpg', '107902.jpg', '107801.jpg', '107702.jpg', '108106.jpg', '108103.jpg', '108104.jpg', '108001.jpg', '108105.jpg', '108102.jpg', '108101.jpg', '108100.jpg', '108000.jpg', '108200.jpg', '108201.jpg', '108400.jpg', '108601.jpg', '108500.jpg', '108300.jpg', '108600.jpg', '108203.jpg', '108301.jpg', '108202.jpg', '108501.jpg', '108401.jpg', '108902.jpg', '108800.jpg', '108901.jpg', '108701.jpg', '108700.jpg', '108801.jpg', '109100.jpg', '108900.jpg', '108802.jpg', '109000.jpg', '109001.jpg', '109200.jpg', '109402.jpg', '109300.jpg', '109401.jpg', '109600.jpg', '109400.jpg', '109101.jpg', '109501.jpg', '109201.jpg', '109301.jpg', '109500.jpg', '110001.jpg', '109701.jpg', '109601.jpg', '109800.jpg', '110101.jpg', '109900.jpg', '109801.jpg', '109802.jpg', '110000.jpg', '109901.jpg', '109700.jpg', '110100.jpg', '110300.jpg', '110201.jpg', '110500.jpg', '110401.jpg', '110400.jpg', '110501.jpg', '110302.jpg', '110200.jpg', '110301.jpg', '110600.jpg', '110901.jpg', '110700.jpg', '110801.jpg', '110601.jpg', '110900.jpg', '110702.jpg', '110800.jpg', '110701.jpg', '110802.jpg', '111100.jpg', '111401.jpg', '111200.jpg', '111400.jpg', '111000.jpg', '111301.jpg', '111001.jpg', '111002.jpg', '111201.jpg', '111300.jpg', '111101.jpg', '111703.jpg', '111702.jpg', '111701.jpg', '111700.jpg', '111601.jpg', '111600.jpg', '111501.jpg', '111500.jpg', '111800.jpg', '112002.jpg', '112101.jpg', '112100.jpg', '112003.jpg', '112300.jpg', '112201.jpg', '111901.jpg', '112200.jpg', '112000.jpg', '112001.jpg', '112301.jpg', '111801.jpg', '111900.jpg', '112400.jpg', '112401.jpg', '112302.jpg', '112402.jpg', '112404.jpg', '112405.jpg', '112403.jpg', '112408.jpg', '112406.jpg', '112407.jpg', '112700.jpg', '112600.jpg', '112701.jpg', '112801.jpg', '112500.jpg', '112501.jpg', '112800.jpg', '112602.jpg', '112601.jpg', '112900.jpg', '113100.jpg', '113001.jpg', '113000.jpg', '112902.jpg', '112901.jpg', '113200.jpg', '113101.jpg', '113201.jpg', '113300.jpg', '113402.jpg', '113301.jpg', '113401.jpg', '113400.jpg', '113501.jpg', '113404.jpg', '113700.jpg', '113502.jpg', '113701.jpg', '113601.jpg', '113600.jpg', '113403.jpg', '113800.jpg', '113500.jpg', '113801.jpg', '114002.jpg', '113900.jpg', '114000.jpg', '114001.jpg', '114201.jpg', '114200.jpg', '114301.jpg', '114300.jpg', '114101.jpg', '114100.jpg', '113901.jpg', '114601.jpg', '114700.jpg', '114402.jpg', '114504.jpg', '114500.jpg', '114702.jpg', '114701.jpg', '114503.jpg', '114502.jpg', '114600.jpg', '114703.jpg', '114400.jpg', '114401.jpg', '114501.jpg', '114902.jpg', '114801.jpg', '114901.jpg', '115000.jpg', '115101.jpg', '115001.jpg', '114900.jpg', '115100.jpg', '115200.jpg', '114800.jpg', '114903.jpg', '115601.jpg', '115300.jpg', '115602.jpg', '115401.jpg', '115500.jpg', '115501.jpg', '115201.jpg', '115400.jpg', '115301.jpg', '115600.jpg', '115801.jpg', '115702.jpg', '115701.jpg', '115800.jpg', '115700.jpg', '115902.jpg', '115901.jpg', '115900.jpg', '116200.jpg', '116100.jpg', '116301.jpg', '116101.jpg', '116002.jpg', '116400.jpg', '116000.jpg', '116001.jpg', '116401.jpg', '116201.jpg', '116300.jpg', '116501.jpg', '116703.jpg', '116600.jpg', '116402.jpg', '116500.jpg', '116700.jpg', '116601.jpg', '116702.jpg', '116701.jpg', '116901.jpg', '117101.jpg', '116900.jpg', '117000.jpg', '116800.jpg', '116801.jpg', '117100.jpg', '116803.jpg', '116802.jpg', '117001.jpg', '117400.jpg', '117102.jpg', '117500.jpg', '117201.jpg', '117301.jpg', '117402.jpg', '117501.jpg', '117200.jpg', '117403.jpg', '117302.jpg', '117401.jpg', '117600.jpg', '117300.jpg', '118000.jpg', '117801.jpg', '117900.jpg', '117800.jpg', '118001.jpg', '117700.jpg', '117701.jpg', '117901.jpg', '117601.jpg', '117802.jpg', '118201.jpg', '118101.jpg', '118200.jpg', '118100.jpg', '118202.jpg', '118002.jpg', '118003.jpg', '118500.jpg', '118303.jpg', '118402.jpg', '118401.jpg', '118501.jpg', '118302.jpg', '118400.jpg', '118600.jpg', '118300.jpg', '118301.jpg', '118901.jpg', '118601.jpg', '118900.jpg', '118802.jpg', '118700.jpg', '118803.jpg', '118801.jpg', '118701.jpg', '118800.jpg', '119200.jpg', '119101.jpg', '119300.jpg', '119100.jpg', '119202.jpg', '119201.jpg', '119203.jpg', '119000.jpg', '119001.jpg', '119400.jpg', '119600.jpg', '119501.jpg', '119301.jpg', '119500.jpg', '119601.jpg', '119401.jpg', '119602.jpg', '119700.jpg', '119703.jpg', '119604.jpg', '119605.jpg', '119701.jpg', '119702.jpg', '119603.jpg', '119704.jpg', '119800.jpg', '119900.jpg', '120100.jpg', '120001.jpg', '119801.jpg', '119901.jpg', '120000.jpg', '120101.jpg', '120301.jpg', '120500.jpg', '120200.jpg', '120201.jpg', '120400.jpg', '120300.jpg', '120401.jpg', '120501.jpg', '120601.jpg', '120700.jpg', '120702.jpg', '120703.jpg', '120701.jpg', '120600.jpg', '121001.jpg', '121101.jpg', '121000.jpg', '120801.jpg', '120901.jpg', '120800.jpg', '120900.jpg', '121100.jpg', '121201.jpg', '121400.jpg', '121300.jpg', '121301.jpg', '121402.jpg', '121401.jpg', '121403.jpg', '121200.jpg', '121700.jpg', '121601.jpg', '121500.jpg', '121800.jpg', '121404.jpg', '121600.jpg', '121701.jpg', '121501.jpg', '122101.jpg', '121801.jpg', '121901.jpg', '122200.jpg', '122001.jpg', '122100.jpg', '122000.jpg', '122002.jpg', '121900.jpg', '122102.jpg', '122500.jpg', '122201.jpg', '122302.jpg', '122400.jpg', '122203.jpg', '122301.jpg', '122202.jpg', '122402.jpg', '122401.jpg', '122300.jpg', '122702.jpg', '122601.jpg', '122503.jpg', '122502.jpg', '122700.jpg', '122504.jpg', '122600.jpg', '122501.jpg', '122701.jpg', '122602.jpg', '122708.jpg', '122709.jpg', '122706.jpg', '122703.jpg', '123000.jpg', '122707.jpg', '122900.jpg', '122901.jpg', '122801.jpg', '122705.jpg', '122704.jpg', '122800.jpg', '123203.jpg', '123001.jpg', '123201.jpg', '123101.jpg', '123003.jpg', '123200.jpg', '123202.jpg', '123100.jpg', '123002.jpg', '123204.jpg', '123402.jpg', '123205.jpg', '123301.jpg', '123400.jpg', '123300.jpg', '123403.jpg', '123401.jpg', '123404.jpg', '123602.jpg', '123800.jpg', '123700.jpg', '123601.jpg', '123701.jpg', '123500.jpg', '123600.jpg', '123501.jpg', '123900.jpg', '123801.jpg', '123901.jpg', '124002.jpg', '124003.jpg', '124000.jpg', '124001.jpg', '124100.jpg', '124302.jpg', '124400.jpg', '124201.jpg', '124300.jpg', '124101.jpg', '124401.jpg', '124301.jpg', '124200.jpg', '124202.jpg', '124900.jpg', '124601.jpg', '124402.jpg', '124801.jpg', '124701.jpg', '124700.jpg', '124600.jpg', '124800.jpg', '124501.jpg', '124500.jpg', '124802.jpg', '124901.jpg', '125203.jpg', '125101.jpg', '125300.jpg', '125001.jpg', '125102.jpg', '125202.jpg', '125200.jpg', '125000.jpg', '125201.jpg', '125100.jpg', '125301.jpg', '125501.jpg', '125601.jpg', '125600.jpg', '125400.jpg', '125401.jpg', '125500.jpg', '125900.jpg', '125801.jpg', '125703.jpg', '125702.jpg', '125700.jpg', '125901.jpg', '125701.jpg', '125802.jpg', '125800.jpg', '126000.jpg', '126002.jpg', '126100.jpg', '126001.jpg', '126101.jpg', '126200.jpg', '126301.jpg', '126300.jpg', '126102.jpg', '126500.jpg', '126402.jpg', '126400.jpg', '126401.jpg', '126201.jpg', '126202.jpg', '126701.jpg', '126502.jpg', '126601.jpg', '126501.jpg', '126700.jpg', '126600.jpg', '126702.jpg', '126802.jpg', '126801.jpg', '126703.jpg', '126803.jpg', '126800.jpg', '126704.jpg', '126705.jpg', '126804.jpg', '126805.jpg', '126807.jpg', '126902.jpg', '127000.jpg', '126900.jpg', '126808.jpg', '126901.jpg', '126806.jpg', '127401.jpg', '127200.jpg', '127202.jpg', '127001.jpg', '127201.jpg', '127101.jpg', '127300.jpg', '127400.jpg', '127100.jpg', '127301.jpg', '127502.jpg', '127501.jpg', '127403.jpg', '127600.jpg', '127503.jpg', '127602.jpg', '127500.jpg', '127402.jpg', '127601.jpg', '127800.jpg', '127701.jpg', '127900.jpg', '127700.jpg', '127901.jpg', '127802.jpg', '128000.jpg', '127801.jpg', '128001.jpg', '128200.jpg', '128101.jpg', '128301.jpg', '128002.jpg', '128300.jpg', '128100.jpg', '128400.jpg', '128201.jpg', '128500.jpg', '128501.jpg', '128401.jpg', '128800.jpg', '128502.jpg', '128700.jpg', '128601.jpg', '128600.jpg', '128701.jpg', '129002.jpg', '129001.jpg', '129100.jpg', '129000.jpg', '129003.jpg', '128900.jpg', '128901.jpg', '128801.jpg', '129101.jpg', '129300.jpg', '129301.jpg', '129400.jpg', '129401.jpg', '129601.jpg', '129501.jpg', '129500.jpg', '129202.jpg', '129201.jpg', '129200.jpg', '129600.jpg', '129900.jpg', '129800.jpg', '129700.jpg', '129802.jpg', '129801.jpg', '129602.jpg', '129701.jpg', '129901.jpg']\n",
            "['130100.jpg', '130101.jpg', '130200.jpg', '130300.jpg', '130102.jpg', '130000.jpg', '130001.jpg', '130201.jpg', '130501.jpg', '130400.jpg', '130303.jpg', '130302.jpg', '130500.jpg', '130401.jpg', '130301.jpg', '130802.jpg', '130600.jpg', '130601.jpg', '130901.jpg', '130900.jpg', '131000.jpg', '130800.jpg', '130801.jpg', '130700.jpg', '130701.jpg', '131101.jpg', '131201.jpg', '131301.jpg', '131100.jpg', '131200.jpg', '131300.jpg', '131001.jpg', '131102.jpg', '131503.jpg', '131400.jpg', '131602.jpg', '131500.jpg', '131501.jpg', '131402.jpg', '131401.jpg', '131600.jpg', '131502.jpg', '131601.jpg', '131603.jpg', '131803.jpg', '131701.jpg', '131700.jpg', '131805.jpg', '131804.jpg', '131801.jpg', '131802.jpg', '131800.jpg', '132200.jpg', '132000.jpg', '132101.jpg', '131900.jpg', '132102.jpg', '132001.jpg', '131901.jpg', '132100.jpg', '132300.jpg', '132303.jpg', '132302.jpg', '132401.jpg', '132201.jpg', '132400.jpg', '132301.jpg', '132402.jpg', '132500.jpg', '132505.jpg', '132502.jpg', '132504.jpg', '132503.jpg', '132501.jpg', '132508.jpg', '132506.jpg', '132511.jpg', '132509.jpg', '132510.jpg', '132507.jpg', '132700.jpg', '132800.jpg', '132601.jpg', '132900.jpg', '132801.jpg', '132701.jpg', '132902.jpg', '132600.jpg', '132901.jpg', '133100.jpg', '133002.jpg', '133001.jpg', '133101.jpg', '133003.jpg', '133000.jpg', '133201.jpg', '133200.jpg', '133301.jpg', '133300.jpg', '133202.jpg', '133400.jpg', '133500.jpg', '133602.jpg', '133501.jpg', '133700.jpg', '133601.jpg', '133701.jpg', '133401.jpg', '133600.jpg', '133800.jpg', '133703.jpg', '133900.jpg', '133802.jpg', '133801.jpg', '133901.jpg', '133702.jpg', '134100.jpg', '134101.jpg', '134000.jpg', '134301.jpg', '134001.jpg', '134300.jpg', '134002.jpg', '134003.jpg', '134200.jpg', '134201.jpg', '134502.jpg', '134403.jpg', '134400.jpg', '134402.jpg', '134401.jpg', '134500.jpg', '134501.jpg', '134504.jpg', '134503.jpg', '134602.jpg', '134601.jpg', '134600.jpg', '134703.jpg', '134700.jpg', '134603.jpg', '134604.jpg', '134701.jpg', '134605.jpg', '134702.jpg', '134802.jpg', '134803.jpg', '134801.jpg', '134900.jpg', '134901.jpg', '134804.jpg', '134800.jpg', '135001.jpg', '135100.jpg', '135101.jpg', '135000.jpg', '135003.jpg', '135002.jpg', '135301.jpg', '135400.jpg', '135302.jpg', '135300.jpg', '135201.jpg', '135102.jpg', '135103.jpg', '135200.jpg', '135104.jpg', '135501.jpg', '135500.jpg', '135402.jpg', '135503.jpg', '135401.jpg', '135502.jpg', '135700.jpg', '135701.jpg', '135702.jpg', '135600.jpg', '135601.jpg', '135801.jpg', '135901.jpg', '135703.jpg', '135900.jpg', '135802.jpg', '135800.jpg', '136001.jpg', '135902.jpg', '136000.jpg', '136005.jpg', '136002.jpg', '136004.jpg', '136003.jpg', '136006.jpg', '136010.jpg', '136008.jpg', '136007.jpg', '136100.jpg', '136009.jpg', '136201.jpg', '136103.jpg', '136102.jpg', '136200.jpg', '136101.jpg', '136202.jpg', '136400.jpg', '136402.jpg', '136300.jpg', '136203.jpg', '136500.jpg', '136401.jpg', '136301.jpg', '136403.jpg', '136504.jpg', '136503.jpg', '136600.jpg', '136601.jpg', '136502.jpg', '136505.jpg', '136501.jpg', '136700.jpg', '136702.jpg', '136704.jpg', '136703.jpg', '136705.jpg', '136701.jpg', '136802.jpg', '136707.jpg', '136801.jpg', '136800.jpg', '136804.jpg', '136803.jpg', '136706.jpg', '136903.jpg', '136902.jpg', '137000.jpg', '136805.jpg', '136900.jpg', '136901.jpg', '137006.jpg', '137001.jpg', '137004.jpg', '137002.jpg', '137005.jpg', '137003.jpg', '137100.jpg', '137103.jpg', '137101.jpg', '137007.jpg', '137102.jpg', '137200.jpg', '137300.jpg', '137401.jpg', '137302.jpg', '137502.jpg', '137501.jpg', '137400.jpg', '137500.jpg', '137201.jpg', '137301.jpg', '137603.jpg', '137601.jpg', '137504.jpg', '137503.jpg', '137600.jpg', '137700.jpg', '137701.jpg', '137602.jpg', '137705.jpg', '137802.jpg', '137801.jpg', '137702.jpg', '137703.jpg', '137704.jpg', '137800.jpg', '137900.jpg', '138002.jpg', '137901.jpg', '138001.jpg', '138000.jpg', '138003.jpg', '138004.jpg', '138005.jpg', '138009.jpg', '138011.jpg', '138010.jpg', '138006.jpg', '138008.jpg', '138012.jpg', '138007.jpg', '138105.jpg', '138100.jpg', '138102.jpg', '138103.jpg', '138101.jpg', '138104.jpg', '138300.jpg', '138301.jpg', '138203.jpg', '138202.jpg', '138201.jpg', '138200.jpg', '138302.jpg', '138309.jpg', '138305.jpg', '138307.jpg', '138303.jpg', '138308.jpg', '138306.jpg', '138304.jpg', '138401.jpg', '138505.jpg', '138400.jpg', '138500.jpg', '138504.jpg', '138502.jpg', '138503.jpg', '138501.jpg', '138601.jpg', '138602.jpg', '138600.jpg', '138507.jpg', '138506.jpg', '138700.jpg', '138701.jpg', '138604.jpg', '138605.jpg', '138603.jpg', '138705.jpg', '138702.jpg', '138706.jpg', '138703.jpg', '138707.jpg', '138704.jpg', '138802.jpg', '138803.jpg', '138900.jpg', '138708.jpg', '138801.jpg', '138800.jpg', '138902.jpg', '138904.jpg', '138901.jpg', '138905.jpg', '138903.jpg', '139000.jpg', '139001.jpg', '139002.jpg', '139003.jpg', '139004.jpg', '139005.jpg', '139105.jpg', '139200.jpg', '139101.jpg', '139103.jpg', '139104.jpg', '139102.jpg', '139100.jpg', '139203.jpg', '139204.jpg', '139201.jpg', '139202.jpg', '139205.jpg', '139300.jpg', '139401.jpg', '139303.jpg', '139400.jpg', '139301.jpg', '139302.jpg', '139500.jpg', '139502.jpg', '139501.jpg', '139404.jpg', '139403.jpg', '139402.jpg', '139602.jpg', '139503.jpg', '139506.jpg', '139504.jpg', '139603.jpg', '139601.jpg', '139505.jpg', '139600.jpg', '139701.jpg', '140000.jpg', '139800.jpg', '139901.jpg', '140001.jpg', '139700.jpg', '139801.jpg', '139900.jpg', '140500.jpg', '140300.jpg', '140101.jpg', '140100.jpg', '140401.jpg', '140400.jpg', '140200.jpg', '140301.jpg', '140201.jpg', '140700.jpg', '140601.jpg', '140503.jpg', '140600.jpg', '140501.jpg', '140502.jpg', '140801.jpg', '140802.jpg', '140701.jpg', '140800.jpg', '140803.jpg', '141000.jpg', '141001.jpg', '140900.jpg', '140901.jpg', '140902.jpg', '141101.jpg', '141100.jpg', '141301.jpg', '141304.jpg', '141303.jpg', '141302.jpg', '141200.jpg', '141202.jpg', '141300.jpg', '141201.jpg', '141700.jpg', '141501.jpg', '141401.jpg', '141702.jpg', '141500.jpg', '141400.jpg', '141600.jpg', '141701.jpg', '141601.jpg', '141900.jpg', '141901.jpg', '141800.jpg', '141704.jpg', '141802.jpg', '141801.jpg', '141703.jpg', '141803.jpg', '142001.jpg', '142000.jpg', '142300.jpg', '142002.jpg', '142003.jpg', '142100.jpg', '142004.jpg', '142101.jpg', '142200.jpg', '142201.jpg', '142301.jpg', '142500.jpg', '142601.jpg', '142502.jpg', '142501.jpg', '142700.jpg', '142600.jpg', '142400.jpg', '142302.jpg', '142401.jpg', '142800.jpg', '143000.jpg', '143001.jpg', '142701.jpg', '142901.jpg', '142801.jpg', '142900.jpg', '143401.jpg', '143300.jpg', '143400.jpg', '143501.jpg', '143201.jpg', '143301.jpg', '143200.jpg', '143101.jpg', '143500.jpg', '143100.jpg', '143600.jpg', '143601.jpg', '143803.jpg', '143700.jpg', '143802.jpg', '143702.jpg', '143801.jpg', '143701.jpg', '143800.jpg', '143903.jpg', '144101.jpg', '144000.jpg', '144100.jpg', '144102.jpg', '143900.jpg', '143904.jpg', '143901.jpg', '144001.jpg', '143902.jpg', '144104.jpg', '144402.jpg', '144302.jpg', '144201.jpg', '144300.jpg', '144401.jpg', '144200.jpg', '144103.jpg', '144301.jpg', '144500.jpg', '144400.jpg', '144601.jpg', '144600.jpg', '144501.jpg', '144703.jpg', '144701.jpg', '144702.jpg', '144700.jpg', '144801.jpg', '144704.jpg', '144804.jpg', '144802.jpg', '144800.jpg', '144803.jpg', '144900.jpg', '144901.jpg', '144903.jpg', '144902.jpg', '145000.jpg', '145003.jpg', '145002.jpg', '145100.jpg', '145001.jpg', '145200.jpg', '145201.jpg', '145300.jpg', '145101.jpg', '145202.jpg', '145203.jpg', '145102.jpg', '145401.jpg', '145301.jpg', '145402.jpg', '145400.jpg', '145700.jpg', '145800.jpg', '145500.jpg', '145501.jpg', '145600.jpg', '145701.jpg', '145502.jpg', '145601.jpg', '145801.jpg', '145803.jpg', '145902.jpg', '145900.jpg', '145802.jpg', '146000.jpg', '145901.jpg', '146003.jpg', '146100.jpg', '146001.jpg', '146002.jpg', '146101.jpg', '146102.jpg', '146201.jpg', '146202.jpg', '146200.jpg', '146203.jpg', '146204.jpg', '146207.jpg', '146205.jpg', '146206.jpg', '146300.jpg', '146403.jpg', '146301.jpg', '146400.jpg', '146303.jpg', '146302.jpg', '146401.jpg', '146402.jpg', '146501.jpg', '146405.jpg', '146502.jpg', '146404.jpg', '146601.jpg', '146600.jpg', '146500.jpg', '146800.jpg', '146701.jpg', '146700.jpg', '146801.jpg', '146602.jpg', '146901.jpg', '147000.jpg', '147001.jpg', '146900.jpg', '147102.jpg', '147200.jpg', '147201.jpg', '147101.jpg', '147100.jpg', '147103.jpg', '147400.jpg', '147302.jpg', '147304.jpg', '147303.jpg', '147300.jpg', '147301.jpg', '147202.jpg', '147401.jpg', '147500.jpg', '147402.jpg', '147600.jpg', '147502.jpg', '147501.jpg', '147700.jpg', '147602.jpg', '147701.jpg', '147603.jpg', '147601.jpg', '147801.jpg', '147802.jpg', '147900.jpg', '147702.jpg', '147800.jpg', '148001.jpg', '148003.jpg', '148000.jpg', '148002.jpg', '147901.jpg', '148100.jpg', '148201.jpg', '148200.jpg', '148202.jpg', '148004.jpg', '148101.jpg', '148300.jpg', '148501.jpg', '148500.jpg', '148401.jpg', '148301.jpg', '148203.jpg', '148400.jpg', '148602.jpg', '148700.jpg', '148601.jpg', '148603.jpg', '148600.jpg', '148701.jpg', '148800.jpg', '148901.jpg', '148900.jpg', '148902.jpg', '149000.jpg', '148801.jpg', '149101.jpg', '149001.jpg', '149002.jpg', '149102.jpg', '149100.jpg', '149201.jpg', '149301.jpg', '149602.jpg', '149600.jpg', '149302.jpg', '149300.jpg', '149501.jpg', '149601.jpg', '149400.jpg', '149500.jpg', '149200.jpg', '149401.jpg', '149701.jpg', '149902.jpg', '149800.jpg', '149700.jpg', '149900.jpg', '149801.jpg', '149604.jpg', '149603.jpg', '149901.jpg']\n",
            "time: 10.8 s (started: 2020-12-25 21:10:29 +00:00)\n"
          ],
          "name": "stdout"
        }
      ]
    },
    {
      "cell_type": "markdown",
      "metadata": {
        "id": "F3BW8tfdrWow"
      },
      "source": [
        "## Convertir a Escalas de Grises"
      ]
    },
    {
      "cell_type": "code",
      "metadata": {
        "colab": {
          "base_uri": "https://localhost:8080/"
        },
        "id": "Kv8sYH2e_Wn6",
        "outputId": "ae9ddd0c-11be-49ae-c57d-ac69d9c99fc4"
      },
      "source": [
        "def split_list(alist, wanted_parts=1):\r\n",
        "    length = len(alist)\r\n",
        "    return [ alist[i*length // wanted_parts: (i+1)*length // wanted_parts] \r\n",
        "             for i in range(wanted_parts) ]"
      ],
      "execution_count": 8,
      "outputs": [
        {
          "output_type": "stream",
          "text": [
            "time: 2.28 ms (started: 2020-12-25 21:11:12 +00:00)\n"
          ],
          "name": "stdout"
        }
      ]
    },
    {
      "cell_type": "code",
      "metadata": {
        "colab": {
          "base_uri": "https://localhost:8080/"
        },
        "id": "TxcjeHtxKTlO",
        "outputId": "8ca4d6df-c364-46a3-9e33-d3c89c2c28f4"
      },
      "source": [
        "def Imagenes_Gris_Resize(Path_Obj,Listado_Obj, Factor_Reescala_Obj = 1):\r\n",
        "  Lista_Completa = []\r\n",
        "  #Lista_1, Lista_2, Lista_3, Lista_4 = split_list(Listado_Obj, wanted_parts=4)\r\n",
        "  if Factor_Reescala_Obj < 1:\r\n",
        "    for imagen in Listado_Obj:\r\n",
        "      Lista_Completa.append(cv2.resize(cv2.imread(Path_Obj + '/' + imagen),None,fx=Factor_Reescala_Obj,fy=Factor_Reescala_Obj))\r\n",
        "  else:\r\n",
        "    for imagen in Listado_Obj:\r\n",
        "      Lista_Completa.append(cv2.imread(Path_Obj + '/' + imagen))\r\n",
        "  return Lista_Completa"
      ],
      "execution_count": 27,
      "outputs": [
        {
          "output_type": "stream",
          "text": [
            "time: 5.11 ms (started: 2020-12-25 21:56:17 +00:00)\n"
          ],
          "name": "stdout"
        }
      ]
    },
    {
      "cell_type": "markdown",
      "metadata": {
        "id": "FT34dQI8CnWb"
      },
      "source": [
        "### Jpg1"
      ]
    },
    {
      "cell_type": "code",
      "metadata": {
        "colab": {
          "base_uri": "https://localhost:8080/"
        },
        "id": "ZetbV3PIRuWK",
        "outputId": "9233c571-0e8f-45e4-bb74-3dd9c47f7eaf"
      },
      "source": [
        "Listado_jpg1_Gris = Imagenes_Gris_Resize(path_jpg1, Listado_jpg1, 0.5)"
      ],
      "execution_count": 28,
      "outputs": [
        {
          "output_type": "stream",
          "text": [
            "time: 1min 10s (started: 2020-12-25 21:56:20 +00:00)\n"
          ],
          "name": "stdout"
        }
      ]
    },
    {
      "cell_type": "markdown",
      "metadata": {
        "id": "CP5UClxE3vKZ"
      },
      "source": [
        "### Jpg2"
      ]
    },
    {
      "cell_type": "code",
      "metadata": {
        "colab": {
          "base_uri": "https://localhost:8080/"
        },
        "id": "wyk_6V9ZUeZQ",
        "outputId": "3c0c4fa4-1bc2-4530-a77a-158afdd36f16"
      },
      "source": [
        "Listado_jpg2_Gris = Imagenes_Gris_Resize(path_jpg2, Listado_jpg2, 0.5)"
      ],
      "execution_count": 29,
      "outputs": [
        {
          "output_type": "stream",
          "text": [
            "time: 1min 25s (started: 2020-12-25 21:57:31 +00:00)\n"
          ],
          "name": "stdout"
        }
      ]
    },
    {
      "cell_type": "markdown",
      "metadata": {
        "id": "om4vHscQ16eb"
      },
      "source": [
        "## VGG 16"
      ]
    },
    {
      "cell_type": "code",
      "metadata": {
        "id": "oWQvdf2h1-sI",
        "colab": {
          "base_uri": "https://localhost:8080/"
        },
        "outputId": "df59bd9e-bdf8-4b80-dd67-45d6dba56021"
      },
      "source": [
        "model = VGG16(weights='imagenet', include_top=False)"
      ],
      "execution_count": 15,
      "outputs": [
        {
          "output_type": "stream",
          "text": [
            "time: 646 ms (started: 2020-12-25 21:42:20 +00:00)\n"
          ],
          "name": "stdout"
        }
      ]
    },
    {
      "cell_type": "code",
      "metadata": {
        "colab": {
          "base_uri": "https://localhost:8080/"
        },
        "id": "hsCxe0usxXwV",
        "outputId": "8b77821a-82bc-4e17-9b5d-55ae15f2ebd6"
      },
      "source": [
        "def Calculo_Vector_Caract(Img_Obj, Tipo_Vector):\r\n",
        "  if Tipo_Vector == 'hog':\r\n",
        "    Feature_Vector_Obj = hog(Img_Obj, orientations=8, pixels_per_cell=(16, 16),\r\n",
        "                    cells_per_block=(1, 1), feature_vector =True)\r\n",
        "  else:\r\n",
        "    Img_Obj = image.img_to_array(Img_Obj)\r\n",
        "    Img_Obj = np.expand_dims(Img_Obj, axis=0)\r\n",
        "    Img_Obj = preprocess_input(Img_Obj)\r\n",
        "    Feature_Vector_Obj = model.predict(Img_Obj)\r\n",
        "  return Feature_Vector_Obj"
      ],
      "execution_count": 40,
      "outputs": [
        {
          "output_type": "stream",
          "text": [
            "time: 18.6 s (started: 2020-12-25 22:02:10 +00:00)\n"
          ],
          "name": "stdout"
        }
      ]
    },
    {
      "cell_type": "code",
      "metadata": {
        "id": "uXD5CTNpyiID",
        "colab": {
          "base_uri": "https://localhost:8080/"
        },
        "outputId": "823e6781-6701-43c8-a704-04147824ac5b"
      },
      "source": [
        "img = Listado_jpg1_Gris[1]"
      ],
      "execution_count": null,
      "outputs": [
        {
          "output_type": "stream",
          "text": [
            "time: 725 µs (started: 2020-12-25 22:00:24 +00:00)\n"
          ],
          "name": "stdout"
        }
      ]
    },
    {
      "cell_type": "code",
      "metadata": {
        "colab": {
          "base_uri": "https://localhost:8080/"
        },
        "id": "ej9pdNK3yutM",
        "outputId": "db820dfd-579a-45a0-f6e7-1c0c17f02fb7"
      },
      "source": [
        "Hola = Calculo_Vector_Caract(img,'cnn')"
      ],
      "execution_count": 41,
      "outputs": [
        {
          "output_type": "stream",
          "text": [
            "time: 17.7 s (started: 2020-12-25 22:07:14 +00:00)\n"
          ],
          "name": "stdout"
        }
      ]
    },
    {
      "cell_type": "markdown",
      "metadata": {
        "id": "saDj0m8wvk4o"
      },
      "source": [
        "## Distancias:"
      ]
    },
    {
      "cell_type": "markdown",
      "metadata": {
        "id": "3ahoHVV4vpme"
      },
      "source": [
        "Chi-Cuadrado. Fuente: https://www.geeksforgeeks.org/chi-square-distance-in-python/"
      ]
    },
    {
      "cell_type": "code",
      "metadata": {
        "id": "4uvlbI1hvmXb"
      },
      "source": [
        "def chi2_distance(A, B): \r\n",
        "  \r\n",
        "    # compute the chi-squared distance using above formula \r\n",
        "    chi = 0.5 * np.sum([((a - b) ** 2) / (a + b)  \r\n",
        "                      for (a, b) in zip(A, B)]) \r\n",
        "  \r\n",
        "    return chi "
      ],
      "execution_count": null,
      "outputs": []
    },
    {
      "cell_type": "code",
      "metadata": {
        "colab": {
          "base_uri": "https://localhost:8080/"
        },
        "id": "86GBx0_GvwMX",
        "outputId": "6d97917c-7601-4438-d0d2-70f5dc2982ac"
      },
      "source": [
        "# Str_Dist = 'eucl', 'chi', 'cos'\r\n",
        "\r\n",
        "def Funcion_Distancia(Vect_1, Vect_2, Str_Dist = 'eucl'):\r\n",
        "  if Str_Dist == 'eucl':\r\n",
        "    Distancia = euclidean_distances(Vect_1, Vect_2)\r\n",
        "  elif Str_Dist == 'cos':\r\n",
        "    Distancia = cosine_distances(Vect_1, Vect_2)\r\n",
        "  else:\r\n",
        "    Distancia = chi2_distance(Vect_1, Vect_2)\r\n",
        "  return Distancia"
      ],
      "execution_count": 15,
      "outputs": [
        {
          "output_type": "stream",
          "text": [
            "time: 323 ms (started: 2020-12-25 03:14:32 +00:00)\n"
          ],
          "name": "stdout"
        }
      ]
    },
    {
      "cell_type": "code",
      "metadata": {
        "id": "5kJoWaLBdpfp"
      },
      "source": [
        "# Str_Dist = 'eucl', 'chi', 'cos'\r\n",
        "def Busqueda(Feature_Vector_Obj, Database_Obj, Str_Dist = 'eucl'):\r\n",
        "  Similitudes = []\r\n",
        "  for imagen in Database_Obj:\r\n",
        "    Distancia = Funcion_Distancia(Feature_Vector_Obj, imagen,Str_Dist)\r\n",
        "    Similitudes.append(Distancia)\r\n",
        "  return Similitudes"
      ],
      "execution_count": null,
      "outputs": []
    },
    {
      "cell_type": "markdown",
      "metadata": {
        "id": "ecY2SMthgTYc"
      },
      "source": [
        "# Obsoleto"
      ]
    },
    {
      "cell_type": "markdown",
      "metadata": {
        "id": "Im57b2FrwXyS"
      },
      "source": [
        "## HOG"
      ]
    },
    {
      "cell_type": "code",
      "metadata": {
        "colab": {
          "base_uri": "https://localhost:8080/",
          "height": 281
        },
        "id": "Ls34CgbuwiWt",
        "outputId": "658d780f-d05d-4949-af96-490919d67224"
      },
      "source": [
        "fd, hog_image = hog(img, orientations=8, pixels_per_cell=(16, 16),\r\n",
        "                    cells_per_block=(1, 1), visualize=True, multichannel=True, feature_vector =True)\r\n",
        "\r\n",
        "fig, (ax1, ax2) = plt.subplots(1, 2, figsize=(8, 4), sharex=True, sharey=True)\r\n",
        "\r\n",
        "ax1.axis('off')\r\n",
        "ax1.imshow(img, cmap=plt.cm.gray)\r\n",
        "ax1.set_title('Input image')\r\n",
        "\r\n",
        "# Rescale histogram for better display\r\n",
        "hog_image_rescaled = exposure.rescale_intensity(hog_image, in_range=(0, 10))\r\n",
        "\r\n",
        "ax2.axis('off')\r\n",
        "ax2.imshow(hog_image_rescaled, cmap=plt.cm.gray)\r\n",
        "ax2.set_title('Histogram of Oriented Gradients')\r\n",
        "plt.show()"
      ],
      "execution_count": null,
      "outputs": [
        {
          "output_type": "display_data",
          "data": {
            "image/png": "[encoded data removed]",
            "text/plain": [
              "<Figure size 576x288 with 2 Axes>"
            ]
          },
          "metadata": {
            "tags": [],
            "needs_background": "light"
          }
        },
        {
          "output_type": "stream",
          "text": [
            "time: 447 ms (started: 2020-12-24 21:01:42 +00:00)\n"
          ],
          "name": "stdout"
        }
      ]
    },
    {
      "cell_type": "markdown",
      "metadata": {
        "id": "NRIeqQoR8dbd"
      },
      "source": [
        "VGG"
      ]
    },
    {
      "cell_type": "code",
      "metadata": {
        "id": "6mL7bhkP0dKO"
      },
      "source": [
        "\r\n",
        "img_path = path_jpg1 + '/' + Listado_jpg1[1]\r\n",
        "img = image.load_img(img_path, target_size=(224, 224))\r\n",
        "x = image.img_to_array(img)\r\n",
        "x = np.expand_dims(x, axis=0)\r\n",
        "x = preprocess_input(x)\r\n",
        "\r\n",
        "features = model.predict(x)"
      ],
      "execution_count": null,
      "outputs": []
    },
    {
      "cell_type": "code",
      "metadata": {
        "colab": {
          "base_uri": "https://localhost:8080/"
        },
        "id": "W1ETjoDqSEDr",
        "outputId": "e1925604-b312-4ead-d6a4-33e6a153b8bc"
      },
      "source": [
        "print(len(Listado_jpg1_Gris))"
      ],
      "execution_count": null,
      "outputs": [
        {
          "output_type": "stream",
          "text": [
            "812\n",
            "time: 2.51 ms (started: 2020-12-25 00:34:57 +00:00)\n"
          ],
          "name": "stdout"
        }
      ]
    },
    {
      "cell_type": "code",
      "metadata": {
        "colab": {
          "base_uri": "https://localhost:8080/"
        },
        "id": "SOg2A174CThF",
        "outputId": "9f4faede-effb-41c9-cbb5-1d52bbd47a5a"
      },
      "source": [
        "Listado_jpg1_1, Listado_jpg1_2, Listado_jpg1_3, Listado_jpg1_4 = split_list(Listado_jpg1, wanted_parts=4)\r\n",
        "Listado_jpg1_Gris = []\r\n",
        "Factor_Reescala = 0.2"
      ],
      "execution_count": null,
      "outputs": [
        {
          "output_type": "stream",
          "text": [
            "time: 2.24 ms (started: 2020-12-24 21:20:33 +00:00)\n"
          ],
          "name": "stdout"
        }
      ]
    },
    {
      "cell_type": "code",
      "metadata": {
        "colab": {
          "base_uri": "https://localhost:8080/"
        },
        "id": "pRzolmBhCThW",
        "outputId": "54928d7f-ab4f-46f7-97c9-ae713a161be5"
      },
      "source": [
        "for imagen in Listado_jpg1_1:\r\n",
        "  Listado_jpg1_Gris.append(cv2.resize(cv2.imread(path_jpg1 + '/' + imagen,0),None,fx=Factor_Reescala,fy=Factor_Reescala))"
      ],
      "execution_count": null,
      "outputs": [
        {
          "output_type": "stream",
          "text": [
            "time: 2min 58s (started: 2020-12-24 21:20:33 +00:00)\n"
          ],
          "name": "stdout"
        }
      ]
    },
    {
      "cell_type": "code",
      "metadata": {
        "colab": {
          "base_uri": "https://localhost:8080/"
        },
        "id": "ARbDFIuyCThX",
        "outputId": "40921cb5-a826-49a9-9300-8c5e03ac3dc1"
      },
      "source": [
        "for imagen in Listado_jpg1_2:\r\n",
        "  Listado_jpg1_Gris.append(cv2.resize(cv2.imread(path_jpg1 + '/' + imagen,0),None,fx=Factor_Reescala,fy=Factor_Reescala))"
      ],
      "execution_count": null,
      "outputs": [
        {
          "output_type": "stream",
          "text": [
            "time: 2min 28s (started: 2020-12-24 21:23:31 +00:00)\n"
          ],
          "name": "stdout"
        }
      ]
    },
    {
      "cell_type": "code",
      "metadata": {
        "colab": {
          "base_uri": "https://localhost:8080/"
        },
        "id": "YQs9WqyTCThX",
        "outputId": "7e54c284-a0a0-45b5-be65-dd14d98b604c"
      },
      "source": [
        "for imagen in Listado_jpg1_3:\r\n",
        "  Listado_jpg1_Gris.append(cv2.resize(cv2.imread(path_jpg1 + '/' + imagen,0),None,fx=Factor_Reescala,fy=Factor_Reescala))"
      ],
      "execution_count": null,
      "outputs": [
        {
          "output_type": "stream",
          "text": [
            "time: 2min 29s (started: 2020-12-24 21:26:00 +00:00)\n"
          ],
          "name": "stdout"
        }
      ]
    },
    {
      "cell_type": "code",
      "metadata": {
        "colab": {
          "base_uri": "https://localhost:8080/"
        },
        "id": "IaoU2N06CThY",
        "outputId": "15408d8a-a5c3-4a24-d1c3-6e5171084572"
      },
      "source": [
        "for imagen in Listado_jpg1_4:\r\n",
        "  Listado_jpg1_Gris.append(cv2.resize(cv2.imread(path_jpg1 + '/' + imagen,0),None,fx=Factor_Reescala,fy=Factor_Reescala))"
      ],
      "execution_count": null,
      "outputs": [
        {
          "output_type": "stream",
          "text": [
            "time: 2min 18s (started: 2020-12-24 21:28:29 +00:00)\n"
          ],
          "name": "stdout"
        }
      ]
    },
    {
      "cell_type": "markdown",
      "metadata": {
        "id": "QyiXozEyCspe"
      },
      "source": [
        "### Jpg2"
      ]
    },
    {
      "cell_type": "code",
      "metadata": {
        "colab": {
          "base_uri": "https://localhost:8080/"
        },
        "id": "ndAfWAZ__m7l",
        "outputId": "dfe3a2bf-9897-4ecb-bd1a-225e2e1b7f0a"
      },
      "source": [
        "Listado_jpg2_1, Listado_jpg2_2, Listado_jpg2_3, Listado_jpg2_4 = split_list(Listado_jpg2, wanted_parts=4)"
      ],
      "execution_count": null,
      "outputs": [
        {
          "output_type": "stream",
          "text": [
            "time: 1.05 ms (started: 2020-12-24 18:52:36 +00:00)\n"
          ],
          "name": "stdout"
        }
      ]
    },
    {
      "cell_type": "code",
      "metadata": {
        "colab": {
          "base_uri": "https://localhost:8080/"
        },
        "id": "nKa-4MxO_7bA",
        "outputId": "f82b7112-a2ba-4a83-f87d-482dff52d951"
      },
      "source": [
        "Listado_jpg2_Gris = []\r\n",
        "for imagen in Listado_jpg2_1:\r\n",
        "  Listado_jpg2_Gris.append(cv2.imread(path_jpg2 + '/' + imagen,0))"
      ],
      "execution_count": null,
      "outputs": [
        {
          "output_type": "stream",
          "text": [
            "time: 10.2 s (started: 2020-12-24 19:04:18 +00:00)\n"
          ],
          "name": "stdout"
        }
      ]
    },
    {
      "cell_type": "code",
      "metadata": {
        "colab": {
          "base_uri": "https://localhost:8080/"
        },
        "id": "2SKtFidXAB7s",
        "outputId": "8d9767f0-cbad-4a86-c479-c5295ce6ebea"
      },
      "source": [
        "for imagen in Listado_jpg2_2:\r\n",
        "  Listado_jpg2_Gris.append(cv2.imread(path_jpg2 + '/' + imagen,0))"
      ],
      "execution_count": null,
      "outputs": [
        {
          "output_type": "stream",
          "text": [
            "time: 12.7 s (started: 2020-12-24 19:04:28 +00:00)\n"
          ],
          "name": "stdout"
        }
      ]
    },
    {
      "cell_type": "code",
      "metadata": {
        "colab": {
          "base_uri": "https://localhost:8080/"
        },
        "id": "m6QjRNlQACwz",
        "outputId": "044297cf-91dd-4a57-c43b-77398e18fcc7"
      },
      "source": [
        "for imagen in Listado_jpg2_3:\r\n",
        "  Listado_jpg2_Gris.append(cv2.imread(path_jpg2 + '/' + imagen,0))"
      ],
      "execution_count": null,
      "outputs": [
        {
          "output_type": "stream",
          "text": [
            "time: 8.84 s (started: 2020-12-24 19:04:41 +00:00)\n"
          ],
          "name": "stdout"
        }
      ]
    },
    {
      "cell_type": "code",
      "metadata": {
        "colab": {
          "base_uri": "https://localhost:8080/"
        },
        "id": "mnDWaybhADz8",
        "outputId": "90a87366-bf77-48a0-945c-94fb802e332d"
      },
      "source": [
        "for imagen in Listado_jpg2_4:\r\n",
        "  Listado_jpg2_Gris.append(cv2.imread(path_jpg2 + '/' + imagen,0))"
      ],
      "execution_count": null,
      "outputs": [
        {
          "output_type": "stream",
          "text": [
            "time: 13.4 s (started: 2020-12-24 19:04:50 +00:00)\n"
          ],
          "name": "stdout"
        }
      ]
    }
  ]
}