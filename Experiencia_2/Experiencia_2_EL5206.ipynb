{
  "nbformat": 4,
  "nbformat_minor": 0,
  "metadata": {
    "colab": {
      "name": "Experiencia_2_EL5206.ipynb",
      "provenance": [],
      "collapsed_sections": []
    },
    "kernelspec": {
      "name": "python3",
      "display_name": "Python 3"
    }
  },
  "cells": [
    {
      "cell_type": "markdown",
      "metadata": {
        "id": "RRrncl9Sf1PF"
      },
      "source": [
        "# Experiencia número 2: Luckas Diaz - Diego Pincheira"
      ]
    },
    {
      "cell_type": "markdown",
      "metadata": {
        "id": "YskArS0srO5c"
      },
      "source": [
        "# Configuraciones Preliminares:\n",
        "Se cargan las librerías requeridas. Para esta experiencia, se requiere el uso de la librería **natsorted**."
      ]
    },
    {
      "cell_type": "code",
      "metadata": {
        "id": "YfR_lHmHquxD"
      },
      "source": [
        "import numpy as np\n",
        "import matplotlib.pyplot as plt\n",
        "from skimage import color, io, exposure\n",
        "import os\n",
        "# pip install natsort # Se debe tener instalado natsorted para ejecutar el código\n",
        "from natsort import natsorted"
      ],
      "execution_count": 1,
      "outputs": []
    },
    {
      "cell_type": "markdown",
      "metadata": {
        "id": "2zGw6PyuuYFW"
      },
      "source": [
        "## Carga de archivos\n",
        "Se suben los archivos **ojos_gal.rar**, **ojos_impostor.rar** y **ojos_test.rar** a Google Colab."
      ]
    },
    {
      "cell_type": "code",
      "metadata": {
        "id": "yv9Bbn9duaFB",
        "colab": {
          "base_uri": "https://localhost:8080/"
        },
        "outputId": "e9f762ce-0c2b-44e4-d4bc-c8fed65da5ef"
      },
      "source": [
        "!wget https://github.com/DiegoPincheiraIb/EL5206_Assignments/raw/master/Experiencia_2/ojos_gal.rar\n",
        "!wget https://github.com/DiegoPincheiraIb/EL5206_Assignments/raw/master/Experiencia_2/ojos_impostor.rar\n",
        "!wget https://github.com/DiegoPincheiraIb/EL5206_Assignments/raw/master/Experiencia_2/ojos_test.rar"
      ],
      "execution_count": 2,
      "outputs": [
        {
          "output_type": "stream",
          "text": [
            "--2021-08-22 01:12:52--  https://github.com/DiegoPincheiraIb/EL5206_Assignments/raw/master/Experiencia_2/ojos_gal.rar\n",
            "Resolving github.com (github.com)... 52.192.72.89\n",
            "Connecting to github.com (github.com)|52.192.72.89|:443... connected.\n",
            "HTTP request sent, awaiting response... 302 Found\n",
            "Location: https://raw.githubusercontent.com/DiegoPincheiraIb/EL5206_Assignments/master/Experiencia_2/ojos_gal.rar [following]\n",
            "--2021-08-22 01:12:53--  https://raw.githubusercontent.com/DiegoPincheiraIb/EL5206_Assignments/master/Experiencia_2/ojos_gal.rar\n",
            "Resolving raw.githubusercontent.com (raw.githubusercontent.com)... 185.199.108.133, 185.199.110.133, 185.199.109.133, ...\n",
            "Connecting to raw.githubusercontent.com (raw.githubusercontent.com)|185.199.108.133|:443... connected.\n",
            "HTTP request sent, awaiting response... 200 OK\n",
            "Length: 192354 (188K) [application/octet-stream]\n",
            "Saving to: ‘ojos_gal.rar’\n",
            "\n",
            "ojos_gal.rar        100%[===================>] 187.85K  --.-KB/s    in 0.03s   \n",
            "\n",
            "2021-08-22 01:12:53 (5.97 MB/s) - ‘ojos_gal.rar’ saved [192354/192354]\n",
            "\n",
            "--2021-08-22 01:12:53--  https://github.com/DiegoPincheiraIb/EL5206_Assignments/raw/master/Experiencia_2/ojos_impostor.rar\n",
            "Resolving github.com (github.com)... 52.192.72.89\n",
            "Connecting to github.com (github.com)|52.192.72.89|:443... connected.\n",
            "HTTP request sent, awaiting response... 302 Found\n",
            "Location: https://raw.githubusercontent.com/DiegoPincheiraIb/EL5206_Assignments/master/Experiencia_2/ojos_impostor.rar [following]\n",
            "--2021-08-22 01:12:54--  https://raw.githubusercontent.com/DiegoPincheiraIb/EL5206_Assignments/master/Experiencia_2/ojos_impostor.rar\n",
            "Resolving raw.githubusercontent.com (raw.githubusercontent.com)... 185.199.109.133, 185.199.111.133, 185.199.108.133, ...\n",
            "Connecting to raw.githubusercontent.com (raw.githubusercontent.com)|185.199.109.133|:443... connected.\n",
            "HTTP request sent, awaiting response... 200 OK\n",
            "Length: 67305 (66K) [application/octet-stream]\n",
            "Saving to: ‘ojos_impostor.rar’\n",
            "\n",
            "ojos_impostor.rar   100%[===================>]  65.73K  --.-KB/s    in 0.01s   \n",
            "\n",
            "2021-08-22 01:12:54 (4.52 MB/s) - ‘ojos_impostor.rar’ saved [67305/67305]\n",
            "\n",
            "--2021-08-22 01:12:54--  https://github.com/DiegoPincheiraIb/EL5206_Assignments/raw/master/Experiencia_2/ojos_test.rar\n",
            "Resolving github.com (github.com)... 52.192.72.89\n",
            "Connecting to github.com (github.com)|52.192.72.89|:443... connected.\n",
            "HTTP request sent, awaiting response... 302 Found\n",
            "Location: https://raw.githubusercontent.com/DiegoPincheiraIb/EL5206_Assignments/master/Experiencia_2/ojos_test.rar [following]\n",
            "--2021-08-22 01:12:54--  https://raw.githubusercontent.com/DiegoPincheiraIb/EL5206_Assignments/master/Experiencia_2/ojos_test.rar\n",
            "Resolving raw.githubusercontent.com (raw.githubusercontent.com)... 185.199.108.133, 185.199.109.133, 185.199.110.133, ...\n",
            "Connecting to raw.githubusercontent.com (raw.githubusercontent.com)|185.199.108.133|:443... connected.\n",
            "HTTP request sent, awaiting response... 200 OK\n",
            "Length: 185873 (182K) [application/octet-stream]\n",
            "Saving to: ‘ojos_test.rar’\n",
            "\n",
            "ojos_test.rar       100%[===================>] 181.52K  --.-KB/s    in 0.03s   \n",
            "\n",
            "2021-08-22 01:12:55 (5.93 MB/s) - ‘ojos_test.rar’ saved [185873/185873]\n",
            "\n"
          ],
          "name": "stdout"
        }
      ]
    },
    {
      "cell_type": "markdown",
      "metadata": {
        "id": "RoNggs76PUmD"
      },
      "source": [
        "Se descomprimen los archivos."
      ]
    },
    {
      "cell_type": "code",
      "metadata": {
        "id": "uCLXJ2fCvcjz",
        "colab": {
          "base_uri": "https://localhost:8080/"
        },
        "outputId": "7d2c0c74-b59c-43ae-d14e-9bc58bbf226b"
      },
      "source": [
        "!unrar x ojos_gal.rar\n",
        "!unrar x ojos_impostor.rar\n",
        "!unrar x ojos_test.rar"
      ],
      "execution_count": 3,
      "outputs": [
        {
          "output_type": "stream",
          "text": [
            "\n",
            "UNRAR 5.50 freeware      Copyright (c) 1993-2017 Alexander Roshal\n",
            "\n",
            "\n",
            "Extracting from ojos_gal.rar\n",
            "\n",
            "Creating    ojos_gal                                                  OK\n",
            "Extracting  ojos_gal/I10_gal.jpg                                         \b\b\b\b  9%\b\b\b\b\b  OK \n",
            "Extracting  ojos_gal/I1_gal.jpg                                          \b\b\b\b 19%\b\b\b\b\b  OK \n",
            "Extracting  ojos_gal/I2_gal.jpg                                          \b\b\b\b 31%\b\b\b\b\b  OK \n",
            "Extracting  ojos_gal/I3_gal.jpg                                          \b\b\b\b 42%\b\b\b\b\b  OK \n",
            "Extracting  ojos_gal/I4_gal.jpg                                          \b\b\b\b 50%\b\b\b\b\b  OK \n",
            "Extracting  ojos_gal/I5_gal.jpg                                          \b\b\b\b 60%\b\b\b\b\b  OK \n",
            "Extracting  ojos_gal/I6_gal.jpg                                          \b\b\b\b 71%\b\b\b\b\b  OK \n",
            "Extracting  ojos_gal/I7_gal.jpg                                          \b\b\b\b 79%\b\b\b\b\b  OK \n",
            "Extracting  ojos_gal/I8_gal.jpg                                          \b\b\b\b 90%\b\b\b\b\b  OK \n",
            "Extracting  ojos_gal/I9_gal.jpg                                          \b\b\b\b 99%\b\b\b\b\b  OK \n",
            "All OK\n",
            "\n",
            "UNRAR 5.50 freeware      Copyright (c) 1993-2017 Alexander Roshal\n",
            "\n",
            "\n",
            "Extracting from ojos_impostor.rar\n",
            "\n",
            "Creating    ojos_impostor                                             OK\n",
            "Creating    ojos_impostor/ojos_impostor                               OK\n",
            "Extracting  ojos_impostor/ojos_impostor/imp_0001.jpg                     \b\b\b\b 32%\b\b\b\b\b  OK \n",
            "Extracting  ojos_impostor/ojos_impostor/imp_0002.jpg                     \b\b\b\b 65%\b\b\b\b\b  OK \n",
            "Extracting  ojos_impostor/ojos_impostor/imp_0003.jpg                     \b\b\b\b 99%\b\b\b\b\b  OK \n",
            "All OK\n",
            "\n",
            "UNRAR 5.50 freeware      Copyright (c) 1993-2017 Alexander Roshal\n",
            "\n",
            "\n",
            "Extracting from ojos_test.rar\n",
            "\n",
            "Creating    ojos_test                                                 OK\n",
            "Extracting  ojos_test/I10_test.jpg                                       \b\b\b\b 10%\b\b\b\b\b  OK \n",
            "Extracting  ojos_test/I1_test.jpg                                        \b\b\b\b 19%\b\b\b\b\b  OK \n",
            "Extracting  ojos_test/I2_test.jpg                                        \b\b\b\b 32%\b\b\b\b\b  OK \n",
            "Extracting  ojos_test/I3_test.jpg                                        \b\b\b\b 43%\b\b\b\b\b  OK \n",
            "Extracting  ojos_test/I4_test.jpg                                        \b\b\b\b 53%\b\b\b\b\b  OK \n",
            "Extracting  ojos_test/I5_test.jpg                                        \b\b\b\b 62%\b\b\b\b\b  OK \n",
            "Extracting  ojos_test/I6_test.jpg                                        \b\b\b\b 71%\b\b\b\b\b  OK \n",
            "Extracting  ojos_test/I7_test.jpg                                        \b\b\b\b 79%\b\b\b\b\b  OK \n",
            "Extracting  ojos_test/I8_test.jpg                                        \b\b\b\b 89%\b\b\b\b\b  OK \n",
            "Extracting  ojos_test/I9_test.jpg                                        \b\b\b\b 99%\b\b\b\b\b  OK \n",
            "All OK\n"
          ],
          "name": "stdout"
        }
      ]
    },
    {
      "cell_type": "markdown",
      "metadata": {
        "id": "8JKySCWgPaRg"
      },
      "source": [
        "Se verifica que los archivos se hayan cargado."
      ]
    },
    {
      "cell_type": "code",
      "metadata": {
        "id": "BCGmflMnxGLH",
        "colab": {
          "base_uri": "https://localhost:8080/"
        },
        "outputId": "aafd7008-46c5-4bc4-f110-cfcc73d7298b"
      },
      "source": [
        "!ls"
      ],
      "execution_count": 7,
      "outputs": [
        {
          "output_type": "stream",
          "text": [
            "ojos_gal      ojos_impostor\t ojos_test\tsample_data\n",
            "ojos_gal.rar  ojos_impostor.rar  ojos_test.rar\n"
          ],
          "name": "stdout"
        }
      ]
    },
    {
      "cell_type": "markdown",
      "metadata": {
        "id": "iqta-KVyPkCC"
      },
      "source": [
        "Se crea un string con la ruta del directorio, y se ordenan los archivos de forma que el primer sujeto en la carpeta respectiva corresponda al sujeto listado como número 1 de su carpeta (esto debido a que, por defecto, no se da así.). Para esta experiencia, **es indispensable que los sujetos se encuentren ordenados.**"
      ]
    },
    {
      "cell_type": "code",
      "metadata": {
        "id": "G9hSZLxAx0af"
      },
      "source": [
        "Str_Gal = 'ojos_gal/'\n",
        "Str_Impostor = 'ojos_impostor/ojos_impostor/'\n",
        "Str_Test = 'ojos_test/'\n",
        "Listado_Gal = os.listdir(Str_Gal) # Se crea un puntero al directorio\n",
        "Listado_Gal = natsorted(Listado_Gal) # Se ordenan los archivos con el número del sujeto de menor a mayor.\n",
        "Listado_Impostor = os.listdir(Str_Impostor)\n",
        "Listado_Impostor = natsorted(Listado_Impostor)\n",
        "Listado_Test = os.listdir(Str_Test)\n",
        "Listado_Test = natsorted(Listado_Test)"
      ],
      "execution_count": 8,
      "outputs": []
    },
    {
      "cell_type": "markdown",
      "metadata": {
        "id": "C5ngxB6EtCnn"
      },
      "source": [
        "## Carga y preprocesamiento de imágenes"
      ]
    },
    {
      "cell_type": "markdown",
      "metadata": {
        "id": "T8hCmQfMQTAt"
      },
      "source": [
        "Se crean tres listas, **Listado_Gal_Gris**, **Listado_Impostor_Gris**, y **Listado_Test_Gris**, las cuales contienen la información de los tres subconjuntos a analizar en esta tarea: **Ojos_Gal**, **Ojos_Impostor** y **Ojos_test**. El procedimiento para cargar las imágenes dentro de cada lista es el siguiente:\n",
        "\n",
        "1.   Se carga la imagen mediante **io.imread()**\n",
        "2.   Se convierte a escala de grises mediante **color.rgb2gray()**.\n",
        "3.   Se aplica *ecualización adaptativa de histograma* mediante **exposure.equalize_adapthist()**.\n",
        "4.   Se agrega la matriz generada a la lista.\n",
        "\n",
        "\n",
        "\n"
      ]
    },
    {
      "cell_type": "code",
      "metadata": {
        "id": "SzM_Gk9jcm-0"
      },
      "source": [
        "def Generador_Listado(listado_input:list, str_obj: str) -> list:\n",
        "  output = []\n",
        "  for imagen in listado_input:\n",
        "    print(str_obj + imagen)\n",
        "    output.append(exposure.equalize_adapthist(color.rgb2gray(io.imread(str_obj + imagen))))\n",
        "  return output"
      ],
      "execution_count": 10,
      "outputs": []
    },
    {
      "cell_type": "code",
      "metadata": {
        "id": "2hb1eBQitF-2",
        "colab": {
          "base_uri": "https://localhost:8080/"
        },
        "outputId": "ba5c7140-43a2-40f2-887b-7f580afcb3a7"
      },
      "source": [
        "print('Procesamiento del conjunto ''Ojos_Gal'':')\n",
        "Listado_Gal_Gris = Generador_Listado(Listado_Gal, Str_Gal)\n",
        "\n",
        "print('---------------------------------------------')\n",
        "\n",
        "print('Procesamiento del conjunto ''Ojos_Impostor'':')\n",
        "Listado_Impostor_Gris = Generador_Listado(Listado_Impostor, Str_Impostor)\n",
        "\n",
        "print('---------------------------------------------')\n",
        "\n",
        "print('Procesamiento del conjunto ''Ojos_Test'':')\n",
        "Listado_Test_Gris = Generador_Listado(Listado_Test, Str_Test)\n"
      ],
      "execution_count": 11,
      "outputs": [
        {
          "output_type": "stream",
          "text": [
            "Procesamiento del conjunto Ojos_Gal:\n",
            "ojos_gal/I1_gal.jpg\n",
            "ojos_gal/I2_gal.jpg\n",
            "ojos_gal/I3_gal.jpg\n",
            "ojos_gal/I4_gal.jpg\n",
            "ojos_gal/I5_gal.jpg\n",
            "ojos_gal/I6_gal.jpg\n",
            "ojos_gal/I7_gal.jpg\n",
            "ojos_gal/I8_gal.jpg\n",
            "ojos_gal/I9_gal.jpg\n",
            "ojos_gal/I10_gal.jpg\n",
            "---------------------------------------------\n",
            "Procesamiento del conjunto Ojos_Impostor:\n",
            "ojos_impostor/ojos_impostor/imp_0001.jpg\n",
            "ojos_impostor/ojos_impostor/imp_0002.jpg\n",
            "ojos_impostor/ojos_impostor/imp_0003.jpg\n",
            "---------------------------------------------\n",
            "Procesamiento del conjunto Ojos_Test:\n",
            "ojos_test/I1_test.jpg\n",
            "ojos_test/I2_test.jpg\n",
            "ojos_test/I3_test.jpg\n",
            "ojos_test/I4_test.jpg\n",
            "ojos_test/I5_test.jpg\n",
            "ojos_test/I6_test.jpg\n",
            "ojos_test/I7_test.jpg\n",
            "ojos_test/I8_test.jpg\n",
            "ojos_test/I9_test.jpg\n",
            "ojos_test/I10_test.jpg\n"
          ],
          "name": "stdout"
        }
      ]
    },
    {
      "cell_type": "markdown",
      "metadata": {
        "id": "oK24pPdLsGsF"
      },
      "source": [
        "# Desarrollo P1\n",
        "Algoritmo LBP"
      ]
    },
    {
      "cell_type": "markdown",
      "metadata": {
        "id": "uNebyzokSLiI"
      },
      "source": [
        "La función **LBP()** permite aplicar el algoritmo *Local binary patterns* a una imagen dada. La imagen resultante posee 2 pixeles menos de ancho y alto que la imagen original para no aplicar *padding* a la imagen original."
      ]
    },
    {
      "cell_type": "code",
      "metadata": {
        "id": "Dn3fRVfos0oC"
      },
      "source": [
        "def LBP(ImagenGris_Matriz):\n",
        "  Matriz_Final_Copia = np.copy(ImagenGris_Matriz)\n",
        "  Mascara_Valores = np.array([[128., 64., 32.],\n",
        "                  [1., 0., 16.],\n",
        "                  [2., 4., 8.]])\n",
        "  for row in range(1,len(ImagenGris_Matriz)-1):\n",
        "    for column in range(1,len(ImagenGris_Matriz[0])-1):\n",
        "      mask = np.zeros((3,3))\n",
        "      mask[1,1] = ImagenGris_Matriz[row,column]\n",
        "      for fila in range(-1,2):\n",
        "        for columna in range(-1,2):\n",
        "          if fila != 0 and columna !=0:                      \n",
        "            if ImagenGris_Matriz[row+fila,column+columna] > mask[1,1]:\n",
        "              mask[fila, columna] = 1\n",
        "      Numero_Entero = np.sum(mask * Mascara_Valores)\n",
        "      Matriz_Final_Copia[row, column] = Numero_Entero\n",
        "\n",
        "  Matriz_Final_Copia_Copia = np.delete(Matriz_Final_Copia, -1, 0) # Elimina la última fila\n",
        "  Matriz_Final_Copia = np.delete(Matriz_Final_Copia_Copia, -1, 1) # Elimina la última columna\n",
        "  Matriz_Final_Copia_Copia = np.delete(Matriz_Final_Copia, 0, 0) # Elimina la primera fila\n",
        "  Matriz_Final_Copia = np.delete(Matriz_Final_Copia_Copia, 0, 1) # Elimina la primera columna\n",
        "  return Matriz_Final_Copia"
      ],
      "execution_count": 12,
      "outputs": []
    },
    {
      "cell_type": "markdown",
      "metadata": {
        "id": "aZhwyJ8OeS5B"
      },
      "source": [
        "Se crea la función **Imagen_Plot()**, que genera un gráfico en escala de grises a partir de la imagen objetivo."
      ]
    },
    {
      "cell_type": "code",
      "metadata": {
        "id": "Gl3GUmNBeREp"
      },
      "source": [
        "def Imagen_Plot(Matriz_Obj):\n",
        "  plt.imshow(Matriz_Obj, cmap='gray')\n",
        "  plt.show()"
      ],
      "execution_count": 13,
      "outputs": []
    },
    {
      "cell_type": "markdown",
      "metadata": {
        "id": "l0RyCeMXA-8o"
      },
      "source": [
        "### Aplicación de LBP a los datos:\n",
        "Se aplica LBP a los datos, y se guardan en listas."
      ]
    },
    {
      "cell_type": "code",
      "metadata": {
        "id": "Oa2TGt-AR0X9"
      },
      "source": [
        "Gal_LBP = []\n",
        "Impostor_LBP = []\n",
        "Test_LBP = []\n",
        "\n",
        "for pic in Listado_Gal_Gris:\n",
        "  Gal_LBP.append(LBP(pic))\n",
        "\n",
        "for pic in Listado_Impostor_Gris:\n",
        "  Impostor_LBP.append(LBP(pic))\n",
        "\n",
        "for pic in Listado_Test_Gris:\n",
        "  Test_LBP.append(LBP(pic))"
      ],
      "execution_count": 14,
      "outputs": []
    },
    {
      "cell_type": "markdown",
      "metadata": {
        "id": "NaIcEctKetGw"
      },
      "source": [
        "**¿Qué características tienen las imágenes procesadas con LBP?**\n",
        "\n",
        "Una imagen procesada con LBP otorga una **mejor visualizacion** para los detalles mas finos y las texturas de la imagen, permitiendo una **mejor extracción de características**. Por otra parte, como resultado del procedimiento anterior, los pixeles tendran una intensidad entre [0,255], lo que permite elaborar un histograma de 256 bins a partir de la información."
      ]
    },
    {
      "cell_type": "markdown",
      "metadata": {
        "id": "FZ9s-5ZGQLTZ"
      },
      "source": [
        "# Desarrollo P2"
      ]
    },
    {
      "cell_type": "markdown",
      "metadata": {
        "id": "Jw3lSUP0ATDa"
      },
      "source": [
        "## Extraer_Caract():\n",
        "Dado una imagen de 500x600, devuelve un **vector con histogramas resultantes de dividir la imagen en 30 regiones**. Esta función permite *normalizar los histogramas* que se calculan si se le entrega un booleano \"True\" como argumento adicional."
      ]
    },
    {
      "cell_type": "code",
      "metadata": {
        "id": "I_j7ukMxyhEA"
      },
      "source": [
        "def Extraer_Caract(Imagen, Normalizar=False):\n",
        "  Hist_Arr = np.zeros((0,))\n",
        "  # se recorre la matriz de la imagen para dividir en 30 zonas\n",
        "  for row in range(0, Imagen.shape[0], 100): \n",
        "    for col in range(0, Imagen.shape[1], 100):\n",
        "      # se calcula el histograma de la zona actual\n",
        "      hist, bin_edges = np.histogram(Imagen[row:row+100, col:col+100], bins=59, density=Normalizar)\n",
        "      Hist_Arr = np.concatenate((Hist_Arr, hist))\n",
        "  return Hist_Arr"
      ],
      "execution_count": 15,
      "outputs": []
    },
    {
      "cell_type": "markdown",
      "metadata": {
        "id": "Wo5GEgQfRxnC"
      },
      "source": [
        "# Desarrollo P3"
      ]
    },
    {
      "cell_type": "markdown",
      "metadata": {
        "id": "5OTvDgrlAdwk"
      },
      "source": [
        "## Distancia():\n",
        "Permite calcular la distancia punto a punto entre dos vectores dados con un mismo largo."
      ]
    },
    {
      "cell_type": "code",
      "metadata": {
        "id": "I_6XnWPo1sBJ"
      },
      "source": [
        "def distancia(vec1, vec2):\n",
        "  assert len(vec1) == len(vec2)\n",
        "  n = len(vec1)\n",
        "  dist = 0\n",
        "  for i in range(0, n):\n",
        "    dist = dist + abs(vec1[i] - vec2[i])\n",
        "  return dist"
      ],
      "execution_count": 16,
      "outputs": []
    },
    {
      "cell_type": "markdown",
      "metadata": {
        "id": "v86Z6X_U2aZa"
      },
      "source": [
        "# Desarrollo P4"
      ]
    },
    {
      "cell_type": "markdown",
      "metadata": {
        "id": "oUxxrVQB2bym"
      },
      "source": [
        "## Base de datos:\n",
        "\n",
        "Utilizando la variable Gal_LBP_List que contiene la transformacion LBP de las imágenes del archivo ojos_gal.zip, se construye una base de datos con los vectores de características de las imágenes contenidas en el archivo."
      ]
    },
    {
      "cell_type": "code",
      "metadata": {
        "id": "ES_Xz8-u2dKI"
      },
      "source": [
        "DB_Gal = []\n",
        "\n",
        "for matriz in Gal_LBP: # Se recorre la lista de las imágenes de Ojos_gal\n",
        "  # Se calcula el vector de características de la imagen\n",
        "  Gal_caract = Extraer_Caract(matriz, True)\n",
        "  # Se almacena el vector de características calculado en una lista\n",
        "  DB_Gal.append(Gal_caract)"
      ],
      "execution_count": 17,
      "outputs": []
    },
    {
      "cell_type": "markdown",
      "metadata": {
        "id": "gSiaKZDBQPlV"
      },
      "source": [
        "# Desarrollo P5"
      ]
    },
    {
      "cell_type": "markdown",
      "metadata": {
        "id": "z3fKpJKuES2J"
      },
      "source": [
        "### Reconocimiento():\n",
        "Esta función identifica a sujetos cuyas matrices pertenecientes a los ojos de sujetos se encuentran contenidos en una lista, teniendo como referencia una determinada base de datos. Notese que **se asume que todos los sujetos a identificar se encuentran en la base de datos**, por lo que esta función se limita a **relacionar los sujetos del conjunto entrante con los contenidos en la base de datos**."
      ]
    },
    {
      "cell_type": "code",
      "metadata": {
        "id": "PFn8AHEI2nOc"
      },
      "source": [
        "def Reconocimiento_P5(DB, lista):\n",
        "  Lista_minimos = [] # Se guardarán los valores mínimos.\n",
        "  Sujeto_Base_Datos = 1\n",
        "  for matriz in lista:\n",
        "    Lista_Comparacion = []\n",
        "    test_caract = Extraer_Caract(matriz, True) # Extraer mi vector de características\n",
        "    for caract in DB:      \n",
        "      Distancia_Elementos = distancia(caract, test_caract) # Calculo la distancia entre los 2 vectores\n",
        "      Lista_Comparacion.append(Distancia_Elementos) # Se guarda la distancia en un arreglo\n",
        "    if Lista_Comparacion.index(min(Lista_Comparacion)) + 1 == Sujeto_Base_Datos:\n",
        "      Lista_minimos.append(min(Lista_Comparacion)) # Se guarda la mínima distancia entre el vector de caract. de Test y el de la base de datos\n",
        "    print('El sujeto ' + str(Sujeto_Base_Datos) +\n",
        "        ' ha sido identificado como el sujeto ' + str(Lista_Comparacion.index(min(Lista_Comparacion)) + 1) +\n",
        "        ' en nuestra base de datos. Distancia mínima: ' + str(min(Lista_Comparacion)))\n",
        "    Sujeto_Base_Datos += 1\n",
        "  print('Sujetos encontrados en la base de datos: ' + str(len(Lista_minimos)) + '/' + str(len(lista)))"
      ],
      "execution_count": 18,
      "outputs": []
    },
    {
      "cell_type": "markdown",
      "metadata": {
        "id": "e6NpUYamhZey"
      },
      "source": [
        "Prueba de reconocimiento entre las imagenes del los archivos ojos_gal.zip y ojos_test.zip."
      ]
    },
    {
      "cell_type": "code",
      "metadata": {
        "id": "OoIwySmbZgeW",
        "colab": {
          "base_uri": "https://localhost:8080/"
        },
        "outputId": "bdc48b48-dec1-41cb-84a5-dafbbe9ea265"
      },
      "source": [
        "P5 = Reconocimiento_P5(DB_Gal, Test_LBP)"
      ],
      "execution_count": 19,
      "outputs": [
        {
          "output_type": "stream",
          "text": [
            "El sujeto 1 ha sido identificado como el sujeto 1 en nuestra base de datos. Distancia mínima: 9.899357142857141\n",
            "El sujeto 2 ha sido identificado como el sujeto 2 en nuestra base de datos. Distancia mínima: 3.2959928571428603\n",
            "El sujeto 3 ha sido identificado como el sujeto 3 en nuestra base de datos. Distancia mínima: 5.535042857142864\n",
            "El sujeto 4 ha sido identificado como el sujeto 4 en nuestra base de datos. Distancia mínima: 7.567592857142867\n",
            "El sujeto 5 ha sido identificado como el sujeto 5 en nuestra base de datos. Distancia mínima: 8.513700000000004\n",
            "El sujeto 6 ha sido identificado como el sujeto 6 en nuestra base de datos. Distancia mínima: 10.341014285714298\n",
            "El sujeto 7 ha sido identificado como el sujeto 7 en nuestra base de datos. Distancia mínima: 8.648978571428579\n",
            "El sujeto 8 ha sido identificado como el sujeto 8 en nuestra base de datos. Distancia mínima: 10.150107142857154\n",
            "El sujeto 9 ha sido identificado como el sujeto 9 en nuestra base de datos. Distancia mínima: 9.370464285714297\n",
            "El sujeto 10 ha sido identificado como el sujeto 10 en nuestra base de datos. Distancia mínima: 5.486578571428575\n",
            "Sujetos encontrados en la base de datos: 10/10\n"
          ],
          "name": "stdout"
        }
      ]
    },
    {
      "cell_type": "markdown",
      "metadata": {
        "id": "rQ6p6PhyhcrY"
      },
      "source": [
        "\n",
        "Con lo anterior se determina que se realizan 10 reconocimientos correctos. Nótese que la distancia mínima **no es superior a d = 10.36**."
      ]
    },
    {
      "cell_type": "markdown",
      "metadata": {
        "id": "q4A_8d85ZaVD"
      },
      "source": [
        "# Desarrollo P6\n",
        "Se tiene ahora una lista (*Impostor_LBP*) con 3 individuos: 1 contenido en la base de datos (denominado *falso impostor*), y 2 individuos **que no se encuentran registrados en la base de datos**. Al aplicar la función creada anteriormente (*Reconocimiento_P5()*), se asociará cada sujeto con uno presente en la base de datos, a pesar que no esté contenido ahí, como se puede apreciar a continuación."
      ]
    },
    {
      "cell_type": "code",
      "metadata": {
        "id": "MHrAVaAqxYlt",
        "colab": {
          "base_uri": "https://localhost:8080/"
        },
        "outputId": "9c467901-799c-4e96-d69f-e0673aec2b02"
      },
      "source": [
        "P6_Prueba = Reconocimiento_P5(DB_Gal, Impostor_LBP)"
      ],
      "execution_count": 28,
      "outputs": [
        {
          "output_type": "stream",
          "text": [
            "El sujeto 1 ha sido identificado como el sujeto 9 en nuestra base de datos. Distancia mínima: 13.906721428571451\n",
            "El sujeto 2 ha sido identificado como el sujeto 2 en nuestra base de datos. Distancia mínima: 6.088378571428577\n",
            "El sujeto 3 ha sido identificado como el sujeto 3 en nuestra base de datos. Distancia mínima: 15.473592857142863\n",
            "Sujetos encontrados en la base de datos: 2/3\n"
          ],
          "name": "stdout"
        }
      ]
    },
    {
      "cell_type": "markdown",
      "metadata": {
        "id": "70CPcpCQzlRY"
      },
      "source": [
        "Se puede apreciar que, en efecto, se asoció cada uno de los sujetos de *Impostor_LBP* a sujetos dentro de la base de datos; sin embargo, las distancias para *dos de ellos* son *mayores* a las distancias típicas en comparación a los sujetos de *test_LBP*. Considerando esto, es posible **fijar un umbral para el valor de la distancia mínima** que permita discriminar si los sujetos se encuentran o no contenidos en la base de datos.\n",
        "\n",
        "De esta manera, se modifica la función *Reconocimiento_P5()* añadiéndole un parámetro adicional **\"umbral\"**, que permite establecer como *impostores* aquellos sujetos cuya distancia mínima dentro de la base de datos sea **mayor** a este. Así, se tiene la función **Reconocimiento_P6()**:"
      ]
    },
    {
      "cell_type": "code",
      "metadata": {
        "id": "FJYqzBPVSEZW"
      },
      "source": [
        "def Reconocimiento_P6(DB, lista, umbral):\n",
        "  Lista_minimos = []\n",
        "  Sujeto_Base_Datos = 1\n",
        "  for matriz in lista:\n",
        "    Lista_Comparacion = []\n",
        "    test_caract = Extraer_Caract(matriz, True)\n",
        "    for caract in DB:      \n",
        "      Distancia_Elementos = distancia(caract, test_caract)\n",
        "      Lista_Comparacion.append(Distancia_Elementos)\n",
        "    if min(Lista_Comparacion) < umbral:\n",
        "      Lista_minimos.append(min(Lista_Comparacion))\n",
        "      print('El sujeto ' + str(Sujeto_Base_Datos) +\n",
        "          ' ha sido identificado como el sujeto ' + str(Lista_Comparacion.index(min(Lista_Comparacion)) + 1) +\n",
        "          ' en nuestra base de datos. Distancia mínima: ' + str(min(Lista_Comparacion)))\n",
        "    else:\n",
        "      print('No se ha encontrado el sujeto ' + str(Sujeto_Base_Datos) +   ' en la base de datos. Es un Impostor!!!')\n",
        "    Sujeto_Base_Datos += 1\n",
        "  print('Sujetos encontrados en la base de datos: ' + str(len(Lista_minimos)) + '/' + str(len(lista)))"
      ],
      "execution_count": 21,
      "outputs": []
    },
    {
      "cell_type": "markdown",
      "metadata": {
        "id": "ekvpXgJR1ZUO"
      },
      "source": [
        "Por último, se fija **umbral = 10.36**, ya que se observó que, en la base de datos, los valores de las distancias para *Test_LBP* no superaban ese umbral.\n",
        "\n",
        "Se tiene a continuación el reconocimiento a los sujetos de la lista *Impostor_LBP*:"
      ]
    },
    {
      "cell_type": "code",
      "metadata": {
        "id": "-GiTu4KZ2nws",
        "colab": {
          "base_uri": "https://localhost:8080/"
        },
        "outputId": "2895351f-9be0-4330-a187-3e9578e483d4"
      },
      "source": [
        "P6 = Reconocimiento_P6(DB_Gal, Impostor_LBP, 10.36)"
      ],
      "execution_count": 25,
      "outputs": [
        {
          "output_type": "stream",
          "text": [
            "No se ha encontrado el sujeto 1 en la base de datos. Es un Impostor!!!\n",
            "El sujeto 2 ha sido identificado como el sujeto 2 en nuestra base de datos. Distancia mínima: 6.088378571428577\n",
            "No se ha encontrado el sujeto 3 en la base de datos. Es un Impostor!!!\n",
            "Sujetos encontrados en la base de datos: 1/3\n"
          ],
          "name": "stdout"
        }
      ]
    },
    {
      "cell_type": "markdown",
      "metadata": {
        "id": "7QcnEFMn2w7w"
      },
      "source": [
        "Se puede observar que, a partir de **la distancia mínima entre los vectores de características**, en conjunto con un **umbral determinado**, ha sido posible discriminar a aquellos impostores que no se encuentran en la base de datos. A su vez, se observa que el sujeto dos en la lista *Impostor_LBP* **sí** se encuentra dentro de la base de datos (esto de acuerdo a que **su distancia mínima entre un elemento dentro de la base de datos se encuentra bajo el umbral establecido**), por lo que se identifica a este como el **falso impostor**."
      ]
    },
    {
      "cell_type": "markdown",
      "metadata": {
        "id": "j8lSrKmd343B"
      },
      "source": [
        "Por último, se corrobora la función Reconocimiento_P6() con la lista *Test_LBP*, con el objetivo de verificar su correcto funcionamiento:"
      ]
    },
    {
      "cell_type": "code",
      "metadata": {
        "id": "uHxmcKRn4Cp0",
        "colab": {
          "base_uri": "https://localhost:8080/"
        },
        "outputId": "f8c5ecf6-fc10-4147-d860-58c8bac723c1"
      },
      "source": [
        "Reconocimiento_P6(DB_Gal, Test_LBP, 10.36)"
      ],
      "execution_count": 26,
      "outputs": [
        {
          "output_type": "stream",
          "text": [
            "El sujeto 1 ha sido identificado como el sujeto 1 en nuestra base de datos. Distancia mínima: 9.899357142857141\n",
            "El sujeto 2 ha sido identificado como el sujeto 2 en nuestra base de datos. Distancia mínima: 3.2959928571428603\n",
            "El sujeto 3 ha sido identificado como el sujeto 3 en nuestra base de datos. Distancia mínima: 5.535042857142864\n",
            "El sujeto 4 ha sido identificado como el sujeto 4 en nuestra base de datos. Distancia mínima: 7.567592857142867\n",
            "El sujeto 5 ha sido identificado como el sujeto 5 en nuestra base de datos. Distancia mínima: 8.513700000000004\n",
            "El sujeto 6 ha sido identificado como el sujeto 6 en nuestra base de datos. Distancia mínima: 10.341014285714298\n",
            "El sujeto 7 ha sido identificado como el sujeto 7 en nuestra base de datos. Distancia mínima: 8.648978571428579\n",
            "El sujeto 8 ha sido identificado como el sujeto 8 en nuestra base de datos. Distancia mínima: 10.150107142857154\n",
            "El sujeto 9 ha sido identificado como el sujeto 9 en nuestra base de datos. Distancia mínima: 9.370464285714297\n",
            "El sujeto 10 ha sido identificado como el sujeto 10 en nuestra base de datos. Distancia mínima: 5.486578571428575\n",
            "Sujetos encontrados en la base de datos: 10/10\n"
          ],
          "name": "stdout"
        }
      ]
    },
    {
      "cell_type": "markdown",
      "metadata": {
        "id": "ks_cfwV14Ium"
      },
      "source": [
        "Nótese que, con un umbral más bajo, se comienza a dejar algunos sujetos fuera de la base de datos."
      ]
    },
    {
      "cell_type": "code",
      "metadata": {
        "id": "5vbLtgE94av2",
        "colab": {
          "base_uri": "https://localhost:8080/"
        },
        "outputId": "f3c2e98d-2d1b-4879-f444-0e122b6f6389"
      },
      "source": [
        "Reconocimiento_P6(DB_Gal, Test_LBP, 8)"
      ],
      "execution_count": 27,
      "outputs": [
        {
          "output_type": "stream",
          "text": [
            "No se ha encontrado el sujeto 1 en la base de datos. Es un Impostor!!!\n",
            "El sujeto 2 ha sido identificado como el sujeto 2 en nuestra base de datos. Distancia mínima: 3.2959928571428603\n",
            "El sujeto 3 ha sido identificado como el sujeto 3 en nuestra base de datos. Distancia mínima: 5.535042857142864\n",
            "El sujeto 4 ha sido identificado como el sujeto 4 en nuestra base de datos. Distancia mínima: 7.567592857142867\n",
            "No se ha encontrado el sujeto 5 en la base de datos. Es un Impostor!!!\n",
            "No se ha encontrado el sujeto 6 en la base de datos. Es un Impostor!!!\n",
            "No se ha encontrado el sujeto 7 en la base de datos. Es un Impostor!!!\n",
            "No se ha encontrado el sujeto 8 en la base de datos. Es un Impostor!!!\n",
            "No se ha encontrado el sujeto 9 en la base de datos. Es un Impostor!!!\n",
            "El sujeto 10 ha sido identificado como el sujeto 10 en nuestra base de datos. Distancia mínima: 5.486578571428575\n",
            "Sujetos encontrados en la base de datos: 4/10\n"
          ],
          "name": "stdout"
        }
      ]
    }
  ]
}