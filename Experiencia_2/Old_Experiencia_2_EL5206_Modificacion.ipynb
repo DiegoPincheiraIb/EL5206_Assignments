{
  "nbformat": 4,
  "nbformat_minor": 0,
  "metadata": {
    "colab": {
      "name": "Experiencia_2_EL5206.ipynb",
      "provenance": [],
      "collapsed_sections": [],
      "authorship_tag": "ABX9TyMeyNSsZ6sWpIOlj8C7Z9Wy",
      "include_colab_link": true
    },
    "kernelspec": {
      "name": "python3",
      "display_name": "Python 3"
    }
  },
  "cells": [
    {
      "cell_type": "markdown",
      "metadata": {
        "id": "view-in-github",
        "colab_type": "text"
      },
      "source": [
        "<a href=\"https://colab.research.google.com/github/DiegoPincheiraIb/Experiencias_EL5206/blob/master/Experiencia_2/Experiencia_2_EL5206_Modificacion.ipynb\" target=\"_parent\"><img src=\"https://colab.research.google.com/assets/colab-badge.svg\" alt=\"Open In Colab\"/></a>"
      ]
    },
    {
      "cell_type": "markdown",
      "metadata": {
        "id": "RRrncl9Sf1PF",
        "colab_type": "text"
      },
      "source": [
        "# Experiencia número 2: Luckas Diaz - Diego Pincheira"
      ]
    },
    {
      "cell_type": "markdown",
      "metadata": {
        "id": "YskArS0srO5c",
        "colab_type": "text"
      },
      "source": [
        "# Configuraciones Preliminares:\n",
        "Se cargan las librerías requeridas. Para esta experiencia, se requiere el uso de la librería **natsorted**."
      ]
    },
    {
      "cell_type": "code",
      "metadata": {
        "id": "YfR_lHmHquxD",
        "colab_type": "code",
        "colab": {}
      },
      "source": [
        "import numpy as np\n",
        "import matplotlib.pyplot as plt\n",
        "from skimage import color, io, exposure\n",
        "import os\n",
        "# pip install natsort # Se debe tener instalado natsorted para ejecutar el código\n",
        "from natsort import natsorted"
      ],
      "execution_count": 5,
      "outputs": []
    },
    {
      "cell_type": "markdown",
      "metadata": {
        "id": "2zGw6PyuuYFW",
        "colab_type": "text"
      },
      "source": [
        "## Carga de archivos\n",
        "Se suben los archivos **ojos_gal.rar**, **ojos_impostor.rar** y **ojos_test.rar** a Google Colab. Comente esta celda si se utiliza otra plataforma."
      ]
    },
    {
      "cell_type": "code",
      "metadata": {
        "id": "yv9Bbn9duaFB",
        "colab_type": "code",
        "colab": {
          "resources": {
            "http://localhost:8080/nbextensions/google.colab/files.js": {
              "data": "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",
              "ok": true,
              "headers": [
                [
                  "content-type",
                  "application/javascript"
                ]
              ],
              "status": 200,
              "status_text": ""
            }
          },
          "base_uri": "https://localhost:8080/",
          "height": 140
        },
        "outputId": "1a918fca-f5e8-45d9-f991-6324383373b0"
      },
      "source": [
        "from google.colab import files\n",
        "uploaded = files.upload()"
      ],
      "execution_count": 3,
      "outputs": [
        {
          "output_type": "display_data",
          "data": {
            "text/html": [
              "\n",
              "     <input type=\"file\" id=\"files-eba34831-3298-4212-941a-2b074d79ac6a\" name=\"files[]\" multiple disabled\n",
              "        style=\"border:none\" />\n",
              "     <output id=\"result-eba34831-3298-4212-941a-2b074d79ac6a\">\n",
              "      Upload widget is only available when the cell has been executed in the\n",
              "      current browser session. Please rerun this cell to enable.\n",
              "      </output>\n",
              "      <script src=\"/nbextensions/google.colab/files.js\"></script> "
            ],
            "text/plain": [
              "<IPython.core.display.HTML object>"
            ]
          },
          "metadata": {
            "tags": []
          }
        },
        {
          "output_type": "stream",
          "text": [
            "Saving ojos_impostor.rar to ojos_impostor.rar\n",
            "Saving ojos_test.rar to ojos_test.rar\n",
            "Saving ojos_gal.rar to ojos_gal.rar\n"
          ],
          "name": "stdout"
        }
      ]
    },
    {
      "cell_type": "markdown",
      "metadata": {
        "id": "RoNggs76PUmD",
        "colab_type": "text"
      },
      "source": [
        "Se descomprimen los archivos."
      ]
    },
    {
      "cell_type": "code",
      "metadata": {
        "id": "uCLXJ2fCvcjz",
        "colab_type": "code",
        "colab": {
          "base_uri": "https://localhost:8080/",
          "height": 823
        },
        "outputId": "f2eb34f7-4307-46ee-8847-f45dc38c4b34"
      },
      "source": [
        "!unrar x ojos_gal.rar\n",
        "!unrar x ojos_impostor.rar\n",
        "!unrar x ojos_test.rar"
      ],
      "execution_count": 4,
      "outputs": [
        {
          "output_type": "stream",
          "text": [
            "\n",
            "UNRAR 5.50 freeware      Copyright (c) 1993-2017 Alexander Roshal\n",
            "\n",
            "\n",
            "Extracting from ojos_gal.rar\n",
            "\n",
            "Creating    ojos_gal                                                  OK\n",
            "Extracting  ojos_gal/I10_gal.jpg                                         \b\b\b\b  9%\b\b\b\b\b  OK \n",
            "Extracting  ojos_gal/I1_gal.jpg                                          \b\b\b\b 19%\b\b\b\b\b  OK \n",
            "Extracting  ojos_gal/I2_gal.jpg                                          \b\b\b\b 31%\b\b\b\b\b  OK \n",
            "Extracting  ojos_gal/I3_gal.jpg                                          \b\b\b\b 42%\b\b\b\b\b  OK \n",
            "Extracting  ojos_gal/I4_gal.jpg                                          \b\b\b\b 50%\b\b\b\b\b  OK \n",
            "Extracting  ojos_gal/I5_gal.jpg                                          \b\b\b\b 60%\b\b\b\b\b  OK \n",
            "Extracting  ojos_gal/I6_gal.jpg                                          \b\b\b\b 71%\b\b\b\b\b  OK \n",
            "Extracting  ojos_gal/I7_gal.jpg                                          \b\b\b\b 79%\b\b\b\b\b  OK \n",
            "Extracting  ojos_gal/I8_gal.jpg                                          \b\b\b\b 90%\b\b\b\b\b  OK \n",
            "Extracting  ojos_gal/I9_gal.jpg                                          \b\b\b\b 99%\b\b\b\b\b  OK \n",
            "All OK\n",
            "\n",
            "UNRAR 5.50 freeware      Copyright (c) 1993-2017 Alexander Roshal\n",
            "\n",
            "\n",
            "Extracting from ojos_impostor.rar\n",
            "\n",
            "Creating    ojos_impostor                                             OK\n",
            "Creating    ojos_impostor/ojos_impostor                               OK\n",
            "Extracting  ojos_impostor/ojos_impostor/imp_0001.jpg                     \b\b\b\b 32%\b\b\b\b\b  OK \n",
            "Extracting  ojos_impostor/ojos_impostor/imp_0002.jpg                     \b\b\b\b 65%\b\b\b\b\b  OK \n",
            "Extracting  ojos_impostor/ojos_impostor/imp_0003.jpg                     \b\b\b\b 99%\b\b\b\b\b  OK \n",
            "All OK\n",
            "\n",
            "UNRAR 5.50 freeware      Copyright (c) 1993-2017 Alexander Roshal\n",
            "\n",
            "\n",
            "Extracting from ojos_test.rar\n",
            "\n",
            "Creating    ojos_test                                                 OK\n",
            "Extracting  ojos_test/I10_test.jpg                                       \b\b\b\b 10%\b\b\b\b\b  OK \n",
            "Extracting  ojos_test/I1_test.jpg                                        \b\b\b\b 19%\b\b\b\b\b  OK \n",
            "Extracting  ojos_test/I2_test.jpg                                        \b\b\b\b 32%\b\b\b\b\b  OK \n",
            "Extracting  ojos_test/I3_test.jpg                                        \b\b\b\b 43%\b\b\b\b\b  OK \n",
            "Extracting  ojos_test/I4_test.jpg                                        \b\b\b\b 53%\b\b\b\b\b  OK \n",
            "Extracting  ojos_test/I5_test.jpg                                        \b\b\b\b 62%\b\b\b\b\b  OK \n",
            "Extracting  ojos_test/I6_test.jpg                                        \b\b\b\b 71%\b\b\b\b\b  OK \n",
            "Extracting  ojos_test/I7_test.jpg                                        \b\b\b\b 79%\b\b\b\b\b  OK \n",
            "Extracting  ojos_test/I8_test.jpg                                        \b\b\b\b 89%\b\b\b\b\b  OK \n",
            "Extracting  ojos_test/I9_test.jpg                                        \b\b\b\b 99%\b\b\b\b\b  OK \n",
            "All OK\n"
          ],
          "name": "stdout"
        }
      ]
    },
    {
      "cell_type": "markdown",
      "metadata": {
        "id": "8JKySCWgPaRg",
        "colab_type": "text"
      },
      "source": [
        "Se verifica que los archivos se hayan cargado."
      ]
    },
    {
      "cell_type": "code",
      "metadata": {
        "id": "BCGmflMnxGLH",
        "colab_type": "code",
        "colab": {
          "base_uri": "https://localhost:8080/",
          "height": 50
        },
        "outputId": "b3ec37a2-7963-415b-e121-b0a06bc7147c"
      },
      "source": [
        "!ls"
      ],
      "execution_count": 6,
      "outputs": [
        {
          "output_type": "stream",
          "text": [
            "ojos_gal      ojos_impostor\t ojos_test\tsample_data\n",
            "ojos_gal.rar  ojos_impostor.rar  ojos_test.rar\n"
          ],
          "name": "stdout"
        }
      ]
    },
    {
      "cell_type": "markdown",
      "metadata": {
        "id": "iqta-KVyPkCC",
        "colab_type": "text"
      },
      "source": [
        "Se crea un string con la ruta del directorio, y se ordenan los archivos de forma que el primer sujeto en la carpeta respectiva corresponda al sujeto listado como número 1 de su carpeta (esto debido a que, por defecto, no se da así.). Para esta experiencia, **es indispensable que los sujetos se encuentren ordenados.**"
      ]
    },
    {
      "cell_type": "code",
      "metadata": {
        "id": "G9hSZLxAx0af",
        "colab_type": "code",
        "colab": {}
      },
      "source": [
        "Str_Gal = 'ojos_gal/'\n",
        "Str_Impostor = 'ojos_impostor/ojos_impostor/'\n",
        "Str_Test = 'ojos_test/'\n",
        "Listado_Gal = os.listdir(Str_Gal) # Se crea un puntero al directorio\n",
        "Listado_Gal = natsorted(Listado_Gal) # Se ordenan los archivos con el número del sujeto de menor a mayor.\n",
        "Listado_Impostor = os.listdir(Str_Impostor)\n",
        "Listado_Impostor = natsorted(Listado_Impostor)\n",
        "Listado_Test = os.listdir(Str_Test)\n",
        "Listado_Test = natsorted(Listado_Test)"
      ],
      "execution_count": 7,
      "outputs": []
    },
    {
      "cell_type": "markdown",
      "metadata": {
        "id": "C5ngxB6EtCnn",
        "colab_type": "text"
      },
      "source": [
        "## Carga y preprocesamiento de imágenes"
      ]
    },
    {
      "cell_type": "markdown",
      "metadata": {
        "id": "T8hCmQfMQTAt",
        "colab_type": "text"
      },
      "source": [
        "Se crean tres listas, **Listado_Gal_Gris**, **Listado_Impostor_Gris**, y **Listado_Test_Gris**, las cuales contienen la información de los tres subconjuntos a analizar en esta tarea: **Ojos_Gal**, **Ojos_Impostor** y **Ojos_test**. El procedimiento para cargar las imágenes dentro de cada lista es el siguiente:\n",
        "\n",
        "1.   Se carga la imagen mediante **io.imread()**\n",
        "2.   Se convierte a escala de grises mediante **color.rgb2gray()**.\n",
        "3.   Se aplica *ecualización adaptativa de histograma* mediante **exposure.equalize_adapthist()**.\n",
        "4.   Se agrega la matriz generada a la lista.\n",
        "\n",
        "\n",
        "\n"
      ]
    },
    {
      "cell_type": "code",
      "metadata": {
        "id": "2hb1eBQitF-2",
        "colab_type": "code",
        "colab": {
          "base_uri": "https://localhost:8080/",
          "height": 487
        },
        "outputId": "435f082e-02a6-4b72-ae90-c6ae3335b58e"
      },
      "source": [
        "Listado_Gal_Gris = []\n",
        "print('Procesamiento del conjunto ''Ojos_Gal'':')\n",
        "for imagen in Listado_Gal:\n",
        "  print(Str_Gal + imagen)\n",
        "  Listado_Gal_Gris.append(exposure.equalize_adapthist(color.rgb2gray(io.imread(Str_Gal + imagen))))\n",
        "\n",
        "print('---------------------------------------------')\n",
        "\n",
        "Listado_Impostor_Gris = []\n",
        "print('Procesamiento del conjunto ''Ojos_Impostor'':')\n",
        "for imagen in Listado_Impostor:\n",
        "  print(Str_Impostor + imagen)\n",
        "  Listado_Impostor_Gris.append(exposure.equalize_adapthist(color.rgb2gray(io.imread(Str_Impostor + imagen))))\n",
        "\n",
        "print('---------------------------------------------')\n",
        "\n",
        "Listado_Test_Gris = []\n",
        "print('Procesamiento del conjunto ''Ojos_Test'':')\n",
        "for imagen in Listado_Test:\n",
        "  print(Str_Test + imagen)\n",
        "  Listado_Test_Gris.append(exposure.equalize_adapthist(color.rgb2gray(io.imread(Str_Test + imagen))))"
      ],
      "execution_count": 8,
      "outputs": [
        {
          "output_type": "stream",
          "text": [
            "Procesamiento del conjunto Ojos_Gal:\n",
            "ojos_gal/I1_gal.jpg\n",
            "ojos_gal/I2_gal.jpg\n",
            "ojos_gal/I3_gal.jpg\n",
            "ojos_gal/I4_gal.jpg\n",
            "ojos_gal/I5_gal.jpg\n",
            "ojos_gal/I6_gal.jpg\n",
            "ojos_gal/I7_gal.jpg\n",
            "ojos_gal/I8_gal.jpg\n",
            "ojos_gal/I9_gal.jpg\n",
            "ojos_gal/I10_gal.jpg\n",
            "---------------------------------------------\n",
            "Procesamiento del conjunto Ojos_Impostor:\n",
            "ojos_impostor/ojos_impostor/imp_0001.jpg\n",
            "ojos_impostor/ojos_impostor/imp_0002.jpg\n",
            "ojos_impostor/ojos_impostor/imp_0003.jpg\n",
            "---------------------------------------------\n",
            "Procesamiento del conjunto Ojos_Test:\n",
            "ojos_test/I1_test.jpg\n",
            "ojos_test/I2_test.jpg\n",
            "ojos_test/I3_test.jpg\n",
            "ojos_test/I4_test.jpg\n",
            "ojos_test/I5_test.jpg\n",
            "ojos_test/I6_test.jpg\n",
            "ojos_test/I7_test.jpg\n",
            "ojos_test/I8_test.jpg\n",
            "ojos_test/I9_test.jpg\n",
            "ojos_test/I10_test.jpg\n"
          ],
          "name": "stdout"
        }
      ]
    },
    {
      "cell_type": "markdown",
      "metadata": {
        "id": "oK24pPdLsGsF",
        "colab_type": "text"
      },
      "source": [
        "# Desarrollo P1\n",
        "Algoritmo LBP"
      ]
    },
    {
      "cell_type": "markdown",
      "metadata": {
        "id": "uNebyzokSLiI",
        "colab_type": "text"
      },
      "source": [
        "La función **LBP()** permite aplicar el algoritmo *Local binary patterns* a una imagen dada. La imagen resultante posee 2 pixeles menos de ancho y alto que la imagen original para no aplicar *padding* a la imagen original."
      ]
    },
    {
      "cell_type": "code",
      "metadata": {
        "id": "Dn3fRVfos0oC",
        "colab_type": "code",
        "colab": {}
      },
      "source": [
        "def LBP(ImagenGris_Matriz):\n",
        "  Matriz_Final_Copia = np.copy(ImagenGris_Matriz)\n",
        "  Mascara_Valores = np.array([[128., 64., 32.],\n",
        "                  [1., 0., 1.],\n",
        "                  [2., 4., 8.]])\n",
        "  for row in range(1,len(ImagenGris_Matriz)-1):\n",
        "    for column in range(1,len(ImagenGris_Matriz[0])-1):\n",
        "      mask = np.zeros((3,3))\n",
        "      mask[1,1] = ImagenGris_Matriz[row,column]\n",
        "      for fila in range(-1,2):\n",
        "        for columna in range(-1,2):\n",
        "          if fila != 0 and columna !=0:                      \n",
        "            if ImagenGris_Matriz[row+fila,column+columna] > mask[1,1]:\n",
        "              mask[fila, columna] = 1\n",
        "      Numero_Entero = np.sum(mask * Mascara_Valores)\n",
        "      Matriz_Final_Copia[row, column] = Numero_Entero\n",
        "\n",
        "  Matriz_Final_Copia_Copia = np.delete(Matriz_Final_Copia, -1, 0) # Elimina la última fila\n",
        "  Matriz_Final_Copia = np.delete(Matriz_Final_Copia_Copia, -1, 1) # Elimina la última columna\n",
        "  Matriz_Final_Copia_Copia = np.delete(Matriz_Final_Copia, 0, 0) # Elimina la primera fila\n",
        "  Matriz_Final_Copia = np.delete(Matriz_Final_Copia_Copia, 0, 1) # Elimina la primera columna\n",
        "  return Matriz_Final_Copia"
      ],
      "execution_count": 9,
      "outputs": []
    },
    {
      "cell_type": "markdown",
      "metadata": {
        "id": "aZhwyJ8OeS5B",
        "colab_type": "text"
      },
      "source": [
        "Se crea la función **Imagen_Plot()**, que genera un gráfico en escala de grises a partir de la imagen objetivo."
      ]
    },
    {
      "cell_type": "code",
      "metadata": {
        "id": "Gl3GUmNBeREp",
        "colab_type": "code",
        "colab": {}
      },
      "source": [
        "def Imagen_Plot(Matriz_Obj):\n",
        "  plt.imshow(Matriz_Obj, cmap='gray')\n",
        "  plt.show()"
      ],
      "execution_count": 10,
      "outputs": []
    },
    {
      "cell_type": "markdown",
      "metadata": {
        "id": "l0RyCeMXA-8o",
        "colab_type": "text"
      },
      "source": [
        "### Aplicación de LBP a los datos:\n",
        "Se aplica LBP a los datos, y se guardan en listas."
      ]
    },
    {
      "cell_type": "code",
      "metadata": {
        "id": "Oa2TGt-AR0X9",
        "colab_type": "code",
        "colab": {}
      },
      "source": [
        "Gal_LBP = []\n",
        "Impostor_LBP = []\n",
        "Test_LBP = []\n",
        "\n",
        "for pic in Listado_Gal_Gris:\n",
        "  Gal_LBP.append(LBP(pic))\n",
        "\n",
        "for pic in Listado_Impostor_Gris:\n",
        "  Impostor_LBP.append(LBP(pic))\n",
        "\n",
        "for pic in Listado_Test_Gris:\n",
        "  Test_LBP.append(LBP(pic))"
      ],
      "execution_count": 11,
      "outputs": []
    },
    {
      "cell_type": "markdown",
      "metadata": {
        "id": "NaIcEctKetGw",
        "colab_type": "text"
      },
      "source": [
        "**¿Qué características tienen las imágenes procesadas con LBP?**\n",
        "\n",
        "Una imagen procesada con LBP otorga una **mejor visualizacion** para los detalles mas finos y las texturas de la imagen, permitiendo una **mejor extracción de características**. Por otra parte, como resultado del procedimiento anterior, los pixeles tendran una intensidad entre [0,255], lo que permite elaborar un histograma de 256 bins a partir de la información."
      ]
    },
    {
      "cell_type": "markdown",
      "metadata": {
        "id": "FZ9s-5ZGQLTZ",
        "colab_type": "text"
      },
      "source": [
        "# Desarrollo P2"
      ]
    },
    {
      "cell_type": "markdown",
      "metadata": {
        "id": "Jw3lSUP0ATDa",
        "colab_type": "text"
      },
      "source": [
        "## Extraer_Caract():\n",
        "Dado una imagen de 500x600, devuelve un **vector con histogramas resultantes de dividir la imagen en 30 regiones**. Esta función permite *normalizar los histogramas* que se calculan si se le entrega un booleano \"True\" como argumento adicional."
      ]
    },
    {
      "cell_type": "code",
      "metadata": {
        "id": "I_j7ukMxyhEA",
        "colab_type": "code",
        "colab": {}
      },
      "source": [
        "def Extraer_Caract(Imagen, Normalizar=False):\n",
        "  Hist_Arr = np.zeros((0,))\n",
        "  # se recorre la matriz de la imagen para dividir en 30 zonas\n",
        "  for row in range(0, Imagen.shape[0], 100): \n",
        "    for col in range(0, Imagen.shape[1], 100):\n",
        "      # se calcula el histograma de la zona actual\n",
        "      hist, bin_edges = np.histogram(Imagen[row:row+100, col:col+100], bins=59, density=Normalizar)\n",
        "      Hist_Arr = np.concatenate((Hist_Arr, hist))\n",
        "  return Hist_Arr"
      ],
      "execution_count": 12,
      "outputs": []
    },
    {
      "cell_type": "markdown",
      "metadata": {
        "id": "Wo5GEgQfRxnC",
        "colab_type": "text"
      },
      "source": [
        "# Desarrollo P3"
      ]
    },
    {
      "cell_type": "markdown",
      "metadata": {
        "id": "5OTvDgrlAdwk",
        "colab_type": "text"
      },
      "source": [
        "## Distancia():\n",
        "Permite calcular la distancia punto a punto entre dos vectores dados con un mismo largo."
      ]
    },
    {
      "cell_type": "code",
      "metadata": {
        "id": "I_6XnWPo1sBJ",
        "colab_type": "code",
        "colab": {}
      },
      "source": [
        "def distancia(vec1, vec2):\n",
        "  assert len(vec1) == len(vec2)\n",
        "  n = len(vec1)\n",
        "  dist = 0\n",
        "  for i in range(0, n):\n",
        "    dist = dist + abs(vec1[i] - vec2[i])\n",
        "  return dist"
      ],
      "execution_count": 13,
      "outputs": []
    },
    {
      "cell_type": "markdown",
      "metadata": {
        "id": "v86Z6X_U2aZa",
        "colab_type": "text"
      },
      "source": [
        "# Desarrollo P4"
      ]
    },
    {
      "cell_type": "markdown",
      "metadata": {
        "id": "oUxxrVQB2bym",
        "colab_type": "text"
      },
      "source": [
        "## Base de datos:\n",
        "\n",
        "Utilizando la variable Gal_LBP_List que contiene la transformacion LBP de las imágenes del archivo ojos_gal.zip, se construye una base de datos con los vectores de características de las imágenes contenidas en el archivo."
      ]
    },
    {
      "cell_type": "code",
      "metadata": {
        "id": "ES_Xz8-u2dKI",
        "colab_type": "code",
        "colab": {}
      },
      "source": [
        "DB_Gal = []\n",
        "\n",
        "for matriz in Gal_LBP: # Se recorre la lista de las imágenes de Ojos_gal\n",
        "  # Se calcula el vector de características de la imagen\n",
        "  Gal_caract = Extraer_Caract(matriz, True)\n",
        "  # Se almacena el vector de características calculado en una lista\n",
        "  DB_Gal.append(Gal_caract)"
      ],
      "execution_count": 15,
      "outputs": []
    },
    {
      "cell_type": "markdown",
      "metadata": {
        "id": "gSiaKZDBQPlV",
        "colab_type": "text"
      },
      "source": [
        "# Desarrollo P5"
      ]
    },
    {
      "cell_type": "markdown",
      "metadata": {
        "id": "z3fKpJKuES2J",
        "colab_type": "text"
      },
      "source": [
        "### Reconocimiento():\n",
        "Esta función identifica a sujetos cuyas matrices pertenecientes a los ojos de sujetos se encuentran contenidos en una lista, teniendo como referencia una determinada base de datos. Notese que **se asume que todos los sujetos a identificar se encuentran en la base de datos**, por lo que esta función se limita a **relacionar los sujetos del conjunto entrante con los contenidos en la base de datos**."
      ]
    },
    {
      "cell_type": "code",
      "metadata": {
        "id": "PFn8AHEI2nOc",
        "colab_type": "code",
        "colab": {}
      },
      "source": [
        "def Reconocimiento_P5(DB, lista):\n",
        "  Lista_minimos = [] # Se guardarán los valores mínimos.\n",
        "  Sujeto_Base_Datos = 1\n",
        "  for matriz in lista:\n",
        "    Lista_Comparacion = []\n",
        "    test_caract = Extraer_Caract(matriz, True) # Extraer mi vector de características\n",
        "    for caract in DB:      \n",
        "      Distancia_Elementos = distancia(caract, test_caract) # Calculo la distancia entre los 2 vectores\n",
        "      Lista_Comparacion.append(Distancia_Elementos) # Se guarda la distancia en un arreglo\n",
        "    if Lista_Comparacion.index(min(Lista_Comparacion)) + 1 == Sujeto_Base_Datos:\n",
        "      Lista_minimos.append(min(Lista_Comparacion)) # Se guarda la mínima distancia entre el vector de caract. de Test y el de la base de datos\n",
        "    print('El sujeto ' + str(Sujeto_Base_Datos) +\n",
        "        ' ha sido identificado como el sujeto ' + str(Lista_Comparacion.index(min(Lista_Comparacion)) + 1) +\n",
        "        ' en nuestra base de datos. Distancia mínima: ' + str(min(Lista_Comparacion)))\n",
        "    Sujeto_Base_Datos += 1\n",
        "  print('Sujetos encontrados en la base de datos: ' + str(len(Lista_minimos)) + '/' + str(len(lista)))"
      ],
      "execution_count": 16,
      "outputs": []
    },
    {
      "cell_type": "markdown",
      "metadata": {
        "id": "e6NpUYamhZey",
        "colab_type": "text"
      },
      "source": [
        "Prueba de reconocimiento entre las imagenes del los archivos ojos_gal.zip y ojos_test.zip."
      ]
    },
    {
      "cell_type": "code",
      "metadata": {
        "id": "OoIwySmbZgeW",
        "colab_type": "code",
        "colab": {
          "base_uri": "https://localhost:8080/",
          "height": 202
        },
        "outputId": "3dd396f5-9526-459a-a833-738903b2e920"
      },
      "source": [
        "P5 = Reconocimiento_P5(DB_Gal, Test_LBP)"
      ],
      "execution_count": 17,
      "outputs": [
        {
          "output_type": "stream",
          "text": [
            "El sujeto 1 ha sido identificado como el sujeto 1 en nuestra base de datos. Distancia mínima: 21.321692307692295\n",
            "El sujeto 2 ha sido identificado como el sujeto 2 en nuestra base de datos. Distancia mínima: 7.099061538461538\n",
            "El sujeto 3 ha sido identificado como el sujeto 3 en nuestra base de datos. Distancia mínima: 11.92163076923077\n",
            "El sujeto 4 ha sido identificado como el sujeto 4 en nuestra base de datos. Distancia mínima: 16.29943076923076\n",
            "El sujeto 5 ha sido identificado como el sujeto 5 en nuestra base de datos. Distancia mínima: 18.337199999999992\n",
            "El sujeto 6 ha sido identificado como el sujeto 6 en nuestra base de datos. Distancia mínima: 22.27295384615384\n",
            "El sujeto 7 ha sido identificado como el sujeto 7 en nuestra base de datos. Distancia mínima: 18.628569230769234\n",
            "El sujeto 8 ha sido identificado como el sujeto 8 en nuestra base de datos. Distancia mínima: 21.861769230769205\n",
            "El sujeto 9 ha sido identificado como el sujeto 9 en nuestra base de datos. Distancia mínima: 20.182538461538456\n",
            "El sujeto 10 ha sido identificado como el sujeto 10 en nuestra base de datos. Distancia mínima: 11.817246153846147\n",
            "Sujetos encontrados en la base de datos: 10/10\n"
          ],
          "name": "stdout"
        }
      ]
    },
    {
      "cell_type": "markdown",
      "metadata": {
        "id": "rQ6p6PhyhcrY",
        "colab_type": "text"
      },
      "source": [
        "\n",
        "Con lo anterior se determina que se realizan 10 reconocimientos correctos. Nótese que la distancia mínima **no es superior a d = 22.3**."
      ]
    },
    {
      "cell_type": "markdown",
      "metadata": {
        "id": "q4A_8d85ZaVD",
        "colab_type": "text"
      },
      "source": [
        "# Desarrollo P6\n",
        "Se tiene ahora una lista (*Impostor_LBP*) con 3 individuos: 1 contenido en la base de datos (denominado *falso impostor*), y 2 individuos **que no se encuentran registrados en la base de datos**. Al aplicar la función creada anteriormente (*Reconocimiento_P5()*), se asociará cada sujeto con uno presente en la base de datos, a pesar que no esté contenido ahí, como se puede apreciar a continuación."
      ]
    },
    {
      "cell_type": "code",
      "metadata": {
        "id": "MHrAVaAqxYlt",
        "colab_type": "code",
        "colab": {
          "base_uri": "https://localhost:8080/",
          "height": 84
        },
        "outputId": "731bcee1-2a31-4d48-f23b-0c93610fb49a"
      },
      "source": [
        "P6_Prueba = Reconocimiento_P5(DB_Gal, Impostor_LBP)"
      ],
      "execution_count": 18,
      "outputs": [
        {
          "output_type": "stream",
          "text": [
            "El sujeto 1 ha sido identificado como el sujeto 9 en nuestra base de datos. Distancia mínima: 29.95293846153846\n",
            "El sujeto 2 ha sido identificado como el sujeto 2 en nuestra base de datos. Distancia mínima: 13.113430769230773\n",
            "El sujeto 3 ha sido identificado como el sujeto 3 en nuestra base de datos. Distancia mínima: 33.32773846153842\n",
            "Sujetos encontrados en la base de datos: 2/3\n"
          ],
          "name": "stdout"
        }
      ]
    },
    {
      "cell_type": "markdown",
      "metadata": {
        "id": "70CPcpCQzlRY",
        "colab_type": "text"
      },
      "source": [
        "Se puede apreciar que, en efecto, se asoció cada uno de los sujetos de *Impostor_LBP* a sujetos dentro de la base de datos; sin embargo, las distancias para *dos de ellos* son *mayores* a las distancias típicas en comparación a los sujetos de *test_LBP*. Considerando esto, es posible **fijar un umbral para el valor de la distancia mínima** que permita discriminar si los sujetos se encuentran o no contenidos en la base de datos.\n",
        "\n",
        "De esta manera, se modifica la función *Reconocimiento_P5()* añadiéndole un parámetro adicional **\"umbral\"**, que permite establecer como *impostores* aquellos sujetos cuya distancia mínima dentro de la base de datos sea **mayor** a este. Así, se tiene la función **Reconocimiento_P6()**:"
      ]
    },
    {
      "cell_type": "code",
      "metadata": {
        "colab_type": "code",
        "id": "FJYqzBPVSEZW",
        "colab": {}
      },
      "source": [
        "def Reconocimiento_P6(DB, lista, umbral):\n",
        "  Lista_minimos = []\n",
        "  Sujeto_Base_Datos = 1\n",
        "  for matriz in lista:\n",
        "    Lista_Comparacion = []\n",
        "    test_caract = Extraer_Caract(matriz, True)\n",
        "    for caract in DB:      \n",
        "      Distancia_Elementos = distancia(caract, test_caract)\n",
        "      Lista_Comparacion.append(Distancia_Elementos)\n",
        "    if min(Lista_Comparacion) < umbral:\n",
        "      Lista_minimos.append(min(Lista_Comparacion))\n",
        "      print('El sujeto ' + str(Sujeto_Base_Datos) +\n",
        "          ' ha sido identificado como el sujeto ' + str(Lista_Comparacion.index(min(Lista_Comparacion)) + 1) +\n",
        "          ' en nuestra base de datos. Distancia mínima: ' + str(min(Lista_Comparacion)))\n",
        "    else:\n",
        "      print('No se ha encontrado el sujeto ' + str(Sujeto_Base_Datos) +   ' en la base de datos. Es un Impostor!!!')\n",
        "    Sujeto_Base_Datos += 1\n",
        "  print('Sujetos encontrados en la base de datos: ' + str(len(Lista_minimos)) + '/' + str(len(lista)))"
      ],
      "execution_count": 19,
      "outputs": []
    },
    {
      "cell_type": "markdown",
      "metadata": {
        "id": "ekvpXgJR1ZUO",
        "colab_type": "text"
      },
      "source": [
        "Por último, se fija **umbral = 22.3**, ya que se observó que, en la base de datos, los valores de las distancias para *Test_LBP* no superaban ese umbral.\n",
        "\n",
        "Se tiene a continuación el reconocimiento a los sujetos de la lista *Impostor_LBP*:"
      ]
    },
    {
      "cell_type": "code",
      "metadata": {
        "id": "-GiTu4KZ2nws",
        "colab_type": "code",
        "colab": {
          "base_uri": "https://localhost:8080/",
          "height": 84
        },
        "outputId": "92a2dc9d-c77d-4456-ad00-e5cd5337f911"
      },
      "source": [
        "P6 = Reconocimiento_P6(DB_Gal, Impostor_LBP, 22.3)"
      ],
      "execution_count": 20,
      "outputs": [
        {
          "output_type": "stream",
          "text": [
            "No se ha encontrado el sujeto 1 en la base de datos. Es un Impostor!!!\n",
            "El sujeto 2 ha sido identificado como el sujeto 2 en nuestra base de datos. Distancia mínima: 13.113430769230773\n",
            "No se ha encontrado el sujeto 3 en la base de datos. Es un Impostor!!!\n",
            "Sujetos encontrados en la base de datos: 1/3\n"
          ],
          "name": "stdout"
        }
      ]
    },
    {
      "cell_type": "markdown",
      "metadata": {
        "id": "7QcnEFMn2w7w",
        "colab_type": "text"
      },
      "source": [
        "Se puede observar que, a partir de **la distancia mínima entre los vectores de características**, en conjunto con un **umbral determinado**, ha sido posible discriminar a aquellos impostores que no se encuentran en la base de datos. A su vez, se observa que el sujeto dos en la lista *Impostor_LBP* **sí** se encuentra dentro de la base de datos (esto de acuerdo a que **su distancia mínima entre un elemento dentro de la base de datos se encuentra bajo el umbral establecido**), por lo que se identifica a este como el **falso impostor**."
      ]
    },
    {
      "cell_type": "markdown",
      "metadata": {
        "id": "j8lSrKmd343B",
        "colab_type": "text"
      },
      "source": [
        "Por último, se corrobora la función Reconocimiento_P6() con la lista *Test_LBP*, con el objetivo de verificar su correcto funcionamiento:"
      ]
    },
    {
      "cell_type": "code",
      "metadata": {
        "id": "uHxmcKRn4Cp0",
        "colab_type": "code",
        "colab": {
          "base_uri": "https://localhost:8080/",
          "height": 202
        },
        "outputId": "c08f856d-8613-481f-d088-2258b2cf0007"
      },
      "source": [
        "Reconocimiento_P6(DB_Gal, Test_LBP, 22.3)"
      ],
      "execution_count": 21,
      "outputs": [
        {
          "output_type": "stream",
          "text": [
            "El sujeto 1 ha sido identificado como el sujeto 1 en nuestra base de datos. Distancia mínima: 21.321692307692295\n",
            "El sujeto 2 ha sido identificado como el sujeto 2 en nuestra base de datos. Distancia mínima: 7.099061538461538\n",
            "El sujeto 3 ha sido identificado como el sujeto 3 en nuestra base de datos. Distancia mínima: 11.92163076923077\n",
            "El sujeto 4 ha sido identificado como el sujeto 4 en nuestra base de datos. Distancia mínima: 16.29943076923076\n",
            "El sujeto 5 ha sido identificado como el sujeto 5 en nuestra base de datos. Distancia mínima: 18.337199999999992\n",
            "El sujeto 6 ha sido identificado como el sujeto 6 en nuestra base de datos. Distancia mínima: 22.27295384615384\n",
            "El sujeto 7 ha sido identificado como el sujeto 7 en nuestra base de datos. Distancia mínima: 18.628569230769234\n",
            "El sujeto 8 ha sido identificado como el sujeto 8 en nuestra base de datos. Distancia mínima: 21.861769230769205\n",
            "El sujeto 9 ha sido identificado como el sujeto 9 en nuestra base de datos. Distancia mínima: 20.182538461538456\n",
            "El sujeto 10 ha sido identificado como el sujeto 10 en nuestra base de datos. Distancia mínima: 11.817246153846147\n",
            "Sujetos encontrados en la base de datos: 10/10\n"
          ],
          "name": "stdout"
        }
      ]
    },
    {
      "cell_type": "markdown",
      "metadata": {
        "id": "ks_cfwV14Ium",
        "colab_type": "text"
      },
      "source": [
        "Nótese que, con un umbral más bajo, se comienza a dejar algunos sujetos fuera de la base de datos."
      ]
    },
    {
      "cell_type": "code",
      "metadata": {
        "id": "5vbLtgE94av2",
        "colab_type": "code",
        "colab": {
          "base_uri": "https://localhost:8080/",
          "height": 202
        },
        "outputId": "96bac492-5457-41f1-a721-b509d9f4f81a"
      },
      "source": [
        "Reconocimiento_P6(DB_Gal, Test_LBP, 16)"
      ],
      "execution_count": 22,
      "outputs": [
        {
          "output_type": "stream",
          "text": [
            "No se ha encontrado el sujeto 1 en la base de datos. Es un Impostor!!!\n",
            "El sujeto 2 ha sido identificado como el sujeto 2 en nuestra base de datos. Distancia mínima: 7.099061538461538\n",
            "El sujeto 3 ha sido identificado como el sujeto 3 en nuestra base de datos. Distancia mínima: 11.92163076923077\n",
            "No se ha encontrado el sujeto 4 en la base de datos. Es un Impostor!!!\n",
            "No se ha encontrado el sujeto 5 en la base de datos. Es un Impostor!!!\n",
            "No se ha encontrado el sujeto 6 en la base de datos. Es un Impostor!!!\n",
            "No se ha encontrado el sujeto 7 en la base de datos. Es un Impostor!!!\n",
            "No se ha encontrado el sujeto 8 en la base de datos. Es un Impostor!!!\n",
            "No se ha encontrado el sujeto 9 en la base de datos. Es un Impostor!!!\n",
            "El sujeto 10 ha sido identificado como el sujeto 10 en nuestra base de datos. Distancia mínima: 11.817246153846147\n",
            "Sujetos encontrados en la base de datos: 3/10\n"
          ],
          "name": "stdout"
        }
      ]
    }
  ]
}
