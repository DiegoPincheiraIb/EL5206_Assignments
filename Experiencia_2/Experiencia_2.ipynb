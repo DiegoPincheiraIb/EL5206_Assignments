{
  "nbformat": 4,
  "nbformat_minor": 0,
  "metadata": {
    "colab": {
      "name": "Experiencia_2_EL5206_Short.ipynb",
      "provenance": [],
      "collapsed_sections": []
    },
    "kernelspec": {
      "name": "python3",
      "display_name": "Python 3"
    }
  },
  "cells": [
    {
      "cell_type": "markdown",
      "metadata": {
        "id": "view-in-github",
        "colab_type": "text"
      },
      "source": [
        "<a href=\"https://colab.research.google.com/github/DiegoPincheiraIb/Experiencias_EL5206/blob/master/Experiencia_2/Experiencia_2_EL5206.ipynb\" target=\"_parent\"><img src=\"https://colab.research.google.com/assets/colab-badge.svg\" alt=\"Open In Colab\"/></a>"
      ]
    },
    {
      "cell_type": "markdown",
      "metadata": {
        "id": "0pXrhHwOsdgK",
        "colab_type": "text"
      },
      "source": [
        "# Experiencia numero 2: Luckas Diaz - Diego Pincheira"
      ]
    },
    {
      "cell_type": "markdown",
      "metadata": {
        "id": "YskArS0srO5c",
        "colab_type": "text"
      },
      "source": [
        "# Configuraciones Preliminares"
      ]
    },
    {
      "cell_type": "code",
      "metadata": {
        "id": "YfR_lHmHquxD",
        "colab_type": "code",
        "colab": {}
      },
      "source": [
        "import numpy as np\n",
        "import matplotlib.pyplot as plt\n",
        "from skimage import color, io, exposure\n",
        "import os\n",
        "# pip install natsort # Se debe instalar natsorted para ejecutar el código\n",
        "from natsort import natsorted"
      ],
      "execution_count": 1,
      "outputs": []
    },
    {
      "cell_type": "markdown",
      "metadata": {
        "id": "2zGw6PyuuYFW",
        "colab_type": "text"
      },
      "source": [
        "Cargar los archivos *ojos_gal.rar*, *ojos_impostor.rar* y ojos_test.rar a colab"
      ]
    },
    {
      "cell_type": "code",
      "metadata": {
        "id": "yv9Bbn9duaFB",
        "colab_type": "code",
        "colab": {
          "resources": {
            "http://localhost:8080/nbextensions/google.colab/files.js": {
              "data": "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",
              "ok": true,
              "headers": [
                [
                  "content-type",
                  "application/javascript"
                ]
              ],
              "status": 200,
              "status_text": ""
            }
          },
          "base_uri": "https://localhost:8080/",
          "height": 140
        },
        "outputId": "d8d48b2a-1925-47c3-f744-05a0c5e8ceb1"
      },
      "source": [
        "from google.colab import files\n",
        "uploaded = files.upload()"
      ],
      "execution_count": 2,
      "outputs": [
        {
          "output_type": "display_data",
          "data": {
            "text/html": [
              "\n",
              "     <input type=\"file\" id=\"files-92e74a2a-4e12-467a-a3a4-984cafaf88c4\" name=\"files[]\" multiple disabled\n",
              "        style=\"border:none\" />\n",
              "     <output id=\"result-92e74a2a-4e12-467a-a3a4-984cafaf88c4\">\n",
              "      Upload widget is only available when the cell has been executed in the\n",
              "      current browser session. Please rerun this cell to enable.\n",
              "      </output>\n",
              "      <script src=\"/nbextensions/google.colab/files.js\"></script> "
            ],
            "text/plain": [
              "<IPython.core.display.HTML object>"
            ]
          },
          "metadata": {
            "tags": []
          }
        },
        {
          "output_type": "stream",
          "text": [
            "Saving ojos_gal.rar to ojos_gal.rar\n",
            "Saving ojos_impostor.rar to ojos_impostor.rar\n",
            "Saving ojos_test.rar to ojos_test.rar\n"
          ],
          "name": "stdout"
        }
      ]
    },
    {
      "cell_type": "markdown",
      "metadata": {
        "id": "pUZWJ6qStJyb",
        "colab_type": "text"
      },
      "source": [
        "Se descomprimen los archivos"
      ]
    },
    {
      "cell_type": "code",
      "metadata": {
        "id": "uCLXJ2fCvcjz",
        "colab_type": "code",
        "colab": {
          "base_uri": "https://localhost:8080/",
          "height": 823
        },
        "outputId": "d281c36a-d5c1-4850-8f41-8d04ecff8701"
      },
      "source": [
        "!unrar x ojos_gal.rar\n",
        "!unrar x ojos_impostor.rar\n",
        "!unrar x ojos_test.rar"
      ],
      "execution_count": 3,
      "outputs": [
        {
          "output_type": "stream",
          "text": [
            "\n",
            "UNRAR 5.50 freeware      Copyright (c) 1993-2017 Alexander Roshal\n",
            "\n",
            "\n",
            "Extracting from ojos_gal.rar\n",
            "\n",
            "Creating    ojos_gal                                                  OK\n",
            "Extracting  ojos_gal/I10_gal.jpg                                         \b\b\b\b  9%\b\b\b\b\b  OK \n",
            "Extracting  ojos_gal/I1_gal.jpg                                          \b\b\b\b 19%\b\b\b\b\b  OK \n",
            "Extracting  ojos_gal/I2_gal.jpg                                          \b\b\b\b 31%\b\b\b\b\b  OK \n",
            "Extracting  ojos_gal/I3_gal.jpg                                          \b\b\b\b 42%\b\b\b\b\b  OK \n",
            "Extracting  ojos_gal/I4_gal.jpg                                          \b\b\b\b 50%\b\b\b\b\b  OK \n",
            "Extracting  ojos_gal/I5_gal.jpg                                          \b\b\b\b 60%\b\b\b\b\b  OK \n",
            "Extracting  ojos_gal/I6_gal.jpg                                          \b\b\b\b 71%\b\b\b\b\b  OK \n",
            "Extracting  ojos_gal/I7_gal.jpg                                          \b\b\b\b 79%\b\b\b\b\b  OK \n",
            "Extracting  ojos_gal/I8_gal.jpg                                          \b\b\b\b 90%\b\b\b\b\b  OK \n",
            "Extracting  ojos_gal/I9_gal.jpg                                          \b\b\b\b 99%\b\b\b\b\b  OK \n",
            "All OK\n",
            "\n",
            "UNRAR 5.50 freeware      Copyright (c) 1993-2017 Alexander Roshal\n",
            "\n",
            "\n",
            "Extracting from ojos_impostor.rar\n",
            "\n",
            "Creating    ojos_impostor                                             OK\n",
            "Creating    ojos_impostor/ojos_impostor                               OK\n",
            "Extracting  ojos_impostor/ojos_impostor/imp_0001.jpg                     \b\b\b\b 32%\b\b\b\b\b  OK \n",
            "Extracting  ojos_impostor/ojos_impostor/imp_0002.jpg                     \b\b\b\b 65%\b\b\b\b\b  OK \n",
            "Extracting  ojos_impostor/ojos_impostor/imp_0003.jpg                     \b\b\b\b 99%\b\b\b\b\b  OK \n",
            "All OK\n",
            "\n",
            "UNRAR 5.50 freeware      Copyright (c) 1993-2017 Alexander Roshal\n",
            "\n",
            "\n",
            "Extracting from ojos_test.rar\n",
            "\n",
            "Creating    ojos_test                                                 OK\n",
            "Extracting  ojos_test/I10_test.jpg                                       \b\b\b\b 10%\b\b\b\b\b  OK \n",
            "Extracting  ojos_test/I1_test.jpg                                        \b\b\b\b 19%\b\b\b\b\b  OK \n",
            "Extracting  ojos_test/I2_test.jpg                                        \b\b\b\b 32%\b\b\b\b\b  OK \n",
            "Extracting  ojos_test/I3_test.jpg                                        \b\b\b\b 43%\b\b\b\b\b  OK \n",
            "Extracting  ojos_test/I4_test.jpg                                        \b\b\b\b 53%\b\b\b\b\b  OK \n",
            "Extracting  ojos_test/I5_test.jpg                                        \b\b\b\b 62%\b\b\b\b\b  OK \n",
            "Extracting  ojos_test/I6_test.jpg                                        \b\b\b\b 71%\b\b\b\b\b  OK \n",
            "Extracting  ojos_test/I7_test.jpg                                        \b\b\b\b 79%\b\b\b\b\b  OK \n",
            "Extracting  ojos_test/I8_test.jpg                                        \b\b\b\b 89%\b\b\b\b\b  OK \n",
            "Extracting  ojos_test/I9_test.jpg                                        \b\b\b\b 99%\b\b\b\b\b  OK \n",
            "All OK\n"
          ],
          "name": "stdout"
        }
      ]
    },
    {
      "cell_type": "code",
      "metadata": {
        "id": "BCGmflMnxGLH",
        "colab_type": "code",
        "colab": {
          "base_uri": "https://localhost:8080/",
          "height": 50
        },
        "outputId": "be63a5a6-b84c-410f-97f6-09aba65364c0"
      },
      "source": [
        "!ls"
      ],
      "execution_count": 4,
      "outputs": [
        {
          "output_type": "stream",
          "text": [
            "ojos_gal      ojos_impostor\t ojos_test\tsample_data\n",
            "ojos_gal.rar  ojos_impostor.rar  ojos_test.rar\n"
          ],
          "name": "stdout"
        }
      ]
    },
    {
      "cell_type": "markdown",
      "metadata": {
        "id": "ZYPJzuaItW3K",
        "colab_type": "text"
      },
      "source": [
        "Se definen los path de las imagenes"
      ]
    },
    {
      "cell_type": "code",
      "metadata": {
        "id": "G9hSZLxAx0af",
        "colab_type": "code",
        "colab": {}
      },
      "source": [
        "Str_Gal = 'ojos_gal/'\n",
        "Str_Impostor = 'ojos_impostor/ojos_impostor/'\n",
        "Str_Test = 'ojos_test/'\n",
        "Listado_Gal = os.listdir(Str_Gal)\n",
        "Listado_Gal = natsorted(Listado_Gal)\n",
        "Listado_Impostor = os.listdir(Str_Impostor)\n",
        "Listado_Impostor = natsorted(Listado_Impostor)\n",
        "Listado_Test = os.listdir(Str_Test)\n",
        "Listado_Test = natsorted(Listado_Test)"
      ],
      "execution_count": 5,
      "outputs": []
    },
    {
      "cell_type": "markdown",
      "metadata": {
        "id": "C5ngxB6EtCnn",
        "colab_type": "text"
      },
      "source": [
        "Convertir a escala de grises y equalizar las imagenes"
      ]
    },
    {
      "cell_type": "code",
      "metadata": {
        "id": "2hb1eBQitF-2",
        "colab_type": "code",
        "colab": {}
      },
      "source": [
        "Listado_Gal_Gris = []\n",
        "for imagen in Listado_Gal:\n",
        "  Listado_Gal_Gris.append(exposure.equalize_adapthist(color.rgb2gray(io.imread(Str_Gal + imagen))))\n",
        "\n",
        "Listado_Impostor_Gris = []\n",
        "for imagen in Listado_Impostor:\n",
        "  Listado_Impostor_Gris.append(exposure.equalize_adapthist(color.rgb2gray(io.imread(Str_Impostor + imagen))))\n",
        "\n",
        "Listado_Test_Gris = []\n",
        "for imagen in Listado_Test:\n",
        "  Listado_Test_Gris.append(exposure.equalize_adapthist(color.rgb2gray(io.imread(Str_Test + imagen))))"
      ],
      "execution_count": 6,
      "outputs": []
    },
    {
      "cell_type": "markdown",
      "metadata": {
        "id": "_Hqumh5wHf9f",
        "colab_type": "text"
      },
      "source": [
        "# **Desarrollo P1**"
      ]
    },
    {
      "cell_type": "markdown",
      "metadata": {
        "id": "oK24pPdLsGsF",
        "colab_type": "text"
      },
      "source": [
        "Algoritmo LBP\n"
      ]
    },
    {
      "cell_type": "code",
      "metadata": {
        "id": "Dn3fRVfos0oC",
        "colab_type": "code",
        "colab": {}
      },
      "source": [
        "def LBP(ImagenGris_Matriz):\n",
        "  Matriz_Final_Copia = np.copy(ImagenGris_Matriz)\n",
        "  Mascara_Valores = np.array([[128., 64., 32.],\n",
        "                  [1., 0., 1.],\n",
        "                  [2., 4., 8.]])\n",
        "  for row in range(1,len(ImagenGris_Matriz)-1):\n",
        "    for column in range(1,len(ImagenGris_Matriz[0])-1):\n",
        "      mask = np.zeros((3,3))\n",
        "      mask[1,1] = ImagenGris_Matriz[row,column]\n",
        "      for fila in range(-1,2):\n",
        "        for columna in range(-1,2):\n",
        "          if fila != 0 and columna !=0:                      \n",
        "            if ImagenGris_Matriz[row+fila,column+columna] > mask[1,1]:\n",
        "              mask[fila, columna] = 1\n",
        "      Numero_Entero = np.sum(mask * Mascara_Valores)\n",
        "      Matriz_Final_Copia[row, column] = Numero_Entero\n",
        "\n",
        "  Matriz_Final_Copia_Copia = np.delete(Matriz_Final_Copia, -1, 0) # Elimina la última fila\n",
        "  Matriz_Final_Copia = np.delete(Matriz_Final_Copia_Copia, -1, 1) # Elimina la última columna\n",
        "  Matriz_Final_Copia_Copia = np.delete(Matriz_Final_Copia, 0, 0) # Elimina la primera fila\n",
        "  Matriz_Final_Copia = np.delete(Matriz_Final_Copia_Copia, 0, 1) # Elimina la primera columna\n",
        "  return Matriz_Final_Copia\n",
        "  \n",
        "def Imagen_Plot(Matriz_Obj):\n",
        "  plt.imshow(Matriz_Obj, cmap='gray')\n",
        "  plt.show()"
      ],
      "execution_count": 7,
      "outputs": []
    },
    {
      "cell_type": "markdown",
      "metadata": {
        "id": "CVkdvFSXH1SO",
        "colab_type": "text"
      },
      "source": [
        "Aplicar LBP a todas la imagenes y guardarlas en una lista\n",
        "\n"
      ]
    },
    {
      "cell_type": "code",
      "metadata": {
        "id": "k1yWqiMZHzVd",
        "colab_type": "code",
        "colab": {}
      },
      "source": [
        "Gal_LBP_List = []\n",
        "Impostor_LBP_List = []\n",
        "Test_LBP_List = []\n",
        "\n",
        "for pic in Listado_Gal_Gris:\n",
        "  Gal_LBP_List.append(LBP(pic))\n",
        "\n",
        "for pic in Listado_Impostor_Gris:\n",
        "  Impostor_LBP_List.append(LBP(pic))\n",
        "\n",
        "for pic in Listado_Test_Gris:\n",
        "  Test_LBP_List.append(LBP(pic))"
      ],
      "execution_count": 8,
      "outputs": []
    },
    {
      "cell_type": "markdown",
      "metadata": {
        "id": "EvxJhGR9Nz3-",
        "colab_type": "text"
      },
      "source": [
        "**¿Qué características tienen las imágenes procesadas con LBP?**\n",
        "\n",
        "Una imagen procesada con LBP otorga una mejor visualizacion para los detalles mas finos y las texturas de la imagen, propiciando una mejor extraccion de caracteristicas. Por otra parte, tras este proceso los pixeles tendran una intensidad entre [0,255], lo que permite hacer un histograma de 256 bins"
      ]
    },
    {
      "cell_type": "markdown",
      "metadata": {
        "id": "dzKkLBKGOgOk",
        "colab_type": "text"
      },
      "source": [
        "# **Desarrollo P2**"
      ]
    },
    {
      "cell_type": "markdown",
      "metadata": {
        "id": "wANnkHhzDl4a",
        "colab_type": "text"
      },
      "source": [
        "Extraer_Caract()\n",
        "\n",
        "Dado una imagen de 500x600, devuelve un vector con histogramas resultantes de divivdir la imagen en 30 regiones"
      ]
    },
    {
      "cell_type": "code",
      "metadata": {
        "id": "PLcb-nQfEajt",
        "colab_type": "code",
        "colab": {}
      },
      "source": [
        "def Extraer_Caract(Imagen, Normalizar=False):\n",
        "  Hist_Arr = np.zeros((0,))\n",
        "  # se recorre la matriz de la imagen para dividir en 30 zonas\n",
        "  for row in range(0, Imagen.shape[0], 100): \n",
        "    for col in range(0, Imagen.shape[1], 100):\n",
        "      # se calcula el histograma de la zona actual\n",
        "      hist, bin_edges = np.histogram(Imagen[row:row+100, col:col+100], bins=59, density=Normalizar)\n",
        "      Hist_Arr = np.concatenate((Hist_Arr, hist))\n",
        "  return Hist_Arr"
      ],
      "execution_count": 9,
      "outputs": []
    },
    {
      "cell_type": "markdown",
      "metadata": {
        "id": "KcRHQGJUPrm1",
        "colab_type": "text"
      },
      "source": [
        "# **Desarrollo P3**"
      ]
    },
    {
      "cell_type": "markdown",
      "metadata": {
        "id": "JtYpyM9jQCXd",
        "colab_type": "text"
      },
      "source": [
        "distancia()\n",
        "\n",
        "A partir de dos vectores de largo n, calcula la distancia entre ellos de la forma otorgada en el enunciado"
      ]
    },
    {
      "cell_type": "code",
      "metadata": {
        "id": "bWli8SZGP7qv",
        "colab_type": "code",
        "colab": {}
      },
      "source": [
        "def distancia(vec1, vec2):\n",
        "  assert len(vec1) == len(vec2)\n",
        "  n = len(vec1)\n",
        "  dist = 0\n",
        "  for i in range(0, n):\n",
        "    dist = dist + abs(vec1[i] - vec2[i])\n",
        "  return dist"
      ],
      "execution_count": 10,
      "outputs": []
    },
    {
      "cell_type": "markdown",
      "metadata": {
        "id": "6fNHFjAtTWao",
        "colab_type": "text"
      },
      "source": [
        "# **Desarrollo P4**"
      ]
    },
    {
      "cell_type": "markdown",
      "metadata": {
        "id": "WTL2q_4_TgaO",
        "colab_type": "text"
      },
      "source": [
        "Utilizando la variable *Gal_LBP_List* que contiene la transformacion LBP de las imagenes del archivo *ojos_gal.zip*, se construira una base de datos.\n",
        "\n"
      ]
    },
    {
      "cell_type": "code",
      "metadata": {
        "id": "813a3urVTf9D",
        "colab_type": "code",
        "colab": {}
      },
      "source": [
        "DB_Gal = []\n",
        "# se recorre la lista de las imagenes de gal, para calcular sus caracteristicas\n",
        "for matriz in Gal_LBP_List:\n",
        "  Gal_caract = Extraer_Caract(matriz, True)\n",
        "  # se guarda la extraccion caracteristicas de las imagenes\n",
        "  DB_Gal.append(Gal_caract)"
      ],
      "execution_count": 11,
      "outputs": []
    },
    {
      "cell_type": "markdown",
      "metadata": {
        "id": "G4VLI65bW5ci",
        "colab_type": "text"
      },
      "source": [
        "# **Desarrollo P5**"
      ]
    },
    {
      "cell_type": "markdown",
      "metadata": {
        "id": "2aN4A6TXuzyQ",
        "colab_type": "text"
      },
      "source": [
        "reconocimiento() determina si las imagenes otorgadas en una lista coinciden con las que se encuentran en un 'database'"
      ]
    },
    {
      "cell_type": "code",
      "metadata": {
        "id": "Gf8hhZyFXENa",
        "colab_type": "code",
        "colab": {}
      },
      "source": [
        "def reconocimiento(DB, lista, umbral):\n",
        "  Lista_minimos = []\n",
        "  Sujeto_Base_Datos = 1\n",
        "  for matriz in lista:\n",
        "    Sujeto_a_comparar = 0\n",
        "    Lista_Comparacion = []\n",
        "    for caract in DB:      \n",
        "      test_caract = Extraer_Caract(matriz, True)\n",
        "      Distancia_Elementos = distancia(caract, test_caract)\n",
        "      Lista_Comparacion.append(Distancia_Elementos)\n",
        "      Sujeto_a_comparar += 1\n",
        "    if min(Lista_Comparacion) < umbral:\n",
        "      Lista_minimos.append(min(Lista_Comparacion))\n",
        "      print('El sujeto del intento ' + str(Lista_Comparacion.index(min(Lista_Comparacion)) + 1) +\n",
        "          ' ha sido identificado como el sujeto ' + str(Sujeto_Base_Datos) +\n",
        "          ' en nuestra base de datos. Distancia mínima: ' + str(min(Lista_Comparacion)))\n",
        "    else:\n",
        "      print('No se ha encontrado el sujeto en la base de datos.')\n",
        "    Sujeto_Base_Datos += 1\n",
        "  print('Sujetos encontrados en la base de datos: ' + str(len(Lista_minimos)) + '/' + str(len(lista)))"
      ],
      "execution_count": 12,
      "outputs": []
    },
    {
      "cell_type": "markdown",
      "metadata": {
        "id": "WX_VMBJGXXGD",
        "colab_type": "text"
      },
      "source": [
        "Prueba de reconocimiento entre las imagenes del los archivos *ojos_gal.zip* y *ojos_test.zip*"
      ]
    },
    {
      "cell_type": "code",
      "metadata": {
        "id": "haH5kqTFZNDM",
        "colab_type": "code",
        "colab": {
          "base_uri": "https://localhost:8080/",
          "height": 202
        },
        "outputId": "d8e4ce60-163c-4ac1-9731-3d12ad0004a2"
      },
      "source": [
        "reconocimiento(DB_Gal, Test_LBP_List, umbral=23)"
      ],
      "execution_count": 13,
      "outputs": [
        {
          "output_type": "stream",
          "text": [
            "El sujeto del intento 1 ha sido identificado como el sujeto 1 en nuestra base de datos. Distancia mínima: 21.321692307692295\n",
            "El sujeto del intento 2 ha sido identificado como el sujeto 2 en nuestra base de datos. Distancia mínima: 7.099061538461538\n",
            "El sujeto del intento 3 ha sido identificado como el sujeto 3 en nuestra base de datos. Distancia mínima: 11.92163076923077\n",
            "El sujeto del intento 4 ha sido identificado como el sujeto 4 en nuestra base de datos. Distancia mínima: 16.29943076923076\n",
            "El sujeto del intento 5 ha sido identificado como el sujeto 5 en nuestra base de datos. Distancia mínima: 18.337199999999992\n",
            "El sujeto del intento 6 ha sido identificado como el sujeto 6 en nuestra base de datos. Distancia mínima: 22.27295384615384\n",
            "El sujeto del intento 7 ha sido identificado como el sujeto 7 en nuestra base de datos. Distancia mínima: 18.628569230769234\n",
            "El sujeto del intento 8 ha sido identificado como el sujeto 8 en nuestra base de datos. Distancia mínima: 21.861769230769205\n",
            "El sujeto del intento 9 ha sido identificado como el sujeto 9 en nuestra base de datos. Distancia mínima: 20.182538461538456\n",
            "El sujeto del intento 10 ha sido identificado como el sujeto 10 en nuestra base de datos. Distancia mínima: 11.817246153846147\n",
            "Sujetos encontrados en la base de datos: 10/10\n"
          ],
          "name": "stdout"
        }
      ]
    },
    {
      "cell_type": "markdown",
      "metadata": {
        "id": "JuS_eOAm5EKR",
        "colab_type": "text"
      },
      "source": [
        "Con lo anterior se determina que se realizan 10 reconocimientos correctos"
      ]
    },
    {
      "cell_type": "markdown",
      "metadata": {
        "id": "ODKO46hBxB5s",
        "colab_type": "text"
      },
      "source": [
        "# Desarrollo P6"
      ]
    },
    {
      "cell_type": "markdown",
      "metadata": {
        "id": "JLoDjWVKxPy0",
        "colab_type": "text"
      },
      "source": [
        "Para el caso que se tenga una entrada una imagen de ojo de un individuo que no está en la base de datos, como las imagenes presentes en le archivo *ojos_impostor.rar*, se transformaria esta imagen a una escala de grises, para luego ecualizarla y asi distribuir de una forma mas uniforme su histograma. Luego aplicar la transformación LBP, para utilizar la funcion reconocimiento(), la cual determina si la imagen esta en la base de datos al calcular un vector de caracteristicas, al comparar la distancia minima entre estos vectores y un umbral.\n",
        "\n"
      ]
    },
    {
      "cell_type": "code",
      "metadata": {
        "id": "RZRL2mA1xGWr",
        "colab_type": "code",
        "colab": {
          "base_uri": "https://localhost:8080/",
          "height": 84
        },
        "outputId": "6f3f4d7d-b97d-4e7f-81c3-79776378099d"
      },
      "source": [
        "reconocimiento(DB_Gal, Impostor_LBP_List, umbral=23)"
      ],
      "execution_count": 14,
      "outputs": [
        {
          "output_type": "stream",
          "text": [
            "No se ha encontrado el sujeto en la base de datos.\n",
            "El sujeto del intento 2 ha sido identificado como el sujeto 2 en nuestra base de datos. Distancia mínima: 13.113430769230773\n",
            "No se ha encontrado el sujeto en la base de datos.\n",
            "Sujetos encontrados en la base de datos: 1/3\n"
          ],
          "name": "stdout"
        }
      ]
    },
    {
      "cell_type": "markdown",
      "metadata": {
        "id": "HkniclLa38V3",
        "colab_type": "text"
      },
      "source": [
        "Con lo anterior se determina que el primer y tercer ojo corresponderian a impostores"
      ]
    }
  ]
}