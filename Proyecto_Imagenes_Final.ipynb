{
  "nbformat": 4,
  "nbformat_minor": 0,
  "metadata": {
    "colab": {
      "name": "Proyecto_Imagenes.ipynb",
      "provenance": [],
      "collapsed_sections": [],
      "toc_visible": true,
      "include_colab_link": true
    },
    "kernelspec": {
      "display_name": "Python 3",
      "name": "python3"
    },
    "accelerator": "GPU"
  },
  "cells": [
    {
      "cell_type": "markdown",
      "metadata": {
        "id": "view-in-github",
        "colab_type": "text"
      },
      "source": [
        "<a href=\"https://colab.research.google.com/github/DiegoPincheiraIb/Experiencias_EL5206/blob/master/Proyecto_Imagenes_Final.ipynb\" target=\"_parent\"><img src=\"https://colab.research.google.com/assets/colab-badge.svg\" alt=\"Open In Colab\"/></a>"
      ]
    },
    {
      "cell_type": "markdown",
      "metadata": {
        "id": "K1hHgFFyH7m-"
      },
      "source": [
        "# Proyecto Final Area Imagenes - Luckas Diaz y Diego Pincheira\r\n",
        "\r\n",
        "El objetivo de este proyecto final es desarrollar e implementar un algoritmo de búsqueda de imágenes similares basado en su contenido (Content Based Image Retrieval, CBIR). Para el desarrollo de este proyecto debe descargar la base de datos INRIA Holidays dataset. Debe descargar los archivos jpg1.tar.gz y jpg2.tar.gz.\r\n",
        "\r\n",
        "Link de para descargar: http://lear.inrialpes.fr/people/jegou/data.php\r\n",
        "\r\n",
        "Las imágenes de la base de datos sólo se pueden utilizar en este proyecto académico. Para cualquier otro uso se debe referenciar el trabajo: Herve Jegou, Matthijs Douze and Cordelia Schmid, \"Hamming Embedding and Weak geometry consistency for large scale image search\", Proceedings of the 10th European conference on Computer vision, October, 2008."
      ]
    },
    {
      "cell_type": "markdown",
      "metadata": {
        "id": "4Fo1vVPeq8Gc"
      },
      "source": [
        "# Imports\r\n",
        "\r\n",
        "Se importan las librerías a utilizar."
      ]
    },
    {
      "cell_type": "code",
      "metadata": {
        "id": "YPTkxI08rA0D"
      },
      "source": [
        "import os\r\n",
        "\r\n",
        "import matplotlib.pyplot as plt\r\n",
        "import matplotlib.image as mpimg \r\n",
        "\r\n",
        "import skimage.io as io\r\n",
        "from skimage import color, io, exposure\r\n",
        "from skimage.feature import hog\r\n",
        "\r\n",
        "from tensorflow.keras.applications.vgg16 import VGG16\r\n",
        "from tensorflow.keras.preprocessing import image\r\n",
        "from tensorflow.keras.applications.vgg16 import preprocess_input\r\n",
        "from sklearn.metrics.pairwise import euclidean_distances, cosine_distances\r\n",
        "import numpy as np\r\n",
        "from IPython.display import clear_output\r\n",
        "import cv2\r\n",
        "from google.colab.patches import cv2_imshow\r\n",
        "from scipy import ndimage, misc\r\n",
        "from natsort import natsorted\r\n",
        "from scipy.spatial import distance\r\n",
        "import random\r\n",
        "!pip install ipython-autotime\r\n",
        "%load_ext autotime"
      ],
      "execution_count": null,
      "outputs": []
    },
    {
      "cell_type": "markdown",
      "metadata": {
        "id": "7lOUaRAbJee-"
      },
      "source": [
        "# Cargar datos a Colab"
      ]
    },
    {
      "cell_type": "markdown",
      "metadata": {
        "id": "VFtLlptGnMlX"
      },
      "source": [
        "## Desde disco local"
      ]
    },
    {
      "cell_type": "markdown",
      "metadata": {
        "id": "zKX29j8ZJk5Y"
      },
      "source": [
        "Aqui se deben cargar los archivos jpg1.tar.gz y jpg2.tar.gz"
      ]
    },
    {
      "cell_type": "code",
      "metadata": {
        "id": "Qj8oSo6w9MCZ"
      },
      "source": [
        "from google.colab import files\r\n",
        "uploaded = files.upload()"
      ],
      "execution_count": null,
      "outputs": []
    },
    {
      "cell_type": "markdown",
      "metadata": {
        "id": "Fu2f6jeEbNOj"
      },
      "source": [
        "## Desde Drive\r\n",
        "Se requiere aqui que los archivos jpg1.tar.gz y jpg2.tar.gz se encuentren en una carpeta llamada \"Proyecto-Imagenes\" dentro del directorio Drive."
      ]
    },
    {
      "cell_type": "code",
      "metadata": {
        "id": "o9vw8TiKxH-d"
      },
      "source": [
        "from google.colab import drive\r\n",
        "drive.mount('/content/drive')"
      ],
      "execution_count": null,
      "outputs": []
    },
    {
      "cell_type": "code",
      "metadata": {
        "id": "EpIZCrPUdSei"
      },
      "source": [
        "!ls"
      ],
      "execution_count": null,
      "outputs": []
    },
    {
      "cell_type": "code",
      "metadata": {
        "id": "qr6GHlBndY5U"
      },
      "source": [
        "%cd drive/MyDrive/Proyecto-Imagenes/"
      ],
      "execution_count": null,
      "outputs": []
    },
    {
      "cell_type": "code",
      "metadata": {
        "id": "eoHo6NH4ddKB"
      },
      "source": [
        "!ls\r\n",
        "# En pantalla debería mostrarse: jpg1.tar.gz  jpg2.tar.gz"
      ],
      "execution_count": null,
      "outputs": []
    },
    {
      "cell_type": "code",
      "metadata": {
        "id": "9LX5Jv9hkFMC"
      },
      "source": [
        "!tar -xvf  'jpg1.tar.gz'\r\n",
        "!tar -xvf  'jpg2.tar.gz'\r\n",
        "clear_output()\r\n",
        "print('listo!')"
      ],
      "execution_count": null,
      "outputs": []
    },
    {
      "cell_type": "code",
      "metadata": {
        "id": "8USbfBisyf9j"
      },
      "source": [
        "!ls\r\n",
        "# En pantalla debe mostrarse: jpg  jpg1.tar.gz  jpg2.tar.gz"
      ],
      "execution_count": null,
      "outputs": []
    },
    {
      "cell_type": "markdown",
      "metadata": {
        "id": "T1yE7srXQQA_"
      },
      "source": [
        "## Directo desde la página"
      ]
    },
    {
      "cell_type": "code",
      "metadata": {
        "id": "GXWt1gHyQS7l"
      },
      "source": [
        "!wget ftp://ftp.inrialpes.fr/pub/lear/douze/data/jpg1.tar.gz\r\n",
        "!wget ftp://ftp.inrialpes.fr/pub/lear/douze/data/jpg2.tar.gz"
      ],
      "execution_count": null,
      "outputs": []
    },
    {
      "cell_type": "code",
      "metadata": {
        "id": "T5y10CVFQWlx"
      },
      "source": [
        "!ls\r\n",
        "# En pantalla debería mostrarse: jpg1.tar.gz  jpg2.tar.gz"
      ],
      "execution_count": null,
      "outputs": []
    },
    {
      "cell_type": "code",
      "metadata": {
        "id": "hCvOqYHpQUrP"
      },
      "source": [
        "\r\n",
        "!tar -xvf  'jpg1.tar.gz'\r\n",
        "!tar -xvf  'jpg2.tar.gz'\r\n",
        "clear_output()\r\n",
        "print('listo!')"
      ],
      "execution_count": null,
      "outputs": []
    },
    {
      "cell_type": "code",
      "metadata": {
        "id": "qFujC8KwQX4x"
      },
      "source": [
        "!ls\r\n",
        "# En pantalla debe mostrarse: jpg  jpg1.tar.gz  jpg2.tar.gz"
      ],
      "execution_count": null,
      "outputs": []
    },
    {
      "cell_type": "markdown",
      "metadata": {
        "id": "F9GFi2xiqTbq"
      },
      "source": [
        "# Obtener paths de imagenes\r\n",
        "\r\n",
        "Se obtiene una lista con los nombres de las imágenes a utilizar."
      ]
    },
    {
      "cell_type": "code",
      "metadata": {
        "id": "_Vg2i8gSqSnC"
      },
      "source": [
        "path_imagenes = 'jpg/'\r\n",
        "Listado_imagenes = natsorted(os.listdir(path_imagenes))"
      ],
      "execution_count": null,
      "outputs": []
    },
    {
      "cell_type": "markdown",
      "metadata": {
        "id": "F3BW8tfdrWow"
      },
      "source": [
        "# Carga de Imágenes\r\n",
        "\r\n",
        "Se elabora la función \"Carga_Imgs_Resize\", la cual, dado un directorio objetivo y un listado de los nombres de las imágenes a cargar, genera una lista con la información de las imagenes objetivo, con un tamaño de 256x256."
      ]
    },
    {
      "cell_type": "code",
      "metadata": {
        "id": "TxcjeHtxKTlO"
      },
      "source": [
        "def Carga_Imgs_Resize(Path_Obj,Listado_Obj, Factor_Reescala_Obj = 1):\r\n",
        "  Lista_Completa = []\r\n",
        "  for imagen in Listado_Obj:\r\n",
        "    Lista_Completa.append(cv2.resize(cv2.imread(Path_Obj + '/' + imagen),(256,256)))\r\n",
        "  return Lista_Completa"
      ],
      "execution_count": null,
      "outputs": []
    },
    {
      "cell_type": "markdown",
      "metadata": {
        "id": "FT34dQI8CnWb"
      },
      "source": [
        "## Database con imágenes sin procesar\r\n",
        "\r\n",
        "Mediante la función anterior, se crea una lista que contiene las imágenes deseadas."
      ]
    },
    {
      "cell_type": "code",
      "metadata": {
        "id": "ZetbV3PIRuWK"
      },
      "source": [
        "Database_Imgs_Raw = Carga_Imgs_Resize(path_imagenes, Listado_imagenes, 0.5)"
      ],
      "execution_count": null,
      "outputs": []
    },
    {
      "cell_type": "markdown",
      "metadata": {
        "id": "om4vHscQ16eb"
      },
      "source": [
        "# Cálculo de características\r\n",
        "\r\n",
        "Se utilizarán dos métodos para obtener características de las imágenes: un descriptor HoG, y VGG16, la cual es una CNN. Se crea la función \"Calculo_Vector_Caract()\" la cual, dado una imagen objetivo y un string 'hog' o 'cnn' (que determina si se utilizará HoG o CNN), elabora un vector de características de dicha imagen."
      ]
    },
    {
      "cell_type": "markdown",
      "metadata": {
        "id": "Fq2_xbp7K1US"
      },
      "source": [
        "Se procede a elaborar el modelo de la CNN:"
      ]
    },
    {
      "cell_type": "code",
      "metadata": {
        "id": "oWQvdf2h1-sI"
      },
      "source": [
        "model = VGG16(weights='imagenet', include_top=False, pooling = \"avg\")"
      ],
      "execution_count": null,
      "outputs": []
    },
    {
      "cell_type": "markdown",
      "metadata": {
        "id": "46u9o8ksK3-e"
      },
      "source": [
        "Se crea la función definida anteriormente"
      ]
    },
    {
      "cell_type": "code",
      "metadata": {
        "id": "hsCxe0usxXwV"
      },
      "source": [
        "def Calculo_Vector_Caract(Img_Obj, Tipo_Vector):\r\n",
        "  if Tipo_Vector == 'hog':\r\n",
        "    Feature_Vector_Obj = hog(Img_Obj, orientations=8, pixels_per_cell=(16, 16),\r\n",
        "                    cells_per_block=(4, 4), feature_vector =True)\r\n",
        "  else:\r\n",
        "    Img_Obj = cv2.resize(Img_Obj, (224,224))\r\n",
        "    Img_Obj = np.expand_dims(image.img_to_array(Img_Obj), axis=0)\r\n",
        "    Img_Obj = preprocess_input(Img_Obj)\r\n",
        "    Feature_Vector_Obj = model.predict(Img_Obj).flatten()\r\n",
        "  return Feature_Vector_Obj"
      ],
      "execution_count": null,
      "outputs": []
    },
    {
      "cell_type": "markdown",
      "metadata": {
        "id": "OZ51q8p9K6cR"
      },
      "source": [
        "Por último, se elabora la función \"Tupla_Caract()\", la cual, dado un listado de nombres de imágenes, una Database de imágenes sin procesar, y un string 'hog' o 'cnn', retorna una lista con tuplas de la forma (Caract, Clase, ID), donde el primer elemento consiste en un vector de características elaborado con la función \"Calculo_Vector_Caract()\", el segundo elemento consiste en la clase de la imagen, y el tercero consiste en la ID de la imagen."
      ]
    },
    {
      "cell_type": "code",
      "metadata": {
        "id": "iM2UwfIdwbF8"
      },
      "source": [
        "def Tupla_Caract(Listado_Obj,Database_Obj,Tipo_Vector):\r\n",
        "  Lista_Caract_Obj = []\r\n",
        "  for i in range((len(Listado_Obj))):\r\n",
        "      Lista_Caract_Obj.append((Calculo_Vector_Caract(Database_Obj[i], Tipo_Vector),Listado_Obj[i][1:-6],Listado_Obj[i][-6:-4]))\r\n",
        "  return Lista_Caract_Obj"
      ],
      "execution_count": null,
      "outputs": []
    },
    {
      "cell_type": "markdown",
      "metadata": {
        "id": "saDj0m8wvk4o"
      },
      "source": [
        "## Distancias:"
      ]
    },
    {
      "cell_type": "markdown",
      "metadata": {
        "id": "oD3smxAMWnyi"
      },
      "source": [
        "Se elabora la función \"Funcion_Distancia\" la que, dado dos vectores y un string que determina el tipo de distancia a utilizar ('eucl', 'chi', 'cos'), retorna la distancia entre ambos vectores utilizando una función determinada por el string entregado"
      ]
    },
    {
      "cell_type": "code",
      "metadata": {
        "id": "Nr65Ml5xvPqS"
      },
      "source": [
        "from sklearn.metrics.pairwise import euclidean_distances, cosine_distances"
      ],
      "execution_count": null,
      "outputs": []
    },
    {
      "cell_type": "code",
      "metadata": {
        "id": "86GBx0_GvwMX"
      },
      "source": [
        "# Str_Dist = 'eucl', 'cos'\r\n",
        "\r\n",
        "def Funcion_Distancia(Vect_1, Vect_2, Str_Dist = 'eucl'):\r\n",
        "  if Str_Dist == 'eucl':\r\n",
        "    Distancia = distance.euclidean(Vect_1,Vect_2)\r\n",
        "  elif Str_Dist == 'cos':\r\n",
        "    Distancia = distance.cosine(Vect_1, Vect_2)\r\n",
        "  return Distancia"
      ],
      "execution_count": null,
      "outputs": []
    },
    {
      "cell_type": "markdown",
      "metadata": {
        "id": "iiJtcSsMnDFd"
      },
      "source": [
        "### Busqueda"
      ]
    },
    {
      "cell_type": "markdown",
      "metadata": {
        "id": "IdJbldQDW3aY"
      },
      "source": [
        "Se crea la función \"Busqueda\" la que, dado un vector de características objetivo, una base de datos de vectores de características objetivo, y un string que determina el tipo de distancia a utilizar ('eucl', 'chi', 'cos'), retorna una lista con las distancia entre el vector objetivo y los elementos de la base de datos."
      ]
    },
    {
      "cell_type": "code",
      "metadata": {
        "id": "5kJoWaLBdpfp"
      },
      "source": [
        "# Str_Dist = 'eucl', 'chi', 'cos'\r\n",
        "def Busqueda(Feature_Vector_Obj, Database_Obj, Str_Dist = 'eucl'):\r\n",
        "  Similitudes = []\r\n",
        "  for imagen, j, k in Database_Obj:\r\n",
        "    Distancia = Funcion_Distancia(Feature_Vector_Obj, imagen, Str_Dist)\r\n",
        "    Similitudes.append(Distancia)\r\n",
        "  return Similitudes"
      ],
      "execution_count": null,
      "outputs": []
    },
    {
      "cell_type": "markdown",
      "metadata": {
        "id": "uJXz8WdwxkQ1"
      },
      "source": [
        "# Rankings:\r\n",
        "\r\n",
        "Se elaboran dos funciones: la primera (Average_Ranking()) entrega el promedio de los rankings, mientras que la segunda (Norm_Ranking()) entrega un ranking normalizado"
      ]
    },
    {
      "cell_type": "markdown",
      "metadata": {
        "id": "2BKauPFI0cP0"
      },
      "source": [
        "## Average_Ranking"
      ]
    },
    {
      "cell_type": "code",
      "metadata": {
        "id": "Yh_U8CxS5nec"
      },
      "source": [
        "def Average_Ranking(Feature_Vector_Obj,Nombre_Img, Database_Obj, Str_Dist = 'eucl'):\r\n",
        "  Clase = Nombre_Img[1:-6]\r\n",
        "  Sim_Array = Busqueda(Feature_Vector_Obj,Database_Obj, Str_Dist)\r\n",
        "  Indices = np.argsort(np.argsort(Sim_Array))\r\n",
        "  Tupla_Indices = tuple(zip(Indices,[lista[1] for lista in Database_Obj],[lista[2] for lista in Database_Obj]))\r\n",
        "  Localizados = [x for (x,y,z) in Tupla_Indices if y == Clase and z !='00']\r\n",
        "  print('Ranking de los elementos de la misma clase:',Localizados)\r\n",
        "  Average_Rk = np.mean(np.array(Localizados).astype(np.float))\r\n",
        "  return Average_Rk\r\n"
      ],
      "execution_count": null,
      "outputs": []
    },
    {
      "cell_type": "markdown",
      "metadata": {
        "id": "X1smL8US0eht"
      },
      "source": [
        "## Norm_Ranking"
      ]
    },
    {
      "cell_type": "code",
      "metadata": {
        "id": "9v6BkrHFCSex"
      },
      "source": [
        "def Norm_Ranking(Feature_Vector_Obj,Nombre_Img, Database_Obj, Str_Dist = 'eucl'):\r\n",
        "  Clase = Nombre_Img[1:-6]\r\n",
        "  Sim_Array = Busqueda(Feature_Vector_Obj,Database_Obj, Str_Dist)\r\n",
        "  Indices = np.argsort(np.argsort(Sim_Array))\r\n",
        "  Tupla_Indices = tuple(zip(Indices,[lista[1] for lista in Database_Obj],[lista[2] for lista in Database_Obj]))\r\n",
        "  Localizados = [x for (x,y,z) in Tupla_Indices if y == Clase and z !='00']\r\n",
        "  N_Rel = len(Localizados)\r\n",
        "  Average_Rk = np.mean(np.array(Localizados).astype(np.float))\r\n",
        "  Num = Average_Rk - (N_Rel*(N_Rel + 1)/2)\r\n",
        "  Den = N_Rel * len(Database_Obj)\r\n",
        "  return Num/Den"
      ],
      "execution_count": null,
      "outputs": []
    },
    {
      "cell_type": "markdown",
      "metadata": {
        "id": "aLQ2eYaX7o37"
      },
      "source": [
        "# Imágenes de consulta"
      ]
    },
    {
      "cell_type": "code",
      "metadata": {
        "id": "Lz-EfFQO7pJj"
      },
      "source": [
        "def Consulta(Feature_Vector_Obj,Nombre_Img,Database_Features_Obj,Str_Dist):\r\n",
        "  Clase = Nombre_Img[1:-6]\r\n",
        "  Sim_Array = Busqueda(Feature_Vector_Obj,Database_Features_Obj, Str_Dist)\r\n",
        "  Indices_Resultados = np.argsort(Sim_Array)\r\n",
        "  print('Imagen de consulta:', Nombre_Img)\r\n",
        "  print('Clase:',Nombre_Img[1:-6])\r\n",
        "  cv2_imshow(cv2.resize(cv2.imread(path_imagenes + '/' + Nombre_Img),(256,256)))\r\n",
        "  print('-----------------------------------------------')\r\n",
        "  print('Imágenes relevantes:')\r\n",
        "  for i in Indices_Resultados[1:11]:\r\n",
        "    print('Imagen: ', Listado_imagenes[i])\r\n",
        "    print('Clase:',Listado_imagenes[i][1:-6],'ID:',Listado_imagenes[i][-6:-4])\r\n",
        "    cv2_imshow(Database_Imgs_Raw[int(i)])\r\n"
      ],
      "execution_count": null,
      "outputs": []
    },
    {
      "cell_type": "markdown",
      "metadata": {
        "id": "LhiAHCLl1CnN"
      },
      "source": [
        "# Resultados Preliminares"
      ]
    },
    {
      "cell_type": "markdown",
      "metadata": {
        "id": "w20cv8LmX0Cv"
      },
      "source": [
        "## Bases de datos:"
      ]
    },
    {
      "cell_type": "code",
      "metadata": {
        "id": "d2BZ37eYeSUF"
      },
      "source": [
        "Lista_Hog = Tupla_Caract(Listado_imagenes, Database_Imgs_Raw, 'hog')"
      ],
      "execution_count": null,
      "outputs": []
    },
    {
      "cell_type": "code",
      "metadata": {
        "id": "8zHnsf5EX2Wa"
      },
      "source": [
        "Lista_CNN = Tupla_Caract(Listado_imagenes, Database_Imgs_Raw, 'cnn')"
      ],
      "execution_count": null,
      "outputs": []
    },
    {
      "cell_type": "markdown",
      "metadata": {
        "id": "w0tcIF_7YjuU"
      },
      "source": [
        "## Índices de imágenes de consulta"
      ]
    },
    {
      "cell_type": "code",
      "metadata": {
        "id": "Eq5FV5BHRDSo"
      },
      "source": [
        "Lista_Indices_Imgs_Consulta = []\r\n",
        "for i in range((len(Listado_imagenes))):\r\n",
        "  if Listado_imagenes[i][-6:-4] == '00':\r\n",
        "    Lista_Indices_Imgs_Consulta.append(i)"
      ],
      "execution_count": null,
      "outputs": []
    },
    {
      "cell_type": "markdown",
      "metadata": {
        "id": "EB-kcPez0sie"
      },
      "source": [
        "## Búsqueda utilizando HoG:"
      ]
    },
    {
      "cell_type": "markdown",
      "metadata": {
        "id": "4dMxsiwx00Mq"
      },
      "source": [
        "### Distancia Euclidiana"
      ]
    },
    {
      "cell_type": "code",
      "metadata": {
        "id": "n_1di_3haf9u"
      },
      "source": [
        "import random\r\n",
        "Index =  random.choice(Lista_Indices_Imgs_Consulta)\r\n",
        "Img_Obj = Database_Imgs_Raw[Index]\r\n",
        "Vector_Caract_Hog = Calculo_Vector_Caract(Img_Obj,'hog')\r\n",
        "print('Average Ranking:', Average_Ranking(Vector_Caract_Hog,Listado_imagenes[Index],Lista_Hog,'eucl'))\r\n",
        "Consulta(Vector_Caract_Hog,Listado_imagenes[Index],Lista_Hog,'eucl')"
      ],
      "execution_count": null,
      "outputs": []
    },
    {
      "cell_type": "markdown",
      "metadata": {
        "id": "BBDTg8Hr1frG"
      },
      "source": [
        "### Distancia coseno"
      ]
    },
    {
      "cell_type": "code",
      "metadata": {
        "id": "rLCp2oVIX8H6"
      },
      "source": [
        "import random\r\n",
        "Index =  random.choice(Lista_Indices_Imgs_Consulta)\r\n",
        "Img_Obj = Database_Imgs_Raw[Index]\r\n",
        "Vector_Caract_Hog = Calculo_Vector_Caract(Img_Obj,'hog')\r\n",
        "print('Average Ranking:', Average_Ranking(Vector_Caract_Hog,Listado_imagenes[Index],Lista_Hog,'cos'))\r\n",
        "Consulta(Vector_Caract_Hog,Listado_imagenes[Index],Lista_Hog,'cos')"
      ],
      "execution_count": null,
      "outputs": []
    },
    {
      "cell_type": "markdown",
      "metadata": {
        "id": "MAwW0a4yaLqn"
      },
      "source": [
        "## Búsqueda utilizando CNN"
      ]
    },
    {
      "cell_type": "markdown",
      "metadata": {
        "id": "CjK3_VHZ1kWf"
      },
      "source": [
        "### Distancia euclidiana"
      ]
    },
    {
      "cell_type": "code",
      "metadata": {
        "id": "nh0_e8EIuzkP"
      },
      "source": [
        "import random\r\n",
        "Index =  random.choice(Lista_Indices_Imgs_Consulta)\r\n",
        "#Index = 109\r\n",
        "Img_Obj = Database_Imgs_Raw[Index]\r\n",
        "Vector_Caract_CNN = Calculo_Vector_Caract(Img_Obj,'cnn')\r\n",
        "print('Average Ranking:', Average_Ranking(Vector_Caract_CNN,Listado_imagenes[Index],Lista_CNN,'eucl'))\r\n",
        "Consulta(Vector_Caract_CNN,Listado_imagenes[Index],Lista_CNN,'eucl')"
      ],
      "execution_count": null,
      "outputs": []
    },
    {
      "cell_type": "markdown",
      "metadata": {
        "id": "VK6p_Zdy1pWP"
      },
      "source": [
        "### Distancia coseno"
      ]
    },
    {
      "cell_type": "code",
      "metadata": {
        "id": "1xjV_KFDy_jY"
      },
      "source": [
        "import random\r\n",
        "Index =  random.choice(Lista_Indices_Imgs_Consulta)\r\n",
        "#Index = 109\r\n",
        "Img_Obj = Database_Imgs_Raw[Index]\r\n",
        "Vector_Caract_CNN = Calculo_Vector_Caract(Img_Obj,'cnn')\r\n",
        "print('Average Ranking:', Average_Ranking(Vector_Caract_CNN,Listado_imagenes[Index],Lista_CNN,'cos'))\r\n",
        "Consulta(Vector_Caract_CNN,Listado_imagenes[Index],Lista_CNN,'cos')"
      ],
      "execution_count": null,
      "outputs": []
    },
    {
      "cell_type": "markdown",
      "metadata": {
        "id": "IHstvxmtYlca"
      },
      "source": [
        "## Histogramas:"
      ]
    },
    {
      "cell_type": "code",
      "metadata": {
        "id": "yQopXhq8ZMw0"
      },
      "source": [
        "import matplotlib.pyplot as plt\r\n",
        "Rank_Normz_HoG_Eucl = []\r\n",
        "for indice in Lista_Indices_Imgs_Consulta:\r\n",
        "  Img_Obj = Database_Imgs_Raw[indice]\r\n",
        "  Vector_Caract_Hog = Calculo_Vector_Caract(Img_Obj,'hog')\r\n",
        "  Rank_Normz_HoG_Eucl.append(Norm_Ranking(Vector_Caract_Hog,Listado_imagenes[indice],Lista_Hog,'eucl'))\r\n",
        "\r\n",
        "\r\n",
        "\r\n",
        "# An \"interface\" to matplotlib.axes.Axes.hist() method\r\n",
        "n, bins, patches = plt.hist(Rank_Normz_HoG_Eucl,\r\n",
        "                            alpha=0.7, rwidth=0.85)\r\n",
        "plt.title('Resultados obtenidos utilizando distancia euclidiana y descriptores HoG')\r\n",
        "plt.show()\r\n",
        "\r\n",
        "Rank_Normz_HoG_Cos = []\r\n",
        "for indice in Lista_Indices_Imgs_Consulta:\r\n",
        "  Img_Obj = Database_Imgs_Raw[indice]\r\n",
        "  Vector_Caract_Hog = Calculo_Vector_Caract(Img_Obj,'hog')\r\n",
        "  Rank_Normz_HoG_Cos.append(Norm_Ranking(Vector_Caract_Hog,Listado_imagenes[indice],Lista_Hog,'cos'))\r\n",
        "\r\n",
        "\r\n",
        "\r\n",
        "# An \"interface\" to matplotlib.axes.Axes.hist() method\r\n",
        "n, bins, patches = plt.hist(Rank_Normz_HoG_Cos,\r\n",
        "                            alpha=0.7, rwidth=0.85)\r\n",
        "plt.title('Resultados obtenidos utilizando distancia coseno y descriptores HoG')\r\n",
        "plt.show()"
      ],
      "execution_count": null,
      "outputs": []
    },
    {
      "cell_type": "code",
      "metadata": {
        "id": "r9xQf5qI2yKR"
      },
      "source": [
        "Rank_Normz_VGG_Eucl = []\r\n",
        "for indice in Lista_Indices_Imgs_Consulta:\r\n",
        "  Img_Obj = Database_Imgs_Raw[indice]\r\n",
        "  Vector_Caract_VGG = Calculo_Vector_Caract(Img_Obj,'cnn')\r\n",
        "  Rank_Normz_VGG_Eucl.append(Norm_Ranking(Vector_Caract_VGG,Listado_imagenes[indice],Lista_CNN,'eucl'))\r\n",
        "\r\n",
        "\r\n",
        "\r\n",
        "# An \"interface\" to matplotlib.axes.Axes.hist() method\r\n",
        "n, bins, patches = plt.hist(Rank_Normz_VGG_Eucl,\r\n",
        "                            alpha=0.7, rwidth=0.85)\r\n",
        "plt.title('Resultados obtenidos utilizando distancia euclidiana y VGG')\r\n",
        "plt.show()\r\n",
        "\r\n",
        "Rank_Normz_VGG_Cos = []\r\n",
        "for indice in Lista_Indices_Imgs_Consulta:\r\n",
        "  Img_Obj = Database_Imgs_Raw[indice]\r\n",
        "  Vector_Caract_VGG = Calculo_Vector_Caract(Img_Obj,'cnn')\r\n",
        "  Rank_Normz_VGG_Cos.append(Norm_Ranking(Vector_Caract_VGG,Listado_imagenes[indice],Lista_CNN,'cos'))\r\n",
        "\r\n",
        "\r\n",
        "\r\n",
        "# An \"interface\" to matplotlib.axes.Axes.hist() method\r\n",
        "n, bins, patches = plt.hist(Rank_Normz_VGG_Cos,\r\n",
        "                            alpha=0.7, rwidth=0.85)\r\n",
        "plt.title('Resultados obtenidos utilizando distancia coseno y VGG')\r\n",
        "plt.xlabel('Valor del ranking normalizado')\r\n",
        "plt.ylabel('Cantidad de imágenes con determinado valor de Ranking Normalizado')\r\n",
        "plt.show()"
      ],
      "execution_count": null,
      "outputs": []
    },
    {
      "cell_type": "code",
      "metadata": {
        "id": "bEJac9kP23es"
      },
      "source": [
        "x = [np.mean(Rank_Normz_HoG_Eucl),np.mean(Rank_Normz_HoG_Cos),np.mean(Rank_Normz_VGG_Eucl),np.mean(Rank_Normz_VGG_Cos)]\r\n",
        "fig, ax = plt.subplots()\r\n",
        "y = ['Hog + Eucl','HoG + Cos','VGG + Eucl','VGG + Cos']\r\n",
        "ind = np.arange(len(y))\r\n",
        "ax.bar(ind,y)\r\n",
        "width = 0.75 # the width of the bars \r\n",
        "plt.title('Resultados obtenidos utilizando distancia coseno y descriptores HoG')\r\n",
        "for i, v in enumerate(x):\r\n",
        "    ax.text(v + 3, i + .25, str(y), color='blue', fontweight='bold')\r\n",
        "ax.set_yticks(ind+width/2)\r\n",
        "ax.set_yticklabels(x, minor=False)\r\n",
        "plt.title('title')\r\n",
        "plt.xlabel('x')\r\n",
        "plt.ylabel('y')  \r\n",
        "plt.show()"
      ],
      "execution_count": null,
      "outputs": []
    },
    {
      "cell_type": "code",
      "metadata": {
        "id": "2T7uqJT2N9dk"
      },
      "source": [
        "Promedio = [np.mean(Rank_Normz_HoG_Eucl),np.mean(Rank_Normz_HoG_Cos),np.mean(Rank_Normz_VGG_Eucl),np.mean(Rank_Normz_VGG_Cos)]\r\n",
        "\r\n",
        "fig = plt.bar(['Hog + Eucl','HoG + Cos','VGG + Eucl','VGG + Cos'],Promedio)\r\n",
        "plt.title('Resultados obtenidos utilizando distancia coseno y descriptores HoG')\r\n",
        "plt.ylabel('Ranking Normalizado')\r\n",
        "for value in fig:\r\n",
        "    height = value.get_height()\r\n",
        "    plt.text(value.get_x() + value.get_width()/2.,\r\n",
        "             1.002*height,'%f' % int(height), ha='center', va='bottom')\r\n",
        "plt.show()"
      ],
      "execution_count": null,
      "outputs": []
    },
    {
      "cell_type": "markdown",
      "metadata": {
        "id": "0Jf4C3g73V1h"
      },
      "source": [
        "# Mejoras a modelos (P7)"
      ]
    },
    {
      "cell_type": "code",
      "metadata": {
        "id": "cdpNuvAg3X8k"
      },
      "source": [
        "from tensorflow.keras.applications import VGG16\r\n",
        "from tensorflow.keras.layers import Dropout\r\n",
        "from tensorflow.keras.models import Sequential\r\n",
        "\r\n",
        "# check structure and layer names before looping\r\n",
        "model.summary()\r\n",
        "\r\n",
        "# loop through layers, add Dropout after layers 'fc1' and 'fc2'\r\n",
        "updated_model = Sequential()\r\n",
        "for layer in model.layers:\r\n",
        "    updated_model.add(layer)\r\n",
        "    if layer.name in ['fc1', 'fc2']:\r\n",
        "        updated_model.add(Dropout(.2))\r\n",
        "\r\n",
        "model = updated_model\r\n",
        "\r\n",
        "# check structure\r\n",
        "model.summary()"
      ],
      "execution_count": null,
      "outputs": []
    },
    {
      "cell_type": "code",
      "metadata": {
        "id": "qwS_WpqV3atn"
      },
      "source": [
        "Nueva_Lista_VGG = Lista_CNN.copy()\r\n",
        "Nueva_Lista_Hog = Lista_Hog.copy()"
      ],
      "execution_count": null,
      "outputs": []
    },
    {
      "cell_type": "markdown",
      "metadata": {
        "id": "EVnEhOQQ3fgl"
      },
      "source": [
        "## PCA"
      ]
    },
    {
      "cell_type": "code",
      "metadata": {
        "id": "Rp8Y3Uqk95Q7"
      },
      "source": [
        "def App_PCA(Lista_Obj):\r\n",
        "  DF_Og = pd.DataFrame(Lista_Obj[0][0]).T\r\n",
        "  for i in range(1,len(Lista_Obj)):\r\n",
        "    Aux = pd.DataFrame(Lista_Obj[i][0]).T\r\n",
        "    DF_Og = DF_Og.append(Aux, ignore_index=True)\r\n",
        "  PCA_Obj = PCA(n_components=100)\r\n",
        "  PCA_Data = PCA_Obj.fit_transform(DF_Og)\r\n",
        "  DF_Obj = pd.DataFrame(PCA_Data)\r\n",
        "  return DF_Obj"
      ],
      "execution_count": null,
      "outputs": []
    },
    {
      "cell_type": "code",
      "metadata": {
        "id": "3-csfuyi-t7O"
      },
      "source": [
        "VGG_PCA = App_PCA(Nueva_Lista_VGG)\r\n",
        "Hog_PCA = App_PCA(Nueva_Lista_Hog)"
      ],
      "execution_count": null,
      "outputs": []
    },
    {
      "cell_type": "markdown",
      "metadata": {
        "id": "Zifqf6YND5Rc"
      },
      "source": [
        "## Búsqueda utilizando HoG:"
      ]
    },
    {
      "cell_type": "markdown",
      "metadata": {
        "id": "FbgSX49xD5Rg"
      },
      "source": [
        "### Distancia Euclidiana"
      ]
    },
    {
      "cell_type": "code",
      "metadata": {
        "id": "7yVvnkFvETQS"
      },
      "source": [
        "Index =  random.choice(Lista_Indices_Imgs_Consulta)\r\n",
        "Consulta(Hog_PCA.iloc[Index].values,Listado_imagenes[Index],list(zip(pca_data,[x[1] for x in Nueva_Lista_Hog],[x[2] for x in Nueva_Lista_Hog] )),'eucl')"
      ],
      "execution_count": null,
      "outputs": []
    },
    {
      "cell_type": "markdown",
      "metadata": {
        "id": "30kDiFcND5Rh"
      },
      "source": [
        "### Distancia coseno"
      ]
    },
    {
      "cell_type": "code",
      "metadata": {
        "id": "xpD2KS5DA18l"
      },
      "source": [
        "Index =  random.choice(Lista_Indices_Imgs_Consulta)\r\n",
        "Consulta(Hog_PCA.iloc[Index].values,Listado_imagenes[Index],list(zip(pca_data,[x[1] for x in Nueva_Lista_Hog],[x[2] for x in Nueva_Lista_Hog] )),'cos')"
      ],
      "execution_count": null,
      "outputs": []
    },
    {
      "cell_type": "markdown",
      "metadata": {
        "id": "KqgDG3VqD5Rh"
      },
      "source": [
        "## Búsqueda utilizando CNN"
      ]
    },
    {
      "cell_type": "markdown",
      "metadata": {
        "id": "EFJMD0-_D5Rh"
      },
      "source": [
        "### Distancia euclidiana"
      ]
    },
    {
      "cell_type": "code",
      "metadata": {
        "id": "VSi4lH4jELk8"
      },
      "source": [
        "Index =  random.choice(Lista_Indices_Imgs_Consulta)\r\n",
        "Consulta(VGG_PCA.iloc[Index].values,Listado_imagenes[Index],list(zip(pca_data,[x[1] for x in Nueva_Lista_VGG],[x[2] for x in Nueva_Lista_VGG] )),'eucl')"
      ],
      "execution_count": null,
      "outputs": []
    },
    {
      "cell_type": "markdown",
      "metadata": {
        "id": "60u6pYKxD5Ri"
      },
      "source": [
        "### Distancia coseno"
      ]
    },
    {
      "cell_type": "code",
      "metadata": {
        "id": "X2QbvkJ03l1U"
      },
      "source": [
        "Index =  random.choice(Lista_Indices_Imgs_Consulta)\r\n",
        "Consulta(VGG_PCA.iloc[Index].values,Listado_imagenes[Index],list(zip(pca_data,[x[1] for x in Nueva_Lista_VGG],[x[2] for x in Nueva_Lista_VGG] )),'cos')"
      ],
      "execution_count": null,
      "outputs": []
    },
    {
      "cell_type": "markdown",
      "metadata": {
        "id": "39UqdGyl6h7C"
      },
      "source": [
        "## Clustering"
      ]
    },
    {
      "cell_type": "code",
      "metadata": {
        "id": "X5w5a8Rv6jOd"
      },
      "source": [
        "Lista_Imgs_DB = [x for (x,y,z) in Lista_Hog if z != '00']"
      ],
      "execution_count": null,
      "outputs": []
    },
    {
      "cell_type": "code",
      "metadata": {
        "id": "Fsl4VOdc6lQN"
      },
      "source": [
        "from sklearn.cluster import KMeans\r\n",
        "\r\n",
        "kmeans = KMeans(n_clusters=500, n_init=20, max_iter=20, random_state=20 )\r\n",
        "kmeans.fit(Lista_Imgs_DB) # fit retorna a self\r\n",
        "y_pred = kmeans.predict(Lista_Imgs_Consulta)\r\n",
        "kmeans.labels_"
      ],
      "execution_count": null,
      "outputs": []
    },
    {
      "cell_type": "markdown",
      "metadata": {
        "id": "ecY2SMthgTYc"
      },
      "source": [
        "# Obsoleto"
      ]
    },
    {
      "cell_type": "code",
      "metadata": {
        "id": "NUQS4mzz3h0e"
      },
      "source": [
        "import pandas as pd\r\n",
        "data_frame = pd.DataFrame(Nueva_Lista_VGG[0][0]).T\r\n",
        "for i in range(1,1491):\r\n",
        "  x = pd.DataFrame(Nueva_Lista_VGG[i][0]).T\r\n",
        "  data_frame = data_frame.append(x, ignore_index=True)\r\n",
        "data_frame.head()"
      ],
      "execution_count": null,
      "outputs": []
    },
    {
      "cell_type": "code",
      "metadata": {
        "id": "9nQYGz_B3jSz"
      },
      "source": [
        "\r\n",
        "from sklearn.decomposition import PCA\r\n",
        "pca_breast = PCA(n_components=100)\r\n",
        "pca_data = pca_breast.fit_transform(data_frame)"
      ],
      "execution_count": null,
      "outputs": []
    },
    {
      "cell_type": "code",
      "metadata": {
        "id": "xQfmIKJd3kZr"
      },
      "source": [
        "\r\n",
        "y = pd.DataFrame(pca_data)\r\n",
        "y.head()"
      ],
      "execution_count": null,
      "outputs": []
    },
    {
      "cell_type": "code",
      "metadata": {
        "id": "it60QLxBKhWm"
      },
      "source": [
        "Lista_Imgs_Consulta = [x for (x,y,z) in Lista_Hog if z == '00']\r\n",
        "print(Lista_Imgs_Consulta)"
      ],
      "execution_count": null,
      "outputs": []
    },
    {
      "cell_type": "code",
      "metadata": {
        "id": "uXD5CTNpyiID"
      },
      "source": [
        "Index = 101\r\n",
        "img = Database_Imgs_Raw[Index]\r\n",
        "Hola = Calculo_Vector_Caract(img,'hog')\r\n",
        "print(Average_Ranking(Hola,Listado_imagenes[Index],Lista_Hog,'eucl'))\r\n",
        "Consulta(Hola,Listado_imagenes[Index],Lista_Hog,'eucl')"
      ],
      "execution_count": null,
      "outputs": []
    },
    {
      "cell_type": "code",
      "metadata": {
        "id": "RP01_lyXxiHX"
      },
      "source": [
        "print(Average_Ranking(Hola,Listado_imagenes[Index],Lista_Hog,'eucl'))\r\n",
        "print(Norm_Ranking(Hola,Listado_imagenes[Index],Lista_Hog,'chi'))"
      ],
      "execution_count": null,
      "outputs": []
    },
    {
      "cell_type": "code",
      "metadata": {
        "id": "jLCgcVWkTy9E"
      },
      "source": [
        "print(Listado_imagenes[Index])"
      ],
      "execution_count": null,
      "outputs": []
    },
    {
      "cell_type": "code",
      "metadata": {
        "id": "wSTikFJINRTS"
      },
      "source": [
        "Consulta(Hola,Listado_imagenes[Index],Lista_Hog,'eucl')"
      ],
      "execution_count": null,
      "outputs": []
    },
    {
      "cell_type": "code",
      "metadata": {
        "id": "SZnLVmomLtc9"
      },
      "source": [
        "print(list(enumerate(Listado_jpg1)))"
      ],
      "execution_count": null,
      "outputs": []
    },
    {
      "cell_type": "code",
      "metadata": {
        "id": "b67efGJ90377"
      },
      "source": [
        "Sim = Busqueda(Hola,Listado_jpg1[3][1:-6],Lista_Hog)\r\n",
        "Indices = np.argsort(np.argsort(Sim))\r\n",
        "print(Sim)\r\n",
        "print(tuple(zip(Indices,[lista[1] for lista in Lista_Hog],[lista[2] for lista in Lista_Hog])))\r\n"
      ],
      "execution_count": null,
      "outputs": []
    },
    {
      "cell_type": "code",
      "metadata": {
        "id": "J-uLzQvk-4ej"
      },
      "source": [
        "print(Average_Ranking(Hola,Listado_jpg1[3][1:-6],Lista_Hog))"
      ],
      "execution_count": null,
      "outputs": []
    },
    {
      "cell_type": "code",
      "metadata": {
        "id": "Zl3JbjuTSVZ_"
      },
      "source": [
        "print([asd[2] for asd in Sim])"
      ],
      "execution_count": null,
      "outputs": []
    },
    {
      "cell_type": "code",
      "metadata": {
        "id": "ORwBB4j9VAqC"
      },
      "source": [
        "caca = np.argsort(Indices,axis=0)[0:20]\r\n",
        "poto = np.reshape(np.array([asd[1] for asd in Sim][0:20]),(-1,1))\r\n",
        "pichi = np.concatenate((caca,poto),axis=1)"
      ],
      "execution_count": null,
      "outputs": []
    },
    {
      "cell_type": "code",
      "metadata": {
        "id": "lVMWXdv1V33x"
      },
      "source": [
        "qqqq = tuple(map(tuple,pichi))\r\n",
        "print([x for x,y,z,k in qqqq if k == '001'])\r\n",
        "print(np.mean(np.array([x for x,y,z,k in qqqq if k == '001']).astype(np.float)))"
      ],
      "execution_count": null,
      "outputs": []
    },
    {
      "cell_type": "code",
      "metadata": {
        "id": "xDbxSq1vMu0o"
      },
      "source": [
        "import scipy.stats as ss\r\n",
        "print((ss.rankdata(Sim)-1)[0:16])"
      ],
      "execution_count": null,
      "outputs": []
    },
    {
      "cell_type": "code",
      "metadata": {
        "id": "ZJdrWp6bBWLn"
      },
      "source": [
        "np.set_printoptions(suppress=True)"
      ],
      "execution_count": null,
      "outputs": []
    },
    {
      "cell_type": "code",
      "metadata": {
        "id": "afPPTnVYAv4U"
      },
      "source": [
        "print(Indices)"
      ],
      "execution_count": null,
      "outputs": []
    },
    {
      "cell_type": "code",
      "metadata": {
        "id": "wUd3NU8KPuWv"
      },
      "source": [
        "Relevantes = []\r\n",
        "N_rel = 1\r\n",
        "Rank = np.sum(Relevantes)/N_Rel"
      ],
      "execution_count": null,
      "outputs": []
    },
    {
      "cell_type": "code",
      "metadata": {
        "id": "Zts4Et6Q9Pfk"
      },
      "source": [
        "# Str_Dist = 'eucl', 'chi', 'cos'\r\n",
        "def Busqueda(Feature_Vector_Obj,Nombre_Img, Database_Obj, Str_Dist = 'eucl'):\r\n",
        "  Similitudes = []\r\n",
        "  Clase_Obj = Nombre_Img[1:-6]\r\n",
        "  for imagen,j, k in Database_Obj:\r\n",
        "    Distancia = Funcion_Distancia(Feature_Vector_Obj, imagen,Str_Dist)\r\n",
        "    Similitudes.append((Distancia,j,k))\r\n",
        "    #print(Distancia,j,k)\r\n",
        "  return Similitudes"
      ],
      "execution_count": null,
      "outputs": []
    },
    {
      "cell_type": "code",
      "metadata": {
        "id": "Kv8sYH2e_Wn6"
      },
      "source": [
        "def split_list(alist, wanted_parts=1):\r\n",
        "    length = len(alist)\r\n",
        "    return [ alist[i*length // wanted_parts: (i+1)*length // wanted_parts] \r\n",
        "             for i in range(wanted_parts) ]"
      ],
      "execution_count": null,
      "outputs": []
    },
    {
      "cell_type": "code",
      "metadata": {
        "id": "q5x5gLkyTcN9"
      },
      "source": [
        "def Imagenes_Gris_Resize_Dicc(Path_Obj,Listado_Obj, Factor_Reescala_Obj = 1):\r\n",
        "  Dicc_Final = {}\r\n",
        "  #Lista_1, Lista_2, Lista_3, Lista_4 = split_list(Listado_Obj, wanted_parts=4)\r\n",
        "  if Factor_Reescala_Obj < 1:\r\n",
        "    for imagen in Listado_Obj:\r\n",
        "      Dicc_Final[imagen[1:-6]] = {}\r\n",
        "    for imagen in Listado_Obj:\r\n",
        "      Dicc_Final[imagen[1:-6]][imagen[-6:-4]] = \r\n",
        "      Lista_Completa.append(cv2.resize(cv2.imread(Path_Obj + '/' + imagen),None,fx=Factor_Reescala_Obj,fy=Factor_Reescala_Obj))\r\n",
        "  else:\r\n",
        "    for imagen in Listado_Obj:\r\n",
        "      Lista_Completa.append(cv2.imread(Path_Obj + '/' + imagen))\r\n",
        "  return Lista_Completa"
      ],
      "execution_count": null,
      "outputs": []
    },
    {
      "cell_type": "markdown",
      "metadata": {
        "id": "4BAtqmXLclnU"
      },
      "source": [
        "Diccionario con clases y características"
      ]
    },
    {
      "cell_type": "code",
      "metadata": {
        "id": "Ec18mQk8cl7L"
      },
      "source": [
        "def Dicc_Caract(Listado_Obj,Database_Obj,Tipo_Vector):\r\n",
        "  Dicc_Caract_Obj = {}\r\n",
        "  for i in range(len(Listado_Obj)):\r\n",
        "    Dicc_Caract_Obj[Listado_Obj[i][1:-6]] = {}\r\n",
        "  for i in range((len(Listado_Obj))):\r\n",
        "    Dicc_Caract_Obj[Listado_Obj[i][1:-6]][Listado_Obj[i][-6:-4]] = Calculo_Vector_Caract(Database_Obj[i], Tipo_Vector)\r\n",
        "  return Dicc_Caract_Obj"
      ],
      "execution_count": null,
      "outputs": []
    },
    {
      "cell_type": "code",
      "metadata": {
        "id": "bIc_6JMmCG0z"
      },
      "source": [
        "print(Listado_jpg1)"
      ],
      "execution_count": null,
      "outputs": []
    },
    {
      "cell_type": "code",
      "metadata": {
        "id": "qHGcjhF1CT-z"
      },
      "source": [
        "Hola = []\r\n",
        "for i in range(20):\r\n",
        "  Hola.append((Listado_jpg1[i][1:-6],Listado_jpg1[i][-6:-4]))\r\n",
        "print(Hola)"
      ],
      "execution_count": null,
      "outputs": []
    },
    {
      "cell_type": "code",
      "metadata": {
        "id": "9FpBvLcuK7n0"
      },
      "source": [
        "import random\r\n",
        "Dicc_Listado_jpg1 = {}\r\n",
        "for i in range(20):\r\n",
        "  Key = str(Hola[i][0])\r\n",
        "  Dicc_Listado_jpg1[Key] = {}\r\n",
        "for i in range(20):\r\n",
        "  Key = str(Hola[i][0])\r\n",
        "  String = str(Hola[i][1])\r\n",
        "  Dicc_Listado_jpg1[Key][String] = random.randint(3, 9)\r\n",
        "  \r\n",
        "print(Dicc_Listado_jpg1)"
      ],
      "execution_count": null,
      "outputs": []
    },
    {
      "cell_type": "code",
      "metadata": {
        "id": "PWYxICODPs6U"
      },
      "source": [
        "Blank = []\r\n",
        "for j in Dicc_Listado_jpg1['003'].values():\r\n",
        "  Blank.append(j - 3)\r\n",
        "  print(j - 3)\r\n",
        "print(np.mean(Blank))"
      ],
      "execution_count": null,
      "outputs": []
    },
    {
      "cell_type": "markdown",
      "metadata": {
        "id": "Im57b2FrwXyS"
      },
      "source": [
        "## HOG"
      ]
    },
    {
      "cell_type": "code",
      "metadata": {
        "id": "Ls34CgbuwiWt"
      },
      "source": [
        "fd, hog_image = hog(img, orientations=8, pixels_per_cell=(16, 16),\r\n",
        "                    cells_per_block=(1, 1), visualize=True, multichannel=True, feature_vector =True)\r\n",
        "\r\n",
        "fig, (ax1, ax2) = plt.subplots(1, 2, figsize=(8, 4), sharex=True, sharey=True)\r\n",
        "\r\n",
        "ax1.axis('off')\r\n",
        "ax1.imshow(img, cmap=plt.cm.gray)\r\n",
        "ax1.set_title('Input image')\r\n",
        "\r\n",
        "# Rescale histogram for better display\r\n",
        "hog_image_rescaled = exposure.rescale_intensity(hog_image, in_range=(0, 10))\r\n",
        "\r\n",
        "ax2.axis('off')\r\n",
        "ax2.imshow(hog_image_rescaled, cmap=plt.cm.gray)\r\n",
        "ax2.set_title('Histogram of Oriented Gradients')\r\n",
        "plt.show()"
      ],
      "execution_count": null,
      "outputs": []
    },
    {
      "cell_type": "markdown",
      "metadata": {
        "id": "NRIeqQoR8dbd"
      },
      "source": [
        "VGG"
      ]
    },
    {
      "cell_type": "code",
      "metadata": {
        "id": "6mL7bhkP0dKO"
      },
      "source": [
        "\r\n",
        "img_path = path_jpg1 + '/' + Listado_jpg1[1]\r\n",
        "img = image.load_img(img_path, target_size=(224, 224))\r\n",
        "x = image.img_to_array(img)\r\n",
        "x = np.expand_dims(x, axis=0)\r\n",
        "x = preprocess_input(x)\r\n",
        "\r\n",
        "features = model.predict(x)"
      ],
      "execution_count": null,
      "outputs": []
    },
    {
      "cell_type": "code",
      "metadata": {
        "id": "W1ETjoDqSEDr"
      },
      "source": [
        "print(len(Listado_jpg1_Gris))"
      ],
      "execution_count": null,
      "outputs": []
    },
    {
      "cell_type": "code",
      "metadata": {
        "id": "SOg2A174CThF"
      },
      "source": [
        "Listado_jpg1_1, Listado_jpg1_2, Listado_jpg1_3, Listado_jpg1_4 = split_list(Listado_jpg1, wanted_parts=4)\r\n",
        "Listado_jpg1_Gris = []\r\n",
        "Factor_Reescala = 0.2"
      ],
      "execution_count": null,
      "outputs": []
    },
    {
      "cell_type": "code",
      "metadata": {
        "id": "pRzolmBhCThW"
      },
      "source": [
        "for imagen in Listado_jpg1_1:\r\n",
        "  Listado_jpg1_Gris.append(cv2.resize(cv2.imread(path_jpg1 + '/' + imagen,0),None,fx=Factor_Reescala,fy=Factor_Reescala))"
      ],
      "execution_count": null,
      "outputs": []
    },
    {
      "cell_type": "code",
      "metadata": {
        "id": "ARbDFIuyCThX"
      },
      "source": [
        "for imagen in Listado_jpg1_2:\r\n",
        "  Listado_jpg1_Gris.append(cv2.resize(cv2.imread(path_jpg1 + '/' + imagen,0),None,fx=Factor_Reescala,fy=Factor_Reescala))"
      ],
      "execution_count": null,
      "outputs": []
    },
    {
      "cell_type": "code",
      "metadata": {
        "id": "YQs9WqyTCThX"
      },
      "source": [
        "for imagen in Listado_jpg1_3:\r\n",
        "  Listado_jpg1_Gris.append(cv2.resize(cv2.imread(path_jpg1 + '/' + imagen,0),None,fx=Factor_Reescala,fy=Factor_Reescala))"
      ],
      "execution_count": null,
      "outputs": []
    },
    {
      "cell_type": "code",
      "metadata": {
        "id": "IaoU2N06CThY"
      },
      "source": [
        "for imagen in Listado_jpg1_4:\r\n",
        "  Listado_jpg1_Gris.append(cv2.resize(cv2.imread(path_jpg1 + '/' + imagen,0),None,fx=Factor_Reescala,fy=Factor_Reescala))"
      ],
      "execution_count": null,
      "outputs": []
    },
    {
      "cell_type": "markdown",
      "metadata": {
        "id": "QyiXozEyCspe"
      },
      "source": [
        "### Jpg2"
      ]
    },
    {
      "cell_type": "code",
      "metadata": {
        "id": "ndAfWAZ__m7l"
      },
      "source": [
        "Listado_jpg2_1, Listado_jpg2_2, Listado_jpg2_3, Listado_jpg2_4 = split_list(Listado_jpg2, wanted_parts=4)"
      ],
      "execution_count": null,
      "outputs": []
    },
    {
      "cell_type": "code",
      "metadata": {
        "id": "nKa-4MxO_7bA"
      },
      "source": [
        "Listado_jpg2_Gris = []\r\n",
        "for imagen in Listado_jpg2_1:\r\n",
        "  Listado_jpg2_Gris.append(cv2.imread(path_jpg2 + '/' + imagen,0))"
      ],
      "execution_count": null,
      "outputs": []
    },
    {
      "cell_type": "code",
      "metadata": {
        "id": "2SKtFidXAB7s"
      },
      "source": [
        "for imagen in Listado_jpg2_2:\r\n",
        "  Listado_jpg2_Gris.append(cv2.imread(path_jpg2 + '/' + imagen,0))"
      ],
      "execution_count": null,
      "outputs": []
    },
    {
      "cell_type": "code",
      "metadata": {
        "id": "m6QjRNlQACwz"
      },
      "source": [
        "for imagen in Listado_jpg2_3:\r\n",
        "  Listado_jpg2_Gris.append(cv2.imread(path_jpg2 + '/' + imagen,0))"
      ],
      "execution_count": null,
      "outputs": []
    },
    {
      "cell_type": "code",
      "metadata": {
        "id": "mnDWaybhADz8"
      },
      "source": [
        "for imagen in Listado_jpg2_4:\r\n",
        "  Listado_jpg2_Gris.append(cv2.imread(path_jpg2 + '/' + imagen,0))"
      ],
      "execution_count": null,
      "outputs": []
    }
  ]
}