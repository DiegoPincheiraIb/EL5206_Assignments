{
  "nbformat": 4,
  "nbformat_minor": 0,
  "metadata": {
    "colab": {
      "name": "Experiencia_2_EL5206.ipynb",
      "provenance": []
    },
    "kernelspec": {
      "name": "python3",
      "display_name": "Python 3"
    }
  },
  "cells": [
    {
      "cell_type": "markdown",
      "metadata": {
        "id": "YskArS0srO5c",
        "colab_type": "text"
      },
      "source": [
        "# Configuraciones Preliminares"
      ]
    },
    {
      "cell_type": "code",
      "metadata": {
        "id": "YfR_lHmHquxD",
        "colab_type": "code",
        "colab": {}
      },
      "source": [
        "import numpy as np"
      ],
      "execution_count": null,
      "outputs": []
    },
    {
      "cell_type": "markdown",
      "metadata": {
        "id": "C5ngxB6EtCnn",
        "colab_type": "text"
      },
      "source": [
        "## Función para convertir a escala de grises:"
      ]
    },
    {
      "cell_type": "code",
      "metadata": {
        "id": "2hb1eBQitF-2",
        "colab_type": "code",
        "colab": {}
      },
      "source": [
        "import numpy as np\n",
        "import matplotlib.pyplot as plt\n",
        "import matplotlib.image as mpimg\n",
        "\n",
        "def rgb2gray(rgb):\n",
        "    return np.dot(rgb[...,:3], [0.2989, 0.5870, 0.1140])\n",
        "\n",
        "img = mpimg.imread('image.png')     \n",
        "gray = rgb2gray(img)    \n",
        "plt.imshow(gray, cmap=plt.get_cmap('gray'), vmin=0, vmax=1)\n",
        "plt.show()"
      ],
      "execution_count": null,
      "outputs": []
    },
    {
      "cell_type": "markdown",
      "metadata": {
        "id": "oK24pPdLsGsF",
        "colab_type": "text"
      },
      "source": [
        "# Algoritmo LBP"
      ]
    },
    {
      "cell_type": "code",
      "metadata": {
        "id": "Dn3fRVfos0oC",
        "colab_type": "code",
        "colab": {}
      },
      "source": [
        ""
      ],
      "execution_count": null,
      "outputs": []
    }
  ]
}